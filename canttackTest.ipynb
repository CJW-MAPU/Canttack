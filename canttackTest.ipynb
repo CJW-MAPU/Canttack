{
 "cells": [
  {
   "cell_type": "code",
   "execution_count": 1,
   "metadata": {
    "collapsed": false,
    "ExecuteTime": {
     "end_time": "2024-11-04T02:52:29.557565100Z",
     "start_time": "2024-11-04T02:52:29.044553900Z"
    }
   },
   "outputs": [],
   "source": [
    "import pandas as pd\n",
    "from tqdm import tqdm\n",
    "import numpy as np\n",
    "import re"
   ]
  },
  {
   "cell_type": "code",
   "execution_count": 84,
   "outputs": [],
   "source": [
    "fd_dataset = pd.read_csv('data/fd_verify_added_scenario_5.csv')"
   ],
   "metadata": {
    "collapsed": false,
    "ExecuteTime": {
     "end_time": "2024-10-22T05:31:16.826428900Z",
     "start_time": "2024-10-22T05:31:09.142133200Z"
    }
   }
  },
  {
   "cell_type": "code",
   "execution_count": 95,
   "outputs": [
    {
     "data": {
      "text/plain": "8358442"
     },
     "execution_count": 95,
     "metadata": {},
     "output_type": "execute_result"
    }
   ],
   "source": [
    "len(fd_dataset[fd_dataset['label'] == 0])"
   ],
   "metadata": {
    "collapsed": false,
    "ExecuteTime": {
     "end_time": "2024-10-22T05:32:13.234961200Z",
     "start_time": "2024-10-22T05:32:12.831854200Z"
    }
   }
  },
  {
   "cell_type": "code",
   "execution_count": 37,
   "outputs": [],
   "source": [
    "can = pd.read_csv('data/can_data.csv')"
   ],
   "metadata": {
    "collapsed": false,
    "ExecuteTime": {
     "end_time": "2024-10-21T02:54:49.988912900Z",
     "start_time": "2024-10-21T02:54:46.716912600Z"
    }
   }
  },
  {
   "cell_type": "code",
   "execution_count": 38,
   "outputs": [],
   "source": [
    "can_filtered = can[(can['Timestamp'] > 325) & (can['Timestamp'] < 341)]"
   ],
   "metadata": {
    "collapsed": false,
    "ExecuteTime": {
     "end_time": "2024-10-21T02:54:50.037910600Z",
     "start_time": "2024-10-21T02:54:49.989914700Z"
    }
   }
  },
  {
   "cell_type": "code",
   "execution_count": 39,
   "outputs": [
    {
     "data": {
      "text/plain": "       Timestamp        ID  DLC                  Payload  label\n0      325.94738  00000356    8  00 00 00 80 23 00 00 00      0\n1      325.94760  00000366    7     32 18 0B 32 1F 00 01      0\n2      325.94785  00000367    8  00 00 00 00 05 00 00 00      0\n3      325.94809  00000153    8  20 80 10 FF 00 FF 90 3E      0\n4      325.94832  00000220    8  DB C3 76 A8 05 FD 8F 54      0\n...          ...       ...  ...                      ...    ...\n36197  340.99830  00000153    8  20 80 10 FF 00 FF E0 8E      0\n36198  340.99853  00000368    8  00 17 63 00 04 E8 0F 48      0\n36199  340.99878  00000479    8  2C 00 00 00 00 00 00 00      0\n36200  340.99902  0000047F    8  00 68 FF FA 00 78 00 93      0\n36201  340.99993  00000130    8  BC 7E 78 7E 00 00 02 DA      0\n\n[36202 rows x 5 columns]",
      "text/html": "<div>\n<style scoped>\n    .dataframe tbody tr th:only-of-type {\n        vertical-align: middle;\n    }\n\n    .dataframe tbody tr th {\n        vertical-align: top;\n    }\n\n    .dataframe thead th {\n        text-align: right;\n    }\n</style>\n<table border=\"1\" class=\"dataframe\">\n  <thead>\n    <tr style=\"text-align: right;\">\n      <th></th>\n      <th>Timestamp</th>\n      <th>ID</th>\n      <th>DLC</th>\n      <th>Payload</th>\n      <th>label</th>\n    </tr>\n  </thead>\n  <tbody>\n    <tr>\n      <th>0</th>\n      <td>325.94738</td>\n      <td>00000356</td>\n      <td>8</td>\n      <td>00 00 00 80 23 00 00 00</td>\n      <td>0</td>\n    </tr>\n    <tr>\n      <th>1</th>\n      <td>325.94760</td>\n      <td>00000366</td>\n      <td>7</td>\n      <td>32 18 0B 32 1F 00 01</td>\n      <td>0</td>\n    </tr>\n    <tr>\n      <th>2</th>\n      <td>325.94785</td>\n      <td>00000367</td>\n      <td>8</td>\n      <td>00 00 00 00 05 00 00 00</td>\n      <td>0</td>\n    </tr>\n    <tr>\n      <th>3</th>\n      <td>325.94809</td>\n      <td>00000153</td>\n      <td>8</td>\n      <td>20 80 10 FF 00 FF 90 3E</td>\n      <td>0</td>\n    </tr>\n    <tr>\n      <th>4</th>\n      <td>325.94832</td>\n      <td>00000220</td>\n      <td>8</td>\n      <td>DB C3 76 A8 05 FD 8F 54</td>\n      <td>0</td>\n    </tr>\n    <tr>\n      <th>...</th>\n      <td>...</td>\n      <td>...</td>\n      <td>...</td>\n      <td>...</td>\n      <td>...</td>\n    </tr>\n    <tr>\n      <th>36197</th>\n      <td>340.99830</td>\n      <td>00000153</td>\n      <td>8</td>\n      <td>20 80 10 FF 00 FF E0 8E</td>\n      <td>0</td>\n    </tr>\n    <tr>\n      <th>36198</th>\n      <td>340.99853</td>\n      <td>00000368</td>\n      <td>8</td>\n      <td>00 17 63 00 04 E8 0F 48</td>\n      <td>0</td>\n    </tr>\n    <tr>\n      <th>36199</th>\n      <td>340.99878</td>\n      <td>00000479</td>\n      <td>8</td>\n      <td>2C 00 00 00 00 00 00 00</td>\n      <td>0</td>\n    </tr>\n    <tr>\n      <th>36200</th>\n      <td>340.99902</td>\n      <td>0000047F</td>\n      <td>8</td>\n      <td>00 68 FF FA 00 78 00 93</td>\n      <td>0</td>\n    </tr>\n    <tr>\n      <th>36201</th>\n      <td>340.99993</td>\n      <td>00000130</td>\n      <td>8</td>\n      <td>BC 7E 78 7E 00 00 02 DA</td>\n      <td>0</td>\n    </tr>\n  </tbody>\n</table>\n<p>36202 rows × 5 columns</p>\n</div>"
     },
     "execution_count": 39,
     "metadata": {},
     "output_type": "execute_result"
    }
   ],
   "source": [
    "can_filtered"
   ],
   "metadata": {
    "collapsed": false,
    "ExecuteTime": {
     "end_time": "2024-10-21T02:54:50.040914Z",
     "start_time": "2024-10-21T02:54:50.020886300Z"
    }
   }
  },
  {
   "cell_type": "code",
   "execution_count": 23,
   "outputs": [
    {
     "data": {
      "text/plain": "array(['00000164', '0000007f', '00000386', '00000367', '00000555'],\n      dtype=object)"
     },
     "execution_count": 23,
     "metadata": {},
     "output_type": "execute_result"
    }
   ],
   "source": [
    "a = pd.read_csv('data/can_verify_added_scenario_5.csv')\n",
    "b = a[a['label'] == 1]\n",
    "b['ID'].unique()"
   ],
   "metadata": {
    "collapsed": false,
    "ExecuteTime": {
     "end_time": "2024-10-21T02:42:32.210865500Z",
     "start_time": "2024-10-21T02:42:25.499963100Z"
    }
   }
  },
  {
   "cell_type": "code",
   "execution_count": 28,
   "outputs": [],
   "source": [
    "attack_1 = b[b['ID'] == '00000164'].head(1)\n",
    "attack_2 = b[b['ID'] == '0000007f'].head(1)\n",
    "attack_3 = b[b['ID'] == '00000386'].head(1)\n",
    "attack_4 = b[b['ID'] == '00000367'].head(1)\n",
    "attack_5 = b[b['ID'] == '00000555'].head(1)"
   ],
   "metadata": {
    "collapsed": false,
    "ExecuteTime": {
     "end_time": "2024-10-21T02:46:02.402583500Z",
     "start_time": "2024-10-21T02:46:01.158583100Z"
    }
   }
  },
  {
   "cell_type": "code",
   "execution_count": 32,
   "outputs": [],
   "source": [
    "attack_list = [attack_1, attack_2, attack_3, attack_4, attack_5]"
   ],
   "metadata": {
    "collapsed": false,
    "ExecuteTime": {
     "end_time": "2024-10-21T02:50:15.500953Z",
     "start_time": "2024-10-21T02:50:15.429954300Z"
    }
   }
  },
  {
   "cell_type": "code",
   "execution_count": 40,
   "outputs": [],
   "source": [
    "for attack in attack_list:\n",
    "    for i in range(10):\n",
    "        timestamp = np.random.uniform(330, 335, size = 1)\n",
    "        timestamp = np.round(timestamp, 6)\n",
    "        attack['Timestamp'] = timestamp\n",
    "        can_filtered = pd.concat([can_filtered, attack], ignore_index = True)"
   ],
   "metadata": {
    "collapsed": false,
    "ExecuteTime": {
     "end_time": "2024-10-21T02:55:04.542736500Z",
     "start_time": "2024-10-21T02:55:04.471711100Z"
    }
   }
  },
  {
   "cell_type": "code",
   "execution_count": 41,
   "outputs": [],
   "source": [
    "can_filtered = can_filtered.sort_values(['Timestamp'])"
   ],
   "metadata": {
    "collapsed": false,
    "ExecuteTime": {
     "end_time": "2024-10-21T02:55:06.054647200Z",
     "start_time": "2024-10-21T02:55:05.995619800Z"
    }
   }
  },
  {
   "cell_type": "code",
   "execution_count": 43,
   "outputs": [],
   "source": [
    "can_filtered.to_csv('./verify/can_verify_dataset.csv', sep = ',', index = False)"
   ],
   "metadata": {
    "collapsed": false,
    "ExecuteTime": {
     "end_time": "2024-10-21T02:57:19.345590800Z",
     "start_time": "2024-10-21T02:57:19.225566900Z"
    }
   }
  },
  {
   "cell_type": "code",
   "execution_count": 69,
   "outputs": [],
   "source": [
    "can_verify = pd.read_csv('./verify/can_verify_dataset.csv')\n",
    "fd_verify = pd.read_csv('./verify/fd_verify_dataset.csv')"
   ],
   "metadata": {
    "collapsed": false,
    "ExecuteTime": {
     "end_time": "2024-10-22T05:16:27.207280200Z",
     "start_time": "2024-10-22T05:16:27.108292Z"
    }
   }
  },
  {
   "cell_type": "code",
   "execution_count": 79,
   "outputs": [
    {
     "data": {
      "text/plain": "        Timestamp        ID  DLC                  Payload  label\n10931  330.489580  00000386    8  00 00 00 00 FF FF 55 55      1\n11485  330.721056  00000386    8  00 00 00 00 FF FF 55 55      1\n12662  331.204891  00000386    8  00 00 00 00 FF FF 55 55      1\n17420  333.176196  00000386    8  00 00 00 00 FF FF 55 55      1\n17787  333.329731  00000386    8  00 00 00 00 FF FF 55 55      1\n18255  333.525091  00000386    8  00 00 00 00 FF FF 55 55      1\n18661  333.689042  00000386    8  00 00 00 00 FF FF 55 55      1\n18756  333.729434  00000386    8  00 00 00 00 FF FF 55 55      1\n18907  333.789195  00000386    8  00 00 00 00 FF FF 55 55      1\n20794  334.573008  00000386    8  00 00 00 00 FF FF 55 55      1",
      "text/html": "<div>\n<style scoped>\n    .dataframe tbody tr th:only-of-type {\n        vertical-align: middle;\n    }\n\n    .dataframe tbody tr th {\n        vertical-align: top;\n    }\n\n    .dataframe thead th {\n        text-align: right;\n    }\n</style>\n<table border=\"1\" class=\"dataframe\">\n  <thead>\n    <tr style=\"text-align: right;\">\n      <th></th>\n      <th>Timestamp</th>\n      <th>ID</th>\n      <th>DLC</th>\n      <th>Payload</th>\n      <th>label</th>\n    </tr>\n  </thead>\n  <tbody>\n    <tr>\n      <th>10931</th>\n      <td>330.489580</td>\n      <td>00000386</td>\n      <td>8</td>\n      <td>00 00 00 00 FF FF 55 55</td>\n      <td>1</td>\n    </tr>\n    <tr>\n      <th>11485</th>\n      <td>330.721056</td>\n      <td>00000386</td>\n      <td>8</td>\n      <td>00 00 00 00 FF FF 55 55</td>\n      <td>1</td>\n    </tr>\n    <tr>\n      <th>12662</th>\n      <td>331.204891</td>\n      <td>00000386</td>\n      <td>8</td>\n      <td>00 00 00 00 FF FF 55 55</td>\n      <td>1</td>\n    </tr>\n    <tr>\n      <th>17420</th>\n      <td>333.176196</td>\n      <td>00000386</td>\n      <td>8</td>\n      <td>00 00 00 00 FF FF 55 55</td>\n      <td>1</td>\n    </tr>\n    <tr>\n      <th>17787</th>\n      <td>333.329731</td>\n      <td>00000386</td>\n      <td>8</td>\n      <td>00 00 00 00 FF FF 55 55</td>\n      <td>1</td>\n    </tr>\n    <tr>\n      <th>18255</th>\n      <td>333.525091</td>\n      <td>00000386</td>\n      <td>8</td>\n      <td>00 00 00 00 FF FF 55 55</td>\n      <td>1</td>\n    </tr>\n    <tr>\n      <th>18661</th>\n      <td>333.689042</td>\n      <td>00000386</td>\n      <td>8</td>\n      <td>00 00 00 00 FF FF 55 55</td>\n      <td>1</td>\n    </tr>\n    <tr>\n      <th>18756</th>\n      <td>333.729434</td>\n      <td>00000386</td>\n      <td>8</td>\n      <td>00 00 00 00 FF FF 55 55</td>\n      <td>1</td>\n    </tr>\n    <tr>\n      <th>18907</th>\n      <td>333.789195</td>\n      <td>00000386</td>\n      <td>8</td>\n      <td>00 00 00 00 FF FF 55 55</td>\n      <td>1</td>\n    </tr>\n    <tr>\n      <th>20794</th>\n      <td>334.573008</td>\n      <td>00000386</td>\n      <td>8</td>\n      <td>00 00 00 00 FF FF 55 55</td>\n      <td>1</td>\n    </tr>\n  </tbody>\n</table>\n</div>"
     },
     "execution_count": 79,
     "metadata": {},
     "output_type": "execute_result"
    }
   ],
   "source": [
    "can_verify_attack = can_verify[can_verify['label'] == 1]\n",
    "can_verify_attack[can_verify_attack['ID'] == '00000386']"
   ],
   "metadata": {
    "collapsed": false,
    "ExecuteTime": {
     "end_time": "2024-10-22T05:22:31.767157700Z",
     "start_time": "2024-10-22T05:22:31.633138900Z"
    }
   }
  },
  {
   "cell_type": "code",
   "execution_count": 83,
   "outputs": [
    {
     "data": {
      "text/plain": "       Timestamp        ID DLC                                 Payload  label\n0   1.726212e+12  000000BA   D  D0 55 26 FF 00 00 24 00 00 00 2C 00 00      1\n5   1.726212e+12  000000BA   D  D0 55 26 FF 00 00 24 00 00 00 2C 00 00      1\n8   1.726212e+12  000000BA   D  D0 55 26 FF 00 00 24 00 00 00 2C 00 00      1\n10  1.726212e+12  000000BA   D  D0 55 26 FF 00 00 24 00 00 00 2C 00 00      1\n30  1.726212e+12  000000BA   D  D0 55 26 FF 00 00 24 00 00 00 2C 00 00      1\n40  1.726212e+12  000000BA   D  D0 55 26 FF 00 00 24 00 00 00 2C 00 00      1\n51  1.726212e+12  000000BA   D  D0 55 26 FF 00 00 24 00 00 00 2C 00 00      1\n57  1.726212e+12  000000BA   D  D0 55 26 FF 00 00 24 00 00 00 2C 00 00      1\n69  1.726212e+12  000000BA   D  D0 55 26 FF 00 00 24 00 00 00 2C 00 00      1\n75  1.726212e+12  000000BA   D  D0 55 26 FF 00 00 24 00 00 00 2C 00 00      1",
      "text/html": "<div>\n<style scoped>\n    .dataframe tbody tr th:only-of-type {\n        vertical-align: middle;\n    }\n\n    .dataframe tbody tr th {\n        vertical-align: top;\n    }\n\n    .dataframe thead th {\n        text-align: right;\n    }\n</style>\n<table border=\"1\" class=\"dataframe\">\n  <thead>\n    <tr style=\"text-align: right;\">\n      <th></th>\n      <th>Timestamp</th>\n      <th>ID</th>\n      <th>DLC</th>\n      <th>Payload</th>\n      <th>label</th>\n    </tr>\n  </thead>\n  <tbody>\n    <tr>\n      <th>0</th>\n      <td>1.726212e+12</td>\n      <td>000000BA</td>\n      <td>D</td>\n      <td>D0 55 26 FF 00 00 24 00 00 00 2C 00 00</td>\n      <td>1</td>\n    </tr>\n    <tr>\n      <th>5</th>\n      <td>1.726212e+12</td>\n      <td>000000BA</td>\n      <td>D</td>\n      <td>D0 55 26 FF 00 00 24 00 00 00 2C 00 00</td>\n      <td>1</td>\n    </tr>\n    <tr>\n      <th>8</th>\n      <td>1.726212e+12</td>\n      <td>000000BA</td>\n      <td>D</td>\n      <td>D0 55 26 FF 00 00 24 00 00 00 2C 00 00</td>\n      <td>1</td>\n    </tr>\n    <tr>\n      <th>10</th>\n      <td>1.726212e+12</td>\n      <td>000000BA</td>\n      <td>D</td>\n      <td>D0 55 26 FF 00 00 24 00 00 00 2C 00 00</td>\n      <td>1</td>\n    </tr>\n    <tr>\n      <th>30</th>\n      <td>1.726212e+12</td>\n      <td>000000BA</td>\n      <td>D</td>\n      <td>D0 55 26 FF 00 00 24 00 00 00 2C 00 00</td>\n      <td>1</td>\n    </tr>\n    <tr>\n      <th>40</th>\n      <td>1.726212e+12</td>\n      <td>000000BA</td>\n      <td>D</td>\n      <td>D0 55 26 FF 00 00 24 00 00 00 2C 00 00</td>\n      <td>1</td>\n    </tr>\n    <tr>\n      <th>51</th>\n      <td>1.726212e+12</td>\n      <td>000000BA</td>\n      <td>D</td>\n      <td>D0 55 26 FF 00 00 24 00 00 00 2C 00 00</td>\n      <td>1</td>\n    </tr>\n    <tr>\n      <th>57</th>\n      <td>1.726212e+12</td>\n      <td>000000BA</td>\n      <td>D</td>\n      <td>D0 55 26 FF 00 00 24 00 00 00 2C 00 00</td>\n      <td>1</td>\n    </tr>\n    <tr>\n      <th>69</th>\n      <td>1.726212e+12</td>\n      <td>000000BA</td>\n      <td>D</td>\n      <td>D0 55 26 FF 00 00 24 00 00 00 2C 00 00</td>\n      <td>1</td>\n    </tr>\n    <tr>\n      <th>75</th>\n      <td>1.726212e+12</td>\n      <td>000000BA</td>\n      <td>D</td>\n      <td>D0 55 26 FF 00 00 24 00 00 00 2C 00 00</td>\n      <td>1</td>\n    </tr>\n  </tbody>\n</table>\n</div>"
     },
     "execution_count": 83,
     "metadata": {},
     "output_type": "execute_result"
    }
   ],
   "source": [
    "fd_verify_attack = fd_verify[fd_verify['label'] == 1]\n",
    "fd_verify_attack[fd_verify_attack['ID'] == '000000BA']"
   ],
   "metadata": {
    "collapsed": false,
    "ExecuteTime": {
     "end_time": "2024-10-22T05:23:25.572631Z",
     "start_time": "2024-10-22T05:23:25.528604Z"
    }
   }
  },
  {
   "cell_type": "code",
   "execution_count": 45,
   "outputs": [],
   "source": [
    "fd = pd.read_csv('data/new_carnival_fd_data.csv')"
   ],
   "metadata": {
    "collapsed": false,
    "ExecuteTime": {
     "end_time": "2024-10-21T02:58:26.515505700Z",
     "start_time": "2024-10-21T02:58:20.621279300Z"
    }
   }
  },
  {
   "cell_type": "code",
   "execution_count": 50,
   "outputs": [],
   "source": [
    "fd_filtered = fd[(fd['Timestamp'] > 1726211611967) & (fd['Timestamp'] < 1726211611983)]"
   ],
   "metadata": {
    "collapsed": false,
    "ExecuteTime": {
     "end_time": "2024-10-21T03:09:49.343164100Z",
     "start_time": "2024-10-21T03:09:49.264164200Z"
    }
   }
  },
  {
   "cell_type": "code",
   "execution_count": 51,
   "outputs": [
    {
     "data": {
      "text/plain": "array(['00000555', '000000BA', '00000260', '0000006A', '000001AA'],\n      dtype=object)"
     },
     "execution_count": 51,
     "metadata": {},
     "output_type": "execute_result"
    }
   ],
   "source": [
    "a = pd.read_csv('data/fd_verify_added_scenario_5.csv')\n",
    "b = a[a['label'] == 1]\n",
    "b['ID'].unique()"
   ],
   "metadata": {
    "collapsed": false,
    "ExecuteTime": {
     "end_time": "2024-10-21T03:10:15.408548500Z",
     "start_time": "2024-10-21T03:10:08.748880700Z"
    }
   }
  },
  {
   "cell_type": "code",
   "execution_count": 52,
   "outputs": [],
   "source": [
    "attack_1 = b[b['ID'] == '000000BA'].head(1)\n",
    "attack_2 = b[b['ID'] == '00000260'].head(1)\n",
    "attack_3 = b[b['ID'] == '0000006A'].head(1)\n",
    "attack_4 = b[b['ID'] == '000001AA'].head(1)\n",
    "attack_5 = b[b['ID'] == '00000555'].head(1)"
   ],
   "metadata": {
    "collapsed": false,
    "ExecuteTime": {
     "end_time": "2024-10-21T03:10:35.825062900Z",
     "start_time": "2024-10-21T03:10:35.496091Z"
    }
   }
  },
  {
   "cell_type": "code",
   "execution_count": 53,
   "outputs": [],
   "source": [
    "attack_list = [attack_1, attack_2, attack_3, attack_4, attack_5]"
   ],
   "metadata": {
    "collapsed": false,
    "ExecuteTime": {
     "end_time": "2024-10-21T03:10:39.955144600Z",
     "start_time": "2024-10-21T03:10:39.895117300Z"
    }
   }
  },
  {
   "cell_type": "markdown",
   "source": [],
   "metadata": {
    "collapsed": false
   }
  },
  {
   "cell_type": "code",
   "execution_count": 58,
   "outputs": [],
   "source": [
    "for attack in attack_list:\n",
    "    for i in range(10):\n",
    "        timestamp = np.random.uniform(1726211611967, 1726211611983, size = 1)\n",
    "        timestamp = np.round(timestamp, 1)\n",
    "        attack['Timestamp'] = timestamp\n",
    "        fd_filtered = pd.concat([fd_filtered, attack], ignore_index = True)"
   ],
   "metadata": {
    "collapsed": false,
    "ExecuteTime": {
     "end_time": "2024-10-21T03:11:58.872708800Z",
     "start_time": "2024-10-21T03:11:58.790674200Z"
    }
   }
  },
  {
   "cell_type": "code",
   "execution_count": 59,
   "outputs": [],
   "source": [
    "fd_filtered = fd_filtered.sort_values(['Timestamp'])"
   ],
   "metadata": {
    "collapsed": false,
    "ExecuteTime": {
     "end_time": "2024-10-21T03:12:02.027619500Z",
     "start_time": "2024-10-21T03:12:01.988593200Z"
    }
   }
  },
  {
   "cell_type": "code",
   "execution_count": 61,
   "outputs": [
    {
     "data": {
      "text/plain": "       Timestamp        ID DLC  \\\n30  1.726212e+12  000000BA   D   \n0   1.726212e+12  00000001   4   \n1   1.726212e+12  0000012A   A   \n58  1.726212e+12  000001AA   A   \n2   1.726212e+12  0000011A   A   \n..           ...       ...  ..   \n24  1.726212e+12  0000015A   8   \n38  1.726212e+12  00000260   4   \n25  1.726212e+12  0000004A   D   \n75  1.726212e+12  00000555  10   \n33  1.726212e+12  000000BA   D   \n\n                                            Payload  label  \n30           D0 55 26 FF 00 00 24 00 00 00 2C 00 00      1  \n0                                       00 00 00 00      0  \n1                     98 30 2C 06 00 00 08 00 00 00      0  \n58                    17 D5 6A 00 00 98 FF FF FF FF      1  \n2                     7B 4E 2C 05 80 08 A8 02 00 05      0  \n..                                              ...    ...  \n24                          7B C0 4E 00 00 80 57 00      0  \n38  26 26 26 26 26 26 26 26 26 26 26 26 26 26 26 26      1  \n25           C4 C3 3D 00 00 00 02 00 CB 7F D1 7F 0D      0  \n75  55 55 55 55 55 55 55 55 55 55 55 55 55 55 55 55      1  \n33           D0 55 26 FF 00 00 24 00 00 00 2C 00 00      1  \n\n[76 rows x 5 columns]",
      "text/html": "<div>\n<style scoped>\n    .dataframe tbody tr th:only-of-type {\n        vertical-align: middle;\n    }\n\n    .dataframe tbody tr th {\n        vertical-align: top;\n    }\n\n    .dataframe thead th {\n        text-align: right;\n    }\n</style>\n<table border=\"1\" class=\"dataframe\">\n  <thead>\n    <tr style=\"text-align: right;\">\n      <th></th>\n      <th>Timestamp</th>\n      <th>ID</th>\n      <th>DLC</th>\n      <th>Payload</th>\n      <th>label</th>\n    </tr>\n  </thead>\n  <tbody>\n    <tr>\n      <th>30</th>\n      <td>1.726212e+12</td>\n      <td>000000BA</td>\n      <td>D</td>\n      <td>D0 55 26 FF 00 00 24 00 00 00 2C 00 00</td>\n      <td>1</td>\n    </tr>\n    <tr>\n      <th>0</th>\n      <td>1.726212e+12</td>\n      <td>00000001</td>\n      <td>4</td>\n      <td>00 00 00 00</td>\n      <td>0</td>\n    </tr>\n    <tr>\n      <th>1</th>\n      <td>1.726212e+12</td>\n      <td>0000012A</td>\n      <td>A</td>\n      <td>98 30 2C 06 00 00 08 00 00 00</td>\n      <td>0</td>\n    </tr>\n    <tr>\n      <th>58</th>\n      <td>1.726212e+12</td>\n      <td>000001AA</td>\n      <td>A</td>\n      <td>17 D5 6A 00 00 98 FF FF FF FF</td>\n      <td>1</td>\n    </tr>\n    <tr>\n      <th>2</th>\n      <td>1.726212e+12</td>\n      <td>0000011A</td>\n      <td>A</td>\n      <td>7B 4E 2C 05 80 08 A8 02 00 05</td>\n      <td>0</td>\n    </tr>\n    <tr>\n      <th>...</th>\n      <td>...</td>\n      <td>...</td>\n      <td>...</td>\n      <td>...</td>\n      <td>...</td>\n    </tr>\n    <tr>\n      <th>24</th>\n      <td>1.726212e+12</td>\n      <td>0000015A</td>\n      <td>8</td>\n      <td>7B C0 4E 00 00 80 57 00</td>\n      <td>0</td>\n    </tr>\n    <tr>\n      <th>38</th>\n      <td>1.726212e+12</td>\n      <td>00000260</td>\n      <td>4</td>\n      <td>26 26 26 26 26 26 26 26 26 26 26 26 26 26 26 26</td>\n      <td>1</td>\n    </tr>\n    <tr>\n      <th>25</th>\n      <td>1.726212e+12</td>\n      <td>0000004A</td>\n      <td>D</td>\n      <td>C4 C3 3D 00 00 00 02 00 CB 7F D1 7F 0D</td>\n      <td>0</td>\n    </tr>\n    <tr>\n      <th>75</th>\n      <td>1.726212e+12</td>\n      <td>00000555</td>\n      <td>10</td>\n      <td>55 55 55 55 55 55 55 55 55 55 55 55 55 55 55 55</td>\n      <td>1</td>\n    </tr>\n    <tr>\n      <th>33</th>\n      <td>1.726212e+12</td>\n      <td>000000BA</td>\n      <td>D</td>\n      <td>D0 55 26 FF 00 00 24 00 00 00 2C 00 00</td>\n      <td>1</td>\n    </tr>\n  </tbody>\n</table>\n<p>76 rows × 5 columns</p>\n</div>"
     },
     "execution_count": 61,
     "metadata": {},
     "output_type": "execute_result"
    }
   ],
   "source": [
    "fd_filtered"
   ],
   "metadata": {
    "collapsed": false,
    "ExecuteTime": {
     "end_time": "2024-10-21T03:12:07.171056100Z",
     "start_time": "2024-10-21T03:12:07.103054900Z"
    }
   }
  },
  {
   "cell_type": "code",
   "execution_count": 62,
   "outputs": [],
   "source": [
    "fd_filtered.to_csv('./verify/fd_verify_dataset.csv', sep = ',', index = False)"
   ],
   "metadata": {
    "collapsed": false,
    "ExecuteTime": {
     "end_time": "2024-10-21T03:12:25.838038900Z",
     "start_time": "2024-10-21T03:12:25.759040800Z"
    }
   }
  },
  {
   "cell_type": "code",
   "execution_count": 14,
   "outputs": [
    {
     "data": {
      "text/plain": "array(['00000164', '0000007f', '00000386', '00000367', '00000555'],\n      dtype=object)"
     },
     "execution_count": 14,
     "metadata": {},
     "output_type": "execute_result"
    }
   ],
   "source": [
    "a[a['label'] == 1]['ID'].unique()"
   ],
   "metadata": {
    "collapsed": false,
    "ExecuteTime": {
     "end_time": "2024-10-18T06:04:03.725773600Z",
     "start_time": "2024-10-18T06:04:03.339741400Z"
    }
   }
  },
  {
   "cell_type": "code",
   "execution_count": 15,
   "outputs": [
    {
     "data": {
      "text/plain": "           Timestamp        ID  DLC                  Payload  label\n3422       327.37233  00000164    4  26 26 26 26 26 26 26 26      1\n3424       327.37258  00000164    4  26 26 26 26 26 26 26 26      1\n3426       327.37283  00000164    4  26 26 26 26 26 26 26 26      1\n3428       327.37308  00000164    4  26 26 26 26 26 26 26 26      1\n3429       327.37333  00000164    4  26 26 26 26 26 26 26 26      1\n...              ...       ...  ...                      ...    ...\n10470333  2615.56993  00000164    4  26 26 26 26 26 26 26 26      1\n10470335  2615.57018  00000164    4  26 26 26 26 26 26 26 26      1\n10470338  2615.57043  00000164    4  26 26 26 26 26 26 26 26      1\n10470341  2615.57068  00000164    4  26 26 26 26 26 26 26 26      1\n10470343  2615.57093  00000164    4  26 26 26 26 26 26 26 26      1\n\n[1000000 rows x 5 columns]",
      "text/html": "<div>\n<style scoped>\n    .dataframe tbody tr th:only-of-type {\n        vertical-align: middle;\n    }\n\n    .dataframe tbody tr th {\n        vertical-align: top;\n    }\n\n    .dataframe thead th {\n        text-align: right;\n    }\n</style>\n<table border=\"1\" class=\"dataframe\">\n  <thead>\n    <tr style=\"text-align: right;\">\n      <th></th>\n      <th>Timestamp</th>\n      <th>ID</th>\n      <th>DLC</th>\n      <th>Payload</th>\n      <th>label</th>\n    </tr>\n  </thead>\n  <tbody>\n    <tr>\n      <th>3422</th>\n      <td>327.37233</td>\n      <td>00000164</td>\n      <td>4</td>\n      <td>26 26 26 26 26 26 26 26</td>\n      <td>1</td>\n    </tr>\n    <tr>\n      <th>3424</th>\n      <td>327.37258</td>\n      <td>00000164</td>\n      <td>4</td>\n      <td>26 26 26 26 26 26 26 26</td>\n      <td>1</td>\n    </tr>\n    <tr>\n      <th>3426</th>\n      <td>327.37283</td>\n      <td>00000164</td>\n      <td>4</td>\n      <td>26 26 26 26 26 26 26 26</td>\n      <td>1</td>\n    </tr>\n    <tr>\n      <th>3428</th>\n      <td>327.37308</td>\n      <td>00000164</td>\n      <td>4</td>\n      <td>26 26 26 26 26 26 26 26</td>\n      <td>1</td>\n    </tr>\n    <tr>\n      <th>3429</th>\n      <td>327.37333</td>\n      <td>00000164</td>\n      <td>4</td>\n      <td>26 26 26 26 26 26 26 26</td>\n      <td>1</td>\n    </tr>\n    <tr>\n      <th>...</th>\n      <td>...</td>\n      <td>...</td>\n      <td>...</td>\n      <td>...</td>\n      <td>...</td>\n    </tr>\n    <tr>\n      <th>10470333</th>\n      <td>2615.56993</td>\n      <td>00000164</td>\n      <td>4</td>\n      <td>26 26 26 26 26 26 26 26</td>\n      <td>1</td>\n    </tr>\n    <tr>\n      <th>10470335</th>\n      <td>2615.57018</td>\n      <td>00000164</td>\n      <td>4</td>\n      <td>26 26 26 26 26 26 26 26</td>\n      <td>1</td>\n    </tr>\n    <tr>\n      <th>10470338</th>\n      <td>2615.57043</td>\n      <td>00000164</td>\n      <td>4</td>\n      <td>26 26 26 26 26 26 26 26</td>\n      <td>1</td>\n    </tr>\n    <tr>\n      <th>10470341</th>\n      <td>2615.57068</td>\n      <td>00000164</td>\n      <td>4</td>\n      <td>26 26 26 26 26 26 26 26</td>\n      <td>1</td>\n    </tr>\n    <tr>\n      <th>10470343</th>\n      <td>2615.57093</td>\n      <td>00000164</td>\n      <td>4</td>\n      <td>26 26 26 26 26 26 26 26</td>\n      <td>1</td>\n    </tr>\n  </tbody>\n</table>\n<p>1000000 rows × 5 columns</p>\n</div>"
     },
     "execution_count": 15,
     "metadata": {},
     "output_type": "execute_result"
    }
   ],
   "source": [
    "b = a[a['ID'] == '00000164']\n",
    "b[b['label'] == 1]"
   ],
   "metadata": {
    "collapsed": false,
    "ExecuteTime": {
     "end_time": "2024-10-18T06:04:28.109818600Z",
     "start_time": "2024-10-18T06:04:27.330773400Z"
    }
   }
  },
  {
   "cell_type": "code",
   "execution_count": 2,
   "outputs": [],
   "source": [
    "with open('./raw-data/2024-11-01 10_16_02.613448.txt', 'r') as f:\n",
    "    data = f.read()"
   ],
   "metadata": {
    "collapsed": false,
    "ExecuteTime": {
     "end_time": "2024-11-02T07:02:22.111239900Z",
     "start_time": "2024-11-02T07:02:19.576448800Z"
    }
   }
  },
  {
   "cell_type": "code",
   "execution_count": 3,
   "outputs": [],
   "source": [
    "data_list = data.split()"
   ],
   "metadata": {
    "collapsed": false,
    "ExecuteTime": {
     "end_time": "2024-11-02T07:02:33.332156900Z",
     "start_time": "2024-11-02T07:02:22.613071600Z"
    }
   }
  },
  {
   "cell_type": "code",
   "execution_count": 4,
   "outputs": [
    {
     "data": {
      "text/plain": "167754496"
     },
     "execution_count": 4,
     "metadata": {},
     "output_type": "execute_result"
    }
   ],
   "source": [
    "len(data_list)"
   ],
   "metadata": {
    "collapsed": false,
    "ExecuteTime": {
     "end_time": "2024-11-02T07:02:33.359567200Z",
     "start_time": "2024-11-02T07:02:33.333125900Z"
    }
   }
  },
  {
   "cell_type": "code",
   "execution_count": 77,
   "outputs": [],
   "source": [
    "__HEX = ['0', '1', '2', '3', '4', '5', '6', '7', '8', '9', 'A', 'B', 'C', 'D', 'E', 'F']\n",
    "from random import randint"
   ],
   "metadata": {
    "collapsed": false,
    "ExecuteTime": {
     "end_time": "2024-09-23T08:33:31.549629300Z",
     "start_time": "2024-09-23T08:33:31.498604700Z"
    }
   }
  },
  {
   "cell_type": "code",
   "execution_count": 78,
   "outputs": [
    {
     "data": {
      "text/plain": "['81', 'CB', '73', 'A7', 'C3', '26', '16', '0A', 'D2', '87', '7E', 'C7', 'B2']"
     },
     "execution_count": 78,
     "metadata": {},
     "output_type": "execute_result"
    }
   ],
   "source": [
    "payload = [__HEX[randint(0, 15)] + __HEX[randint(0, 15)] for _ in range(7)]\n",
    "payload += ['0A']\n",
    "payload += [__HEX[randint(0, 15)] + __HEX[randint(0, 15)] for _ in range(5)]\n",
    "payload"
   ],
   "metadata": {
    "collapsed": false,
    "ExecuteTime": {
     "end_time": "2024-09-23T08:33:36.339056Z",
     "start_time": "2024-09-23T08:33:36.264029100Z"
    }
   }
  },
  {
   "cell_type": "code",
   "execution_count": 6,
   "outputs": [],
   "source": [
    "result = []\n",
    "i = 0\n",
    "\n",
    "while i < len(data_list):\n",
    "    timestamp = float(data_list[i])\n",
    "    id_value = f'00000{data_list[i + 1]}'\n",
    "    dlc = int(data_list[i + 2])\n",
    "    \n",
    "    payloads = data_list[i + 3: i + 3 + dlc]    \n",
    "    \n",
    "    payload = ' '.join(payloads)\n",
    "    # print([timestamp, id_value, hex(dlc)[2:].upper(), payload])\n",
    "    result.append([timestamp, id_value, hex(dlc)[2:].upper(), payload])\n",
    "    i += 3 + dlc"
   ],
   "metadata": {
    "collapsed": false,
    "ExecuteTime": {
     "end_time": "2024-11-02T07:03:40.529800800Z",
     "start_time": "2024-11-02T07:02:57.205747100Z"
    }
   }
  },
  {
   "cell_type": "code",
   "execution_count": 7,
   "outputs": [],
   "source": [
    "__COLUMNS = ['Timestamp', 'ID', 'DLC', 'Payload']\n",
    "dataframe = pd.DataFrame(columns = __COLUMNS, data = result)"
   ],
   "metadata": {
    "collapsed": false,
    "ExecuteTime": {
     "end_time": "2024-11-02T07:03:57.297859800Z",
     "start_time": "2024-11-02T07:03:55.664017400Z"
    }
   }
  },
  {
   "cell_type": "code",
   "execution_count": 8,
   "outputs": [],
   "source": [
    "dataframe['label'] = np.array([0 for i in range(len(dataframe))])"
   ],
   "metadata": {
    "collapsed": false,
    "ExecuteTime": {
     "end_time": "2024-11-02T07:03:58.653026100Z",
     "start_time": "2024-11-02T07:03:57.960681100Z"
    }
   }
  },
  {
   "cell_type": "code",
   "execution_count": 20,
   "outputs": [
    {
     "data": {
      "text/plain": "            Timestamp        ID DLC  \\\n10       1.730424e+12  000000B5  20   \n39       1.730424e+12  000000B5  20   \n56       1.730424e+12  000000B5  20   \n73       1.730424e+12  000000B5  20   \n91       1.730424e+12  000000B5  20   \n...               ...       ...  ..   \n6648329  1.730427e+12  000000B5  20   \n6648355  1.730427e+12  000000B5  20   \n6648372  1.730427e+12  000000B5  20   \n6648390  1.730427e+12  000000B5  20   \n6648411  1.730427e+12  000000B5  20   \n\n                                                   Payload  label  \n10       C0 E1 AB 27 00 00 1C 00 27 00 27 00 00 00 29 0...      0  \n39       0D 74 AC 27 00 00 1C 00 27 00 27 00 00 00 29 0...      0  \n56       4B 2D AD 27 00 00 1C 00 27 00 27 00 00 00 29 0...      0  \n73       81 C6 AE 27 00 00 1C 00 27 00 27 00 00 00 29 0...      0  \n91       4B D0 AF 27 00 00 1C 00 27 00 27 00 00 00 29 0...      0  \n...                                                    ...    ...  \n6648329  81 9E CD 1F 00 00 19 00 1F 00 20 00 00 00 32 0...      0  \n6648355  40 98 CE 20 00 00 19 00 20 00 20 00 00 00 32 0...      0  \n6648372  C3 2C CF 20 00 00 19 00 20 00 1F 00 00 00 32 0...      0  \n6648390  03 A6 D0 20 00 00 19 00 20 00 1F 00 00 00 32 0...      0  \n6648411  45 FF D1 20 00 00 19 00 20 00 1F 00 00 00 32 0...      0  \n\n[360487 rows x 5 columns]",
      "text/html": "<div>\n<style scoped>\n    .dataframe tbody tr th:only-of-type {\n        vertical-align: middle;\n    }\n\n    .dataframe tbody tr th {\n        vertical-align: top;\n    }\n\n    .dataframe thead th {\n        text-align: right;\n    }\n</style>\n<table border=\"1\" class=\"dataframe\">\n  <thead>\n    <tr style=\"text-align: right;\">\n      <th></th>\n      <th>Timestamp</th>\n      <th>ID</th>\n      <th>DLC</th>\n      <th>Payload</th>\n      <th>label</th>\n    </tr>\n  </thead>\n  <tbody>\n    <tr>\n      <th>10</th>\n      <td>1.730424e+12</td>\n      <td>000000B5</td>\n      <td>20</td>\n      <td>C0 E1 AB 27 00 00 1C 00 27 00 27 00 00 00 29 0...</td>\n      <td>0</td>\n    </tr>\n    <tr>\n      <th>39</th>\n      <td>1.730424e+12</td>\n      <td>000000B5</td>\n      <td>20</td>\n      <td>0D 74 AC 27 00 00 1C 00 27 00 27 00 00 00 29 0...</td>\n      <td>0</td>\n    </tr>\n    <tr>\n      <th>56</th>\n      <td>1.730424e+12</td>\n      <td>000000B5</td>\n      <td>20</td>\n      <td>4B 2D AD 27 00 00 1C 00 27 00 27 00 00 00 29 0...</td>\n      <td>0</td>\n    </tr>\n    <tr>\n      <th>73</th>\n      <td>1.730424e+12</td>\n      <td>000000B5</td>\n      <td>20</td>\n      <td>81 C6 AE 27 00 00 1C 00 27 00 27 00 00 00 29 0...</td>\n      <td>0</td>\n    </tr>\n    <tr>\n      <th>91</th>\n      <td>1.730424e+12</td>\n      <td>000000B5</td>\n      <td>20</td>\n      <td>4B D0 AF 27 00 00 1C 00 27 00 27 00 00 00 29 0...</td>\n      <td>0</td>\n    </tr>\n    <tr>\n      <th>...</th>\n      <td>...</td>\n      <td>...</td>\n      <td>...</td>\n      <td>...</td>\n      <td>...</td>\n    </tr>\n    <tr>\n      <th>6648329</th>\n      <td>1.730427e+12</td>\n      <td>000000B5</td>\n      <td>20</td>\n      <td>81 9E CD 1F 00 00 19 00 1F 00 20 00 00 00 32 0...</td>\n      <td>0</td>\n    </tr>\n    <tr>\n      <th>6648355</th>\n      <td>1.730427e+12</td>\n      <td>000000B5</td>\n      <td>20</td>\n      <td>40 98 CE 20 00 00 19 00 20 00 20 00 00 00 32 0...</td>\n      <td>0</td>\n    </tr>\n    <tr>\n      <th>6648372</th>\n      <td>1.730427e+12</td>\n      <td>000000B5</td>\n      <td>20</td>\n      <td>C3 2C CF 20 00 00 19 00 20 00 1F 00 00 00 32 0...</td>\n      <td>0</td>\n    </tr>\n    <tr>\n      <th>6648390</th>\n      <td>1.730427e+12</td>\n      <td>000000B5</td>\n      <td>20</td>\n      <td>03 A6 D0 20 00 00 19 00 20 00 1F 00 00 00 32 0...</td>\n      <td>0</td>\n    </tr>\n    <tr>\n      <th>6648411</th>\n      <td>1.730427e+12</td>\n      <td>000000B5</td>\n      <td>20</td>\n      <td>45 FF D1 20 00 00 19 00 20 00 1F 00 00 00 32 0...</td>\n      <td>0</td>\n    </tr>\n  </tbody>\n</table>\n<p>360487 rows × 5 columns</p>\n</div>"
     },
     "execution_count": 20,
     "metadata": {},
     "output_type": "execute_result"
    }
   ],
   "source": [
    "a = dataframe[dataframe['ID'] == '000000B5']\n",
    "a\n",
    "# a[a['Payload'] == \"E3 BC 40 10 00 A0 00 00 00 00 00 00 00 00 00 00\"]"
   ],
   "metadata": {
    "collapsed": false,
    "ExecuteTime": {
     "end_time": "2024-11-03T00:31:38.281923800Z",
     "start_time": "2024-11-03T00:31:37.319326900Z"
    }
   }
  },
  {
   "cell_type": "code",
   "execution_count": 10,
   "outputs": [],
   "source": [
    "dataframe.to_csv(f'data/carnival_stopped_data.csv', sep = ',', index = False)"
   ],
   "metadata": {
    "collapsed": false,
    "ExecuteTime": {
     "end_time": "2024-11-02T07:04:53.686917800Z",
     "start_time": "2024-11-02T07:04:34.049528Z"
    }
   }
  },
  {
   "cell_type": "code",
   "execution_count": 71,
   "outputs": [
    {
     "data": {
      "text/plain": "['00000001',\n '00000040',\n '0000004A',\n '00000060',\n '0000006A',\n '0000006F',\n '000000A0',\n '000000B5',\n '000000EA',\n '00000100',\n '0000011A',\n '00000125',\n '0000012A',\n '00000145',\n '0000015A',\n '00000160',\n '00000165',\n '00000170',\n '00000175',\n '000001A0',\n '000001AA',\n '000001BA',\n '000001E5',\n '000001F0',\n '0000020A',\n '00000225',\n '00000260',\n '0000037F',\n '000003E0',\n '000003FF',\n '00000405',\n '00000410',\n '00000411',\n '00000412',\n '00000413',\n '00000414',\n '00000416',\n '00000417',\n '00000418',\n '00000419',\n '00000489',\n '0000048A',\n '0000048F']"
     },
     "execution_count": 71,
     "metadata": {},
     "output_type": "execute_result"
    }
   ],
   "source": [
    "sorted(dataframe['ID'].unique().tolist())"
   ],
   "metadata": {
    "collapsed": false,
    "ExecuteTime": {
     "end_time": "2024-09-23T02:37:01.788259100Z",
     "start_time": "2024-09-23T02:37:01.161256300Z"
    }
   }
  },
  {
   "cell_type": "code",
   "execution_count": 75,
   "outputs": [
    {
     "data": {
      "text/plain": "            Timestamp        ID DLC                  Payload  label\n225      1.726212e+12  00000417   8  7B 10 00 95 30 01 00 00      0\n594      1.726212e+12  00000417   8  7B 10 00 95 30 01 00 00      0\n956      1.726212e+12  00000417   8  7B 10 00 95 30 01 00 00      0\n1325     1.726212e+12  00000417   8  7B 10 00 95 30 01 00 00      0\n1689     1.726212e+12  00000417   8  7B 10 00 95 30 01 00 00      0\n...               ...       ...  ..                      ...    ...\n8356664  1.726216e+12  00000417   8  93 40 00 95 30 00 00 00      0\n8357031  1.726216e+12  00000417   8  93 40 00 95 30 00 00 00      0\n8357398  1.726216e+12  00000417   8  93 40 00 95 30 00 00 00      0\n8357765  1.726216e+12  00000417   8  93 40 00 95 30 00 00 00      0\n8358133  1.726216e+12  00000417   8  93 40 00 95 30 00 00 00      0\n\n[22802 rows x 5 columns]",
      "text/html": "<div>\n<style scoped>\n    .dataframe tbody tr th:only-of-type {\n        vertical-align: middle;\n    }\n\n    .dataframe tbody tr th {\n        vertical-align: top;\n    }\n\n    .dataframe thead th {\n        text-align: right;\n    }\n</style>\n<table border=\"1\" class=\"dataframe\">\n  <thead>\n    <tr style=\"text-align: right;\">\n      <th></th>\n      <th>Timestamp</th>\n      <th>ID</th>\n      <th>DLC</th>\n      <th>Payload</th>\n      <th>label</th>\n    </tr>\n  </thead>\n  <tbody>\n    <tr>\n      <th>225</th>\n      <td>1.726212e+12</td>\n      <td>00000417</td>\n      <td>8</td>\n      <td>7B 10 00 95 30 01 00 00</td>\n      <td>0</td>\n    </tr>\n    <tr>\n      <th>594</th>\n      <td>1.726212e+12</td>\n      <td>00000417</td>\n      <td>8</td>\n      <td>7B 10 00 95 30 01 00 00</td>\n      <td>0</td>\n    </tr>\n    <tr>\n      <th>956</th>\n      <td>1.726212e+12</td>\n      <td>00000417</td>\n      <td>8</td>\n      <td>7B 10 00 95 30 01 00 00</td>\n      <td>0</td>\n    </tr>\n    <tr>\n      <th>1325</th>\n      <td>1.726212e+12</td>\n      <td>00000417</td>\n      <td>8</td>\n      <td>7B 10 00 95 30 01 00 00</td>\n      <td>0</td>\n    </tr>\n    <tr>\n      <th>1689</th>\n      <td>1.726212e+12</td>\n      <td>00000417</td>\n      <td>8</td>\n      <td>7B 10 00 95 30 01 00 00</td>\n      <td>0</td>\n    </tr>\n    <tr>\n      <th>...</th>\n      <td>...</td>\n      <td>...</td>\n      <td>...</td>\n      <td>...</td>\n      <td>...</td>\n    </tr>\n    <tr>\n      <th>8356664</th>\n      <td>1.726216e+12</td>\n      <td>00000417</td>\n      <td>8</td>\n      <td>93 40 00 95 30 00 00 00</td>\n      <td>0</td>\n    </tr>\n    <tr>\n      <th>8357031</th>\n      <td>1.726216e+12</td>\n      <td>00000417</td>\n      <td>8</td>\n      <td>93 40 00 95 30 00 00 00</td>\n      <td>0</td>\n    </tr>\n    <tr>\n      <th>8357398</th>\n      <td>1.726216e+12</td>\n      <td>00000417</td>\n      <td>8</td>\n      <td>93 40 00 95 30 00 00 00</td>\n      <td>0</td>\n    </tr>\n    <tr>\n      <th>8357765</th>\n      <td>1.726216e+12</td>\n      <td>00000417</td>\n      <td>8</td>\n      <td>93 40 00 95 30 00 00 00</td>\n      <td>0</td>\n    </tr>\n    <tr>\n      <th>8358133</th>\n      <td>1.726216e+12</td>\n      <td>00000417</td>\n      <td>8</td>\n      <td>93 40 00 95 30 00 00 00</td>\n      <td>0</td>\n    </tr>\n  </tbody>\n</table>\n<p>22802 rows × 5 columns</p>\n</div>"
     },
     "execution_count": 75,
     "metadata": {},
     "output_type": "execute_result"
    }
   ],
   "source": [
    "dataframe[dataframe['ID'] == '00000417']"
   ],
   "metadata": {
    "collapsed": false,
    "ExecuteTime": {
     "end_time": "2024-09-23T06:01:19.851846200Z",
     "start_time": "2024-09-23T06:01:19.612303900Z"
    }
   }
  },
  {
   "cell_type": "code",
   "execution_count": 2,
   "outputs": [],
   "source": [
    "a = pd.read_csv('data/carnival_pangyo.csv')"
   ],
   "metadata": {
    "collapsed": false,
    "ExecuteTime": {
     "end_time": "2024-07-23T07:11:47.177925600Z",
     "start_time": "2024-07-23T07:11:42.776546800Z"
    }
   }
  },
  {
   "cell_type": "code",
   "execution_count": 79,
   "outputs": [],
   "source": [
    "data = pd.read_csv('data/new_carnival_spoofing_06a_v2.csv')"
   ],
   "metadata": {
    "collapsed": false,
    "ExecuteTime": {
     "end_time": "2024-09-24T04:40:14.101754700Z",
     "start_time": "2024-09-24T04:40:07.628777800Z"
    }
   }
  },
  {
   "cell_type": "code",
   "execution_count": 80,
   "outputs": [
    {
     "data": {
      "text/plain": "            Timestamp   ID DLC                                 Payload  label\n17701    1.726212e+12  06A   D  75 71 D1 CF FD 66 EB 0A 99 2C CC FE 80      1\n17702    1.726212e+12  06A   D  B1 30 94 4D 00 EB 66 0A CB D5 04 41 C9      1\n17703    1.726212e+12  06A   D  6D C8 C3 08 12 F6 5B 0A F7 1C 26 D3 1E      1\n17704    1.726212e+12  06A   D  E2 31 7E 16 E8 A1 57 0A FD AC 91 0A B7      1\n17705    1.726212e+12  06A   D  16 8E E0 A8 45 75 B4 0A 18 2C F5 D7 13      1\n...               ...  ...  ..                                     ...    ...\n8531811  1.726216e+12  06A   D  39 86 CC C8 AA 40 0B 0A 6C 06 23 4C FB      1\n8531812  1.726216e+12  06A   D  90 BB 90 7C F4 2D DB 0A B7 72 E6 B0 FA      1\n8531813  1.726216e+12  06A   D  B5 AA F5 4B 54 2F AA 0A 1D C2 D2 9D 2A      1\n8531814  1.726216e+12  06A   D  37 80 73 28 2B 95 24 0A 19 0E 91 01 2D      1\n8531815  1.726216e+12  06A   D  9E 02 E3 C6 AD D9 EE 0A C7 B9 B8 78 7B      1\n\n[200000 rows x 5 columns]",
      "text/html": "<div>\n<style scoped>\n    .dataframe tbody tr th:only-of-type {\n        vertical-align: middle;\n    }\n\n    .dataframe tbody tr th {\n        vertical-align: top;\n    }\n\n    .dataframe thead th {\n        text-align: right;\n    }\n</style>\n<table border=\"1\" class=\"dataframe\">\n  <thead>\n    <tr style=\"text-align: right;\">\n      <th></th>\n      <th>Timestamp</th>\n      <th>ID</th>\n      <th>DLC</th>\n      <th>Payload</th>\n      <th>label</th>\n    </tr>\n  </thead>\n  <tbody>\n    <tr>\n      <th>17701</th>\n      <td>1.726212e+12</td>\n      <td>06A</td>\n      <td>D</td>\n      <td>75 71 D1 CF FD 66 EB 0A 99 2C CC FE 80</td>\n      <td>1</td>\n    </tr>\n    <tr>\n      <th>17702</th>\n      <td>1.726212e+12</td>\n      <td>06A</td>\n      <td>D</td>\n      <td>B1 30 94 4D 00 EB 66 0A CB D5 04 41 C9</td>\n      <td>1</td>\n    </tr>\n    <tr>\n      <th>17703</th>\n      <td>1.726212e+12</td>\n      <td>06A</td>\n      <td>D</td>\n      <td>6D C8 C3 08 12 F6 5B 0A F7 1C 26 D3 1E</td>\n      <td>1</td>\n    </tr>\n    <tr>\n      <th>17704</th>\n      <td>1.726212e+12</td>\n      <td>06A</td>\n      <td>D</td>\n      <td>E2 31 7E 16 E8 A1 57 0A FD AC 91 0A B7</td>\n      <td>1</td>\n    </tr>\n    <tr>\n      <th>17705</th>\n      <td>1.726212e+12</td>\n      <td>06A</td>\n      <td>D</td>\n      <td>16 8E E0 A8 45 75 B4 0A 18 2C F5 D7 13</td>\n      <td>1</td>\n    </tr>\n    <tr>\n      <th>...</th>\n      <td>...</td>\n      <td>...</td>\n      <td>...</td>\n      <td>...</td>\n      <td>...</td>\n    </tr>\n    <tr>\n      <th>8531811</th>\n      <td>1.726216e+12</td>\n      <td>06A</td>\n      <td>D</td>\n      <td>39 86 CC C8 AA 40 0B 0A 6C 06 23 4C FB</td>\n      <td>1</td>\n    </tr>\n    <tr>\n      <th>8531812</th>\n      <td>1.726216e+12</td>\n      <td>06A</td>\n      <td>D</td>\n      <td>90 BB 90 7C F4 2D DB 0A B7 72 E6 B0 FA</td>\n      <td>1</td>\n    </tr>\n    <tr>\n      <th>8531813</th>\n      <td>1.726216e+12</td>\n      <td>06A</td>\n      <td>D</td>\n      <td>B5 AA F5 4B 54 2F AA 0A 1D C2 D2 9D 2A</td>\n      <td>1</td>\n    </tr>\n    <tr>\n      <th>8531814</th>\n      <td>1.726216e+12</td>\n      <td>06A</td>\n      <td>D</td>\n      <td>37 80 73 28 2B 95 24 0A 19 0E 91 01 2D</td>\n      <td>1</td>\n    </tr>\n    <tr>\n      <th>8531815</th>\n      <td>1.726216e+12</td>\n      <td>06A</td>\n      <td>D</td>\n      <td>9E 02 E3 C6 AD D9 EE 0A C7 B9 B8 78 7B</td>\n      <td>1</td>\n    </tr>\n  </tbody>\n</table>\n<p>200000 rows × 5 columns</p>\n</div>"
     },
     "execution_count": 80,
     "metadata": {},
     "output_type": "execute_result"
    }
   ],
   "source": [
    "data[data['label'] == 1]"
   ],
   "metadata": {
    "collapsed": false,
    "ExecuteTime": {
     "end_time": "2024-09-24T04:40:17.798515300Z",
     "start_time": "2024-09-24T04:40:17.689517100Z"
    }
   }
  },
  {
   "cell_type": "code",
   "execution_count": 11,
   "metadata": {
    "collapsed": true,
    "jupyter": {
     "outputs_hidden": true
    },
    "ExecuteTime": {
     "end_time": "2024-03-20T05:07:02.241895Z",
     "start_time": "2024-03-20T05:07:02.170896400Z"
    }
   },
   "outputs": [],
   "source": [
    "f = open('raw-data/2023_10_30_sum.txt')"
   ]
  },
  {
   "cell_type": "code",
   "execution_count": 3,
   "metadata": {
    "collapsed": false,
    "ExecuteTime": {
     "end_time": "2024-03-18T05:29:08.457771700Z",
     "start_time": "2024-03-18T05:29:05.060865500Z"
    }
   },
   "outputs": [
    {
     "name": "stderr",
     "output_type": "stream",
     "text": [
      "100%|█████████▉| 3249525/3249526 [00:00<00:00, 3513097.98it/s]"
     ]
    },
    {
     "name": "stdout",
     "output_type": "stream",
     "text": [
      "STD[FDBRS] 0B5h 32 6342729.2 21 1D 0A 22 00 00 22 00 22 00 22 00 00 FE 38 00 4F 00 00 40 14 04 50 0C 00 1D 00 00 00 02 00 00 \n"
     ]
    },
    {
     "name": "stderr",
     "output_type": "stream",
     "text": [
      "\n"
     ]
    }
   ],
   "source": [
    "a = f.readlines()\n",
    "last = len(a)\n",
    "counter = 0\n",
    "for line in tqdm(a, leave = True):\n",
    "    if counter == last - 1:\n",
    "        print(line)\n",
    "        break\n",
    "    counter += 1"
   ]
  },
  {
   "cell_type": "code",
   "execution_count": 37,
   "outputs": [
    {
     "name": "stderr",
     "output_type": "stream",
     "text": [
      "100%|██████████| 3321576/3321576 [00:15<00:00, 217922.58it/s]\n"
     ]
    }
   ],
   "source": [
    "input_data = open('raw-data/2023_05_04_pangyo.txt')\n",
    "\n",
    "for i in range(4):\n",
    "    input_data.readline()\n",
    "data = list()\n",
    "temp = None\n",
    "string = None\n",
    "dlc = 0\n",
    "counter = 0\n",
    "for line in tqdm(input_data.readlines(), leave = True):\n",
    "    line = line.split()\n",
    "    temp = [line[3], f'00000{line[1][:3]}', format(int(line[2]), 'x')]\n",
    "    string = ' '.join(line[4:])\n",
    "    temp.append(string)\n",
    "    data.append(np.array(temp))\n",
    "    \n",
    "data = np.array(data)\n",
    "dataframe = pd.DataFrame(columns = ['Timestamp', 'ID', 'DLC', 'Payload'], data = data)\n",
    "label = np.array([0 for i in range(len(dataframe))])\n",
    "dataframe['label'] = label"
   ],
   "metadata": {
    "collapsed": false,
    "ExecuteTime": {
     "end_time": "2024-03-20T05:56:53.354518400Z",
     "start_time": "2024-03-20T05:56:30.844496600Z"
    }
   }
  },
  {
   "cell_type": "code",
   "execution_count": 38,
   "outputs": [
    {
     "data": {
      "text/plain": "          Timestamp        ID DLC  \\\n0        61469806.4  0000011A  10   \n1        61469806.5  0000012A  10   \n2        61469807.7  000000EA  18   \n3        61469807.9  00000160  10   \n4        61469808.1  000001A0  20   \n...             ...       ...  ..   \n3321571  63303517.7  0000012A  10   \n3321572  63303517.9  0000011A  10   \n3321573  63303518.1  0000004A  20   \n3321574  63303519.3  00000125  10   \n3321575  63303522.1  00000060  20   \n\n                                                   Payload  label  \n0          89 7A 16 05 80 08 A8 02 00 05 00 00 00 00 00 00      0  \n1          67 B4 16 02 40 00 08 00 00 00 01 00 00 64 00 00      0  \n2        F0 C8 1D 00 01 41 00 00 6D 06 C5 0E 00 00 00 0...      0  \n3          8F 6E 09 03 00 00 00 02 FF FC 01 00 00 00 00 00      0  \n4        63 B2 09 FE 27 35 64 00 00 00 00 00 1E 08 01 0...      0  \n...                                                    ...    ...  \n3321571    B3 33 43 02 40 00 08 00 00 00 01 00 00 64 00 00      0  \n3321572    5D FD 43 05 80 08 A8 02 00 05 00 00 00 00 00 00      0  \n3321573  7C F3 71 00 00 00 02 00 D1 82 97 81 2E 7F 68 0...      0  \n3321574    3B 13 0D 0E 01 01 07 00 00 00 00 00 00 00 00 00      0  \n3321575  12 3F 75 00 00 00 00 00 02 02 00 02 40 FF 00 F...      0  \n\n[3321576 rows x 5 columns]",
      "text/html": "<div>\n<style scoped>\n    .dataframe tbody tr th:only-of-type {\n        vertical-align: middle;\n    }\n\n    .dataframe tbody tr th {\n        vertical-align: top;\n    }\n\n    .dataframe thead th {\n        text-align: right;\n    }\n</style>\n<table border=\"1\" class=\"dataframe\">\n  <thead>\n    <tr style=\"text-align: right;\">\n      <th></th>\n      <th>Timestamp</th>\n      <th>ID</th>\n      <th>DLC</th>\n      <th>Payload</th>\n      <th>label</th>\n    </tr>\n  </thead>\n  <tbody>\n    <tr>\n      <th>0</th>\n      <td>61469806.4</td>\n      <td>0000011A</td>\n      <td>10</td>\n      <td>89 7A 16 05 80 08 A8 02 00 05 00 00 00 00 00 00</td>\n      <td>0</td>\n    </tr>\n    <tr>\n      <th>1</th>\n      <td>61469806.5</td>\n      <td>0000012A</td>\n      <td>10</td>\n      <td>67 B4 16 02 40 00 08 00 00 00 01 00 00 64 00 00</td>\n      <td>0</td>\n    </tr>\n    <tr>\n      <th>2</th>\n      <td>61469807.7</td>\n      <td>000000EA</td>\n      <td>18</td>\n      <td>F0 C8 1D 00 01 41 00 00 6D 06 C5 0E 00 00 00 0...</td>\n      <td>0</td>\n    </tr>\n    <tr>\n      <th>3</th>\n      <td>61469807.9</td>\n      <td>00000160</td>\n      <td>10</td>\n      <td>8F 6E 09 03 00 00 00 02 FF FC 01 00 00 00 00 00</td>\n      <td>0</td>\n    </tr>\n    <tr>\n      <th>4</th>\n      <td>61469808.1</td>\n      <td>000001A0</td>\n      <td>20</td>\n      <td>63 B2 09 FE 27 35 64 00 00 00 00 00 1E 08 01 0...</td>\n      <td>0</td>\n    </tr>\n    <tr>\n      <th>...</th>\n      <td>...</td>\n      <td>...</td>\n      <td>...</td>\n      <td>...</td>\n      <td>...</td>\n    </tr>\n    <tr>\n      <th>3321571</th>\n      <td>63303517.7</td>\n      <td>0000012A</td>\n      <td>10</td>\n      <td>B3 33 43 02 40 00 08 00 00 00 01 00 00 64 00 00</td>\n      <td>0</td>\n    </tr>\n    <tr>\n      <th>3321572</th>\n      <td>63303517.9</td>\n      <td>0000011A</td>\n      <td>10</td>\n      <td>5D FD 43 05 80 08 A8 02 00 05 00 00 00 00 00 00</td>\n      <td>0</td>\n    </tr>\n    <tr>\n      <th>3321573</th>\n      <td>63303518.1</td>\n      <td>0000004A</td>\n      <td>20</td>\n      <td>7C F3 71 00 00 00 02 00 D1 82 97 81 2E 7F 68 0...</td>\n      <td>0</td>\n    </tr>\n    <tr>\n      <th>3321574</th>\n      <td>63303519.3</td>\n      <td>00000125</td>\n      <td>10</td>\n      <td>3B 13 0D 0E 01 01 07 00 00 00 00 00 00 00 00 00</td>\n      <td>0</td>\n    </tr>\n    <tr>\n      <th>3321575</th>\n      <td>63303522.1</td>\n      <td>00000060</td>\n      <td>20</td>\n      <td>12 3F 75 00 00 00 00 00 02 02 00 02 40 FF 00 F...</td>\n      <td>0</td>\n    </tr>\n  </tbody>\n</table>\n<p>3321576 rows × 5 columns</p>\n</div>"
     },
     "execution_count": 38,
     "metadata": {},
     "output_type": "execute_result"
    }
   ],
   "source": [
    "dataframe"
   ],
   "metadata": {
    "collapsed": false,
    "ExecuteTime": {
     "end_time": "2024-03-20T05:56:53.393498500Z",
     "start_time": "2024-03-20T05:56:53.356497400Z"
    }
   }
  },
  {
   "cell_type": "code",
   "execution_count": 26,
   "outputs": [
    {
     "name": "stdout",
     "output_type": "stream",
     "text": [
      "426\n"
     ]
    }
   ],
   "source": [
    "print(counter)"
   ],
   "metadata": {
    "collapsed": false,
    "ExecuteTime": {
     "end_time": "2024-03-20T05:17:59.167023800Z",
     "start_time": "2024-03-20T05:17:59.132000200Z"
    }
   }
  },
  {
   "cell_type": "code",
   "execution_count": 6,
   "metadata": {
    "collapsed": false,
    "ExecuteTime": {
     "end_time": "2024-03-18T05:31:31.911185500Z",
     "start_time": "2024-03-18T05:31:31.750156900Z"
    }
   },
   "outputs": [
    {
     "data": {
      "text/plain": "[array([1, 2, 3]), array([2, 3, 4])]"
     },
     "execution_count": 6,
     "metadata": {},
     "output_type": "execute_result"
    }
   ],
   "source": [
    "import numpy as np\n",
    "\n",
    "a = list()\n",
    "a.append(np.array([1, 2, 3]))\n",
    "a.append(np.array([2, 3, 4]))\n",
    "a"
   ]
  },
  {
   "cell_type": "code",
   "execution_count": null,
   "metadata": {
    "collapsed": false
   },
   "outputs": [],
   "source": []
  },
  {
   "cell_type": "code",
   "execution_count": 58,
   "metadata": {
    "collapsed": false
   },
   "outputs": [
    {
     "data": {
      "text/plain": [
       "[array([1, 2, 3]), array([2, 3, 4, 5, 6])]"
      ]
     },
     "execution_count": 58,
     "metadata": {},
     "output_type": "execute_result"
    }
   ],
   "source": [
    "a[-1] = np.concatenate([a[-1], np.array([5, 6])])\n",
    "a"
   ]
  },
  {
   "cell_type": "code",
   "execution_count": 60,
   "metadata": {
    "collapsed": false
   },
   "outputs": [],
   "source": [
    "np.put(a[-1], -1, 10)"
   ]
  },
  {
   "cell_type": "code",
   "execution_count": 1,
   "metadata": {
    "collapsed": false
   },
   "outputs": [
    {
     "ename": "NameError",
     "evalue": "name 'a' is not defined",
     "output_type": "error",
     "traceback": [
      "\u001B[0;31m---------------------------------------------------------------------------\u001B[0m",
      "\u001B[0;31mNameError\u001B[0m                                 Traceback (most recent call last)",
      "Input \u001B[0;32mIn [1]\u001B[0m, in \u001B[0;36m<cell line: 1>\u001B[0;34m()\u001B[0m\n\u001B[0;32m----> 1\u001B[0m \u001B[43ma\u001B[49m\n",
      "\u001B[0;31mNameError\u001B[0m: name 'a' is not defined"
     ]
    }
   ],
   "source": [
    "a"
   ]
  },
  {
   "cell_type": "code",
   "execution_count": 2,
   "metadata": {
    "collapsed": false
   },
   "outputs": [],
   "source": [
    "import json"
   ]
  },
  {
   "cell_type": "code",
   "execution_count": 4,
   "metadata": {
    "collapsed": false
   },
   "outputs": [],
   "source": [
    "with open('DefaultPayload.json', 'r') as file:\n",
    "    jsonfile = json.load(file)"
   ]
  },
  {
   "cell_type": "code",
   "execution_count": 11,
   "metadata": {
    "collapsed": false
   },
   "outputs": [],
   "source": [
    "data = jsonfile['can']['dos']"
   ]
  },
  {
   "cell_type": "code",
   "execution_count": 1,
   "metadata": {
    "collapsed": false
   },
   "outputs": [
    {
     "ename": "NameError",
     "evalue": "name 'data' is not defined",
     "output_type": "error",
     "traceback": [
      "\u001B[0;31m---------------------------------------------------------------------------\u001B[0m",
      "\u001B[0;31mNameError\u001B[0m                                 Traceback (most recent call last)",
      "Input \u001B[0;32mIn [1]\u001B[0m, in \u001B[0;36m<cell line: 1>\u001B[0;34m()\u001B[0m\n\u001B[0;32m----> 1\u001B[0m \u001B[43mdata\u001B[49m[\u001B[38;5;124m'\u001B[39m\u001B[38;5;124mpayload\u001B[39m\u001B[38;5;124m'\u001B[39m]\n",
      "\u001B[0;31mNameError\u001B[0m: name 'data' is not defined"
     ]
    }
   ],
   "source": [
    "data['payload']"
   ]
  },
  {
   "cell_type": "code",
   "execution_count": 90,
   "metadata": {
    "collapsed": false
   },
   "outputs": [],
   "source": [
    "import pandas"
   ]
  },
  {
   "cell_type": "code",
   "execution_count": 96,
   "metadata": {
    "collapsed": false
   },
   "outputs": [],
   "source": [
    "data = pandas.read_csv('can-fd_replay_dummy.csv')"
   ]
  },
  {
   "cell_type": "code",
   "execution_count": 97,
   "metadata": {
    "collapsed": false
   },
   "outputs": [
    {
     "data": {
      "text/html": [
       "<div>\n",
       "<style scoped>\n",
       "    .dataframe tbody tr th:only-of-type {\n",
       "        vertical-align: middle;\n",
       "    }\n",
       "\n",
       "    .dataframe tbody tr th {\n",
       "        vertical-align: top;\n",
       "    }\n",
       "\n",
       "    .dataframe thead th {\n",
       "        text-align: right;\n",
       "    }\n",
       "</style>\n",
       "<table border=\"1\" class=\"dataframe\">\n",
       "  <thead>\n",
       "    <tr style=\"text-align: right;\">\n",
       "      <th></th>\n",
       "      <th>Timestamp</th>\n",
       "      <th>ID</th>\n",
       "      <th>DLC</th>\n",
       "      <th>Flg</th>\n",
       "      <th>Dir</th>\n",
       "      <th>Payload</th>\n",
       "      <th>label</th>\n",
       "    </tr>\n",
       "  </thead>\n",
       "  <tbody>\n",
       "    <tr>\n",
       "      <th>0</th>\n",
       "      <td>2179.63603</td>\n",
       "      <td>00000145</td>\n",
       "      <td>20</td>\n",
       "      <td>FB</td>\n",
       "      <td>R</td>\n",
       "      <td>14 D7 18 10 01 00 00 00 00 00 00 00 00 00 00 0...</td>\n",
       "      <td>1</td>\n",
       "    </tr>\n",
       "    <tr>\n",
       "      <th>1</th>\n",
       "      <td>2179.63622</td>\n",
       "      <td>000000EA</td>\n",
       "      <td>18</td>\n",
       "      <td>FB</td>\n",
       "      <td>R</td>\n",
       "      <td>B5 65 DD 10 41 43 00 00 F5 07 E7 0F EB FF 00 0...</td>\n",
       "      <td>1</td>\n",
       "    </tr>\n",
       "    <tr>\n",
       "      <th>2</th>\n",
       "      <td>2179.63709</td>\n",
       "      <td>00000040</td>\n",
       "      <td>20</td>\n",
       "      <td>FB</td>\n",
       "      <td>R</td>\n",
       "      <td>82 46 DA 00 10 FF 07 08 00 00 FF 07 00 00 FF 0...</td>\n",
       "      <td>1</td>\n",
       "    </tr>\n",
       "    <tr>\n",
       "      <th>3</th>\n",
       "      <td>2179.63731</td>\n",
       "      <td>0000006A</td>\n",
       "      <td>20</td>\n",
       "      <td>FB</td>\n",
       "      <td>R</td>\n",
       "      <td>B1 69 DA EC 08 7A F0 08 00 00 00 00 00 3E 02 0...</td>\n",
       "      <td>1</td>\n",
       "    </tr>\n",
       "    <tr>\n",
       "      <th>4</th>\n",
       "      <td>2179.63800</td>\n",
       "      <td>00000060</td>\n",
       "      <td>20</td>\n",
       "      <td>FB</td>\n",
       "      <td>R</td>\n",
       "      <td>56 3C 4B 00 00 00 00 00 02 02 00 02 40 FF 00 F...</td>\n",
       "      <td>1</td>\n",
       "    </tr>\n",
       "    <tr>\n",
       "      <th>5</th>\n",
       "      <td>2179.63819</td>\n",
       "      <td>000000B0</td>\n",
       "      <td>18</td>\n",
       "      <td>FB</td>\n",
       "      <td>R</td>\n",
       "      <td>EC 22 4B 64 64 64 64 00 00 B8 0B 00 00 00 00 0...</td>\n",
       "      <td>1</td>\n",
       "    </tr>\n",
       "    <tr>\n",
       "      <th>6</th>\n",
       "      <td>2179.63841</td>\n",
       "      <td>000000B5</td>\n",
       "      <td>20</td>\n",
       "      <td>FB</td>\n",
       "      <td>R</td>\n",
       "      <td>94 0B E3 1C 00 7F 1F 00 1C 00 1C 00 00 00 2C 0...</td>\n",
       "      <td>1</td>\n",
       "    </tr>\n",
       "    <tr>\n",
       "      <th>7</th>\n",
       "      <td>2179.63871</td>\n",
       "      <td>00000100</td>\n",
       "      <td>20</td>\n",
       "      <td>FB</td>\n",
       "      <td>R</td>\n",
       "      <td>46 99 E3 00 10 CB 80 6C 40 00 25 00 00 00 00 5...</td>\n",
       "      <td>1</td>\n",
       "    </tr>\n",
       "    <tr>\n",
       "      <th>8</th>\n",
       "      <td>2179.63890</td>\n",
       "      <td>0000006F</td>\n",
       "      <td>8</td>\n",
       "      <td>FB</td>\n",
       "      <td>R</td>\n",
       "      <td>42 64 4B 00 00 00 00 00</td>\n",
       "      <td>1</td>\n",
       "    </tr>\n",
       "    <tr>\n",
       "      <th>9</th>\n",
       "      <td>2179.63930</td>\n",
       "      <td>00000125</td>\n",
       "      <td>10</td>\n",
       "      <td>FB</td>\n",
       "      <td>R</td>\n",
       "      <td>DD 6F 41 EE FF 00 07 00 00 00 00 00 00 00 00 00</td>\n",
       "      <td>1</td>\n",
       "    </tr>\n",
       "    <tr>\n",
       "      <th>10</th>\n",
       "      <td>2179.63951</td>\n",
       "      <td>00000140</td>\n",
       "      <td>8</td>\n",
       "      <td>FB</td>\n",
       "      <td>R</td>\n",
       "      <td>19 4F 27 41 80 00 00 00</td>\n",
       "      <td>1</td>\n",
       "    </tr>\n",
       "    <tr>\n",
       "      <th>11</th>\n",
       "      <td>2179.63997</td>\n",
       "      <td>0000012A</td>\n",
       "      <td>10</td>\n",
       "      <td>FB</td>\n",
       "      <td>R</td>\n",
       "      <td>24 63 3A 02 40 00 08 00 00 00 01 00 00 64 00 00</td>\n",
       "      <td>1</td>\n",
       "    </tr>\n",
       "    <tr>\n",
       "      <th>12</th>\n",
       "      <td>2179.64012</td>\n",
       "      <td>0000011A</td>\n",
       "      <td>10</td>\n",
       "      <td>FB</td>\n",
       "      <td>R</td>\n",
       "      <td>27 66 3A 00 80 00 A8 02 00 04 08 00 00 00 00 00</td>\n",
       "      <td>1</td>\n",
       "    </tr>\n",
       "    <tr>\n",
       "      <th>13</th>\n",
       "      <td>2179.64052</td>\n",
       "      <td>00000155</td>\n",
       "      <td>10</td>\n",
       "      <td>FB</td>\n",
       "      <td>R</td>\n",
       "      <td>E3 AF D2 13 00 00 00 00 00 00 00 00 00 00 00 00</td>\n",
       "      <td>1</td>\n",
       "    </tr>\n",
       "    <tr>\n",
       "      <th>14</th>\n",
       "      <td>2179.64074</td>\n",
       "      <td>0000004A</td>\n",
       "      <td>20</td>\n",
       "      <td>FB</td>\n",
       "      <td>R</td>\n",
       "      <td>63 5B D1 00 00 00 02 00 FB 7F 9B 7F 15 7D 68 0...</td>\n",
       "      <td>1</td>\n",
       "    </tr>\n",
       "    <tr>\n",
       "      <th>15</th>\n",
       "      <td>2179.64162</td>\n",
       "      <td>0000007A</td>\n",
       "      <td>18</td>\n",
       "      <td>FB</td>\n",
       "      <td>R</td>\n",
       "      <td>25 11 4C 8E 8E 8E 8E 00 00 00 00 00 00 00 00 0...</td>\n",
       "      <td>1</td>\n",
       "    </tr>\n",
       "    <tr>\n",
       "      <th>16</th>\n",
       "      <td>2179.64181</td>\n",
       "      <td>000000A5</td>\n",
       "      <td>18</td>\n",
       "      <td>FB</td>\n",
       "      <td>R</td>\n",
       "      <td>73 C2 4C FE D1 1F F9 01 00 22 20 00 00 00 00 0...</td>\n",
       "      <td>1</td>\n",
       "    </tr>\n",
       "    <tr>\n",
       "      <th>17</th>\n",
       "      <td>2179.64290</td>\n",
       "      <td>00000065</td>\n",
       "      <td>18</td>\n",
       "      <td>FB</td>\n",
       "      <td>R</td>\n",
       "      <td>EB BE 4B 00 00 F2 FF 10 00 00 00 00 00 00 00 0...</td>\n",
       "      <td>1</td>\n",
       "    </tr>\n",
       "    <tr>\n",
       "      <th>18</th>\n",
       "      <td>2179.64327</td>\n",
       "      <td>000000A0</td>\n",
       "      <td>18</td>\n",
       "      <td>FB</td>\n",
       "      <td>R</td>\n",
       "      <td>23 51 4B 3C D9 6D 34 00 00 00 00 00 00 00 00 0...</td>\n",
       "      <td>1</td>\n",
       "    </tr>\n",
       "    <tr>\n",
       "      <th>19</th>\n",
       "      <td>2179.64443</td>\n",
       "      <td>000001AA</td>\n",
       "      <td>10</td>\n",
       "      <td>FB</td>\n",
       "      <td>R</td>\n",
       "      <td>89 77 34 10 00 A0 00 08 00 00 00 00 00 00 00 00</td>\n",
       "      <td>1</td>\n",
       "    </tr>\n",
       "  </tbody>\n",
       "</table>\n",
       "</div>"
      ],
      "text/plain": [
       "     Timestamp        ID  DLC Flg Dir  \\\n",
       "0   2179.63603  00000145   20  FB   R   \n",
       "1   2179.63622  000000EA   18  FB   R   \n",
       "2   2179.63709  00000040   20  FB   R   \n",
       "3   2179.63731  0000006A   20  FB   R   \n",
       "4   2179.63800  00000060   20  FB   R   \n",
       "5   2179.63819  000000B0   18  FB   R   \n",
       "6   2179.63841  000000B5   20  FB   R   \n",
       "7   2179.63871  00000100   20  FB   R   \n",
       "8   2179.63890  0000006F    8  FB   R   \n",
       "9   2179.63930  00000125   10  FB   R   \n",
       "10  2179.63951  00000140    8  FB   R   \n",
       "11  2179.63997  0000012A   10  FB   R   \n",
       "12  2179.64012  0000011A   10  FB   R   \n",
       "13  2179.64052  00000155   10  FB   R   \n",
       "14  2179.64074  0000004A   20  FB   R   \n",
       "15  2179.64162  0000007A   18  FB   R   \n",
       "16  2179.64181  000000A5   18  FB   R   \n",
       "17  2179.64290  00000065   18  FB   R   \n",
       "18  2179.64327  000000A0   18  FB   R   \n",
       "19  2179.64443  000001AA   10  FB   R   \n",
       "\n",
       "                                              Payload  label  \n",
       "0   14 D7 18 10 01 00 00 00 00 00 00 00 00 00 00 0...      1  \n",
       "1   B5 65 DD 10 41 43 00 00 F5 07 E7 0F EB FF 00 0...      1  \n",
       "2   82 46 DA 00 10 FF 07 08 00 00 FF 07 00 00 FF 0...      1  \n",
       "3   B1 69 DA EC 08 7A F0 08 00 00 00 00 00 3E 02 0...      1  \n",
       "4   56 3C 4B 00 00 00 00 00 02 02 00 02 40 FF 00 F...      1  \n",
       "5   EC 22 4B 64 64 64 64 00 00 B8 0B 00 00 00 00 0...      1  \n",
       "6   94 0B E3 1C 00 7F 1F 00 1C 00 1C 00 00 00 2C 0...      1  \n",
       "7   46 99 E3 00 10 CB 80 6C 40 00 25 00 00 00 00 5...      1  \n",
       "8                             42 64 4B 00 00 00 00 00      1  \n",
       "9     DD 6F 41 EE FF 00 07 00 00 00 00 00 00 00 00 00      1  \n",
       "10                            19 4F 27 41 80 00 00 00      1  \n",
       "11    24 63 3A 02 40 00 08 00 00 00 01 00 00 64 00 00      1  \n",
       "12    27 66 3A 00 80 00 A8 02 00 04 08 00 00 00 00 00      1  \n",
       "13    E3 AF D2 13 00 00 00 00 00 00 00 00 00 00 00 00      1  \n",
       "14  63 5B D1 00 00 00 02 00 FB 7F 9B 7F 15 7D 68 0...      1  \n",
       "15  25 11 4C 8E 8E 8E 8E 00 00 00 00 00 00 00 00 0...      1  \n",
       "16  73 C2 4C FE D1 1F F9 01 00 22 20 00 00 00 00 0...      1  \n",
       "17  EB BE 4B 00 00 F2 FF 10 00 00 00 00 00 00 00 0...      1  \n",
       "18  23 51 4B 3C D9 6D 34 00 00 00 00 00 00 00 00 0...      1  \n",
       "19    89 77 34 10 00 A0 00 08 00 00 00 00 00 00 00 00      1  "
      ]
     },
     "execution_count": 97,
     "metadata": {},
     "output_type": "execute_result"
    }
   ],
   "source": [
    "data"
   ]
  },
  {
   "cell_type": "code",
   "execution_count": 98,
   "metadata": {
    "collapsed": false
   },
   "outputs": [],
   "source": [
    "data['label'] = [1 for _ in range(len(data))]"
   ]
  },
  {
   "cell_type": "code",
   "execution_count": 99,
   "metadata": {
    "collapsed": false
   },
   "outputs": [],
   "source": [
    "data['Timestamp'] = data['Timestamp'] - 0.1"
   ]
  },
  {
   "cell_type": "code",
   "execution_count": 100,
   "metadata": {
    "collapsed": false
   },
   "outputs": [],
   "source": [
    "data.to_csv('can-fd_replay_dummy.csv', sep = ',', index = False)"
   ]
  },
  {
   "cell_type": "code",
   "execution_count": 120,
   "metadata": {
    "collapsed": false
   },
   "outputs": [],
   "source": [
    "import pandas"
   ]
  },
  {
   "cell_type": "code",
   "execution_count": 147,
   "metadata": {
    "collapsed": false
   },
   "outputs": [],
   "source": [
    "dump = pandas.read_csv('can-fd_replay_dummy.csv')"
   ]
  },
  {
   "cell_type": "code",
   "execution_count": 148,
   "metadata": {
    "collapsed": false
   },
   "outputs": [
    {
     "data": {
      "text/html": [
       "<div>\n",
       "<style scoped>\n",
       "    .dataframe tbody tr th:only-of-type {\n",
       "        vertical-align: middle;\n",
       "    }\n",
       "\n",
       "    .dataframe tbody tr th {\n",
       "        vertical-align: top;\n",
       "    }\n",
       "\n",
       "    .dataframe thead th {\n",
       "        text-align: right;\n",
       "    }\n",
       "</style>\n",
       "<table border=\"1\" class=\"dataframe\">\n",
       "  <thead>\n",
       "    <tr style=\"text-align: right;\">\n",
       "      <th></th>\n",
       "      <th>Timestamp</th>\n",
       "      <th>ID</th>\n",
       "      <th>DLC</th>\n",
       "      <th>Flg</th>\n",
       "      <th>Dir</th>\n",
       "      <th>Payload</th>\n",
       "      <th>label</th>\n",
       "    </tr>\n",
       "  </thead>\n",
       "  <tbody>\n",
       "    <tr>\n",
       "      <th>0</th>\n",
       "      <td>2179.53603</td>\n",
       "      <td>00000145</td>\n",
       "      <td>20</td>\n",
       "      <td>FB</td>\n",
       "      <td>R</td>\n",
       "      <td>14 D7 18 10 01 00 00 00 00 00 00 00 00 00 00 0...</td>\n",
       "      <td>1</td>\n",
       "    </tr>\n",
       "    <tr>\n",
       "      <th>1</th>\n",
       "      <td>2179.53622</td>\n",
       "      <td>000000EA</td>\n",
       "      <td>18</td>\n",
       "      <td>FB</td>\n",
       "      <td>R</td>\n",
       "      <td>B5 65 DD 10 41 43 00 00 F5 07 E7 0F EB FF 00 0...</td>\n",
       "      <td>1</td>\n",
       "    </tr>\n",
       "    <tr>\n",
       "      <th>2</th>\n",
       "      <td>2179.53709</td>\n",
       "      <td>00000040</td>\n",
       "      <td>20</td>\n",
       "      <td>FB</td>\n",
       "      <td>R</td>\n",
       "      <td>82 46 DA 00 10 FF 07 08 00 00 FF 07 00 00 FF 0...</td>\n",
       "      <td>1</td>\n",
       "    </tr>\n",
       "    <tr>\n",
       "      <th>3</th>\n",
       "      <td>2179.53731</td>\n",
       "      <td>0000006A</td>\n",
       "      <td>20</td>\n",
       "      <td>FB</td>\n",
       "      <td>R</td>\n",
       "      <td>B1 69 DA EC 08 7A F0 08 00 00 00 00 00 3E 02 0...</td>\n",
       "      <td>1</td>\n",
       "    </tr>\n",
       "    <tr>\n",
       "      <th>4</th>\n",
       "      <td>2179.53800</td>\n",
       "      <td>00000060</td>\n",
       "      <td>20</td>\n",
       "      <td>FB</td>\n",
       "      <td>R</td>\n",
       "      <td>56 3C 4B 00 00 00 00 00 02 02 00 02 40 FF 00 F...</td>\n",
       "      <td>1</td>\n",
       "    </tr>\n",
       "    <tr>\n",
       "      <th>5</th>\n",
       "      <td>2179.53819</td>\n",
       "      <td>000000B0</td>\n",
       "      <td>18</td>\n",
       "      <td>FB</td>\n",
       "      <td>R</td>\n",
       "      <td>EC 22 4B 64 64 64 64 00 00 B8 0B 00 00 00 00 0...</td>\n",
       "      <td>1</td>\n",
       "    </tr>\n",
       "    <tr>\n",
       "      <th>6</th>\n",
       "      <td>2179.53841</td>\n",
       "      <td>000000B5</td>\n",
       "      <td>20</td>\n",
       "      <td>FB</td>\n",
       "      <td>R</td>\n",
       "      <td>94 0B E3 1C 00 7F 1F 00 1C 00 1C 00 00 00 2C 0...</td>\n",
       "      <td>1</td>\n",
       "    </tr>\n",
       "    <tr>\n",
       "      <th>7</th>\n",
       "      <td>2179.53871</td>\n",
       "      <td>00000100</td>\n",
       "      <td>20</td>\n",
       "      <td>FB</td>\n",
       "      <td>R</td>\n",
       "      <td>46 99 E3 00 10 CB 80 6C 40 00 25 00 00 00 00 5...</td>\n",
       "      <td>1</td>\n",
       "    </tr>\n",
       "    <tr>\n",
       "      <th>8</th>\n",
       "      <td>2179.53890</td>\n",
       "      <td>0000006F</td>\n",
       "      <td>8</td>\n",
       "      <td>FB</td>\n",
       "      <td>R</td>\n",
       "      <td>42 64 4B 00 00 00 00 00</td>\n",
       "      <td>1</td>\n",
       "    </tr>\n",
       "    <tr>\n",
       "      <th>9</th>\n",
       "      <td>2179.53930</td>\n",
       "      <td>00000125</td>\n",
       "      <td>10</td>\n",
       "      <td>FB</td>\n",
       "      <td>R</td>\n",
       "      <td>DD 6F 41 EE FF 00 07 00 00 00 00 00 00 00 00 00</td>\n",
       "      <td>1</td>\n",
       "    </tr>\n",
       "    <tr>\n",
       "      <th>10</th>\n",
       "      <td>2179.53951</td>\n",
       "      <td>00000140</td>\n",
       "      <td>8</td>\n",
       "      <td>FB</td>\n",
       "      <td>R</td>\n",
       "      <td>19 4F 27 41 80 00 00 00</td>\n",
       "      <td>1</td>\n",
       "    </tr>\n",
       "    <tr>\n",
       "      <th>11</th>\n",
       "      <td>2179.53997</td>\n",
       "      <td>0000012A</td>\n",
       "      <td>10</td>\n",
       "      <td>FB</td>\n",
       "      <td>R</td>\n",
       "      <td>24 63 3A 02 40 00 08 00 00 00 01 00 00 64 00 00</td>\n",
       "      <td>1</td>\n",
       "    </tr>\n",
       "    <tr>\n",
       "      <th>12</th>\n",
       "      <td>2179.54012</td>\n",
       "      <td>0000011A</td>\n",
       "      <td>10</td>\n",
       "      <td>FB</td>\n",
       "      <td>R</td>\n",
       "      <td>27 66 3A 00 80 00 A8 02 00 04 08 00 00 00 00 00</td>\n",
       "      <td>1</td>\n",
       "    </tr>\n",
       "    <tr>\n",
       "      <th>13</th>\n",
       "      <td>2179.54052</td>\n",
       "      <td>00000155</td>\n",
       "      <td>10</td>\n",
       "      <td>FB</td>\n",
       "      <td>R</td>\n",
       "      <td>E3 AF D2 13 00 00 00 00 00 00 00 00 00 00 00 00</td>\n",
       "      <td>1</td>\n",
       "    </tr>\n",
       "    <tr>\n",
       "      <th>14</th>\n",
       "      <td>2179.54074</td>\n",
       "      <td>0000004A</td>\n",
       "      <td>20</td>\n",
       "      <td>FB</td>\n",
       "      <td>R</td>\n",
       "      <td>63 5B D1 00 00 00 02 00 FB 7F 9B 7F 15 7D 68 0...</td>\n",
       "      <td>1</td>\n",
       "    </tr>\n",
       "    <tr>\n",
       "      <th>15</th>\n",
       "      <td>2179.54162</td>\n",
       "      <td>0000007A</td>\n",
       "      <td>18</td>\n",
       "      <td>FB</td>\n",
       "      <td>R</td>\n",
       "      <td>25 11 4C 8E 8E 8E 8E 00 00 00 00 00 00 00 00 0...</td>\n",
       "      <td>1</td>\n",
       "    </tr>\n",
       "    <tr>\n",
       "      <th>16</th>\n",
       "      <td>2179.54181</td>\n",
       "      <td>000000A5</td>\n",
       "      <td>18</td>\n",
       "      <td>FB</td>\n",
       "      <td>R</td>\n",
       "      <td>73 C2 4C FE D1 1F F9 01 00 22 20 00 00 00 00 0...</td>\n",
       "      <td>1</td>\n",
       "    </tr>\n",
       "    <tr>\n",
       "      <th>17</th>\n",
       "      <td>2179.54290</td>\n",
       "      <td>00000065</td>\n",
       "      <td>18</td>\n",
       "      <td>FB</td>\n",
       "      <td>R</td>\n",
       "      <td>EB BE 4B 00 00 F2 FF 10 00 00 00 00 00 00 00 0...</td>\n",
       "      <td>1</td>\n",
       "    </tr>\n",
       "    <tr>\n",
       "      <th>18</th>\n",
       "      <td>2179.54327</td>\n",
       "      <td>000000A0</td>\n",
       "      <td>18</td>\n",
       "      <td>FB</td>\n",
       "      <td>R</td>\n",
       "      <td>23 51 4B 3C D9 6D 34 00 00 00 00 00 00 00 00 0...</td>\n",
       "      <td>1</td>\n",
       "    </tr>\n",
       "    <tr>\n",
       "      <th>19</th>\n",
       "      <td>2179.54443</td>\n",
       "      <td>000001AA</td>\n",
       "      <td>10</td>\n",
       "      <td>FB</td>\n",
       "      <td>R</td>\n",
       "      <td>89 77 34 10 00 A0 00 08 00 00 00 00 00 00 00 00</td>\n",
       "      <td>1</td>\n",
       "    </tr>\n",
       "  </tbody>\n",
       "</table>\n",
       "</div>"
      ],
      "text/plain": [
       "     Timestamp        ID  DLC Flg Dir  \\\n",
       "0   2179.53603  00000145   20  FB   R   \n",
       "1   2179.53622  000000EA   18  FB   R   \n",
       "2   2179.53709  00000040   20  FB   R   \n",
       "3   2179.53731  0000006A   20  FB   R   \n",
       "4   2179.53800  00000060   20  FB   R   \n",
       "5   2179.53819  000000B0   18  FB   R   \n",
       "6   2179.53841  000000B5   20  FB   R   \n",
       "7   2179.53871  00000100   20  FB   R   \n",
       "8   2179.53890  0000006F    8  FB   R   \n",
       "9   2179.53930  00000125   10  FB   R   \n",
       "10  2179.53951  00000140    8  FB   R   \n",
       "11  2179.53997  0000012A   10  FB   R   \n",
       "12  2179.54012  0000011A   10  FB   R   \n",
       "13  2179.54052  00000155   10  FB   R   \n",
       "14  2179.54074  0000004A   20  FB   R   \n",
       "15  2179.54162  0000007A   18  FB   R   \n",
       "16  2179.54181  000000A5   18  FB   R   \n",
       "17  2179.54290  00000065   18  FB   R   \n",
       "18  2179.54327  000000A0   18  FB   R   \n",
       "19  2179.54443  000001AA   10  FB   R   \n",
       "\n",
       "                                              Payload  label  \n",
       "0   14 D7 18 10 01 00 00 00 00 00 00 00 00 00 00 0...      1  \n",
       "1   B5 65 DD 10 41 43 00 00 F5 07 E7 0F EB FF 00 0...      1  \n",
       "2   82 46 DA 00 10 FF 07 08 00 00 FF 07 00 00 FF 0...      1  \n",
       "3   B1 69 DA EC 08 7A F0 08 00 00 00 00 00 3E 02 0...      1  \n",
       "4   56 3C 4B 00 00 00 00 00 02 02 00 02 40 FF 00 F...      1  \n",
       "5   EC 22 4B 64 64 64 64 00 00 B8 0B 00 00 00 00 0...      1  \n",
       "6   94 0B E3 1C 00 7F 1F 00 1C 00 1C 00 00 00 2C 0...      1  \n",
       "7   46 99 E3 00 10 CB 80 6C 40 00 25 00 00 00 00 5...      1  \n",
       "8                             42 64 4B 00 00 00 00 00      1  \n",
       "9     DD 6F 41 EE FF 00 07 00 00 00 00 00 00 00 00 00      1  \n",
       "10                            19 4F 27 41 80 00 00 00      1  \n",
       "11    24 63 3A 02 40 00 08 00 00 00 01 00 00 64 00 00      1  \n",
       "12    27 66 3A 00 80 00 A8 02 00 04 08 00 00 00 00 00      1  \n",
       "13    E3 AF D2 13 00 00 00 00 00 00 00 00 00 00 00 00      1  \n",
       "14  63 5B D1 00 00 00 02 00 FB 7F 9B 7F 15 7D 68 0...      1  \n",
       "15  25 11 4C 8E 8E 8E 8E 00 00 00 00 00 00 00 00 0...      1  \n",
       "16  73 C2 4C FE D1 1F F9 01 00 22 20 00 00 00 00 0...      1  \n",
       "17  EB BE 4B 00 00 F2 FF 10 00 00 00 00 00 00 00 0...      1  \n",
       "18  23 51 4B 3C D9 6D 34 00 00 00 00 00 00 00 00 0...      1  \n",
       "19    89 77 34 10 00 A0 00 08 00 00 00 00 00 00 00 00      1  "
      ]
     },
     "execution_count": 148,
     "metadata": {},
     "output_type": "execute_result"
    }
   ],
   "source": [
    "dump"
   ]
  },
  {
   "cell_type": "code",
   "execution_count": 149,
   "metadata": {
    "collapsed": false
   },
   "outputs": [],
   "source": [
    "base_timestamp = 1000.00000"
   ]
  },
  {
   "cell_type": "code",
   "execution_count": 150,
   "metadata": {
    "collapsed": false
   },
   "outputs": [],
   "source": [
    "timestamp_diff = dump['Timestamp'].diff().fillna(0).tolist()\n",
    "for i in range(1, len(timestamp_diff)):\n",
    "    timestamp_diff[i] += timestamp_diff[i - 1]"
   ]
  },
  {
   "cell_type": "code",
   "execution_count": 151,
   "metadata": {
    "collapsed": false
   },
   "outputs": [
    {
     "data": {
      "text/plain": [
       "[0.0,\n",
       " 0.0001899999997476698,\n",
       " 0.0010600000000522414,\n",
       " 0.0012799999999515421,\n",
       " 0.0019699999998010753,\n",
       " 0.0021600000000034925,\n",
       " 0.002379999999902793,\n",
       " 0.0026800000000548607,\n",
       " 0.0028699999998025305,\n",
       " 0.0032699999997021223,\n",
       " 0.0034799999998540443,\n",
       " 0.003940000000056898,\n",
       " 0.004089999999905558,\n",
       " 0.00448999999980515,\n",
       " 0.004709999999704451,\n",
       " 0.005589999999756401,\n",
       " 0.005779999999958818,\n",
       " 0.006869999999707943,\n",
       " 0.007239999999910651,\n",
       " 0.008399999999710417]"
      ]
     },
     "execution_count": 151,
     "metadata": {},
     "output_type": "execute_result"
    }
   ],
   "source": [
    "timestamp_diff"
   ]
  },
  {
   "cell_type": "code",
   "execution_count": 157,
   "metadata": {
    "collapsed": false
   },
   "outputs": [],
   "source": [
    "dump['Timestamp'] = pandas.DataFrame(columns = ['Timestamp'], data = timestamp_diff) + base_timestamp"
   ]
  },
  {
   "cell_type": "code",
   "execution_count": 158,
   "metadata": {
    "collapsed": false
   },
   "outputs": [
    {
     "data": {
      "text/html": [
       "<div>\n",
       "<style scoped>\n",
       "    .dataframe tbody tr th:only-of-type {\n",
       "        vertical-align: middle;\n",
       "    }\n",
       "\n",
       "    .dataframe tbody tr th {\n",
       "        vertical-align: top;\n",
       "    }\n",
       "\n",
       "    .dataframe thead th {\n",
       "        text-align: right;\n",
       "    }\n",
       "</style>\n",
       "<table border=\"1\" class=\"dataframe\">\n",
       "  <thead>\n",
       "    <tr style=\"text-align: right;\">\n",
       "      <th></th>\n",
       "      <th>Timestamp</th>\n",
       "      <th>ID</th>\n",
       "      <th>DLC</th>\n",
       "      <th>Flg</th>\n",
       "      <th>Dir</th>\n",
       "      <th>Payload</th>\n",
       "      <th>label</th>\n",
       "    </tr>\n",
       "  </thead>\n",
       "  <tbody>\n",
       "    <tr>\n",
       "      <th>0</th>\n",
       "      <td>1000.00000</td>\n",
       "      <td>00000145</td>\n",
       "      <td>20</td>\n",
       "      <td>FB</td>\n",
       "      <td>R</td>\n",
       "      <td>14 D7 18 10 01 00 00 00 00 00 00 00 00 00 00 0...</td>\n",
       "      <td>1</td>\n",
       "    </tr>\n",
       "    <tr>\n",
       "      <th>1</th>\n",
       "      <td>1000.00019</td>\n",
       "      <td>000000EA</td>\n",
       "      <td>18</td>\n",
       "      <td>FB</td>\n",
       "      <td>R</td>\n",
       "      <td>B5 65 DD 10 41 43 00 00 F5 07 E7 0F EB FF 00 0...</td>\n",
       "      <td>1</td>\n",
       "    </tr>\n",
       "    <tr>\n",
       "      <th>2</th>\n",
       "      <td>1000.00106</td>\n",
       "      <td>00000040</td>\n",
       "      <td>20</td>\n",
       "      <td>FB</td>\n",
       "      <td>R</td>\n",
       "      <td>82 46 DA 00 10 FF 07 08 00 00 FF 07 00 00 FF 0...</td>\n",
       "      <td>1</td>\n",
       "    </tr>\n",
       "    <tr>\n",
       "      <th>3</th>\n",
       "      <td>1000.00128</td>\n",
       "      <td>0000006A</td>\n",
       "      <td>20</td>\n",
       "      <td>FB</td>\n",
       "      <td>R</td>\n",
       "      <td>B1 69 DA EC 08 7A F0 08 00 00 00 00 00 3E 02 0...</td>\n",
       "      <td>1</td>\n",
       "    </tr>\n",
       "    <tr>\n",
       "      <th>4</th>\n",
       "      <td>1000.00197</td>\n",
       "      <td>00000060</td>\n",
       "      <td>20</td>\n",
       "      <td>FB</td>\n",
       "      <td>R</td>\n",
       "      <td>56 3C 4B 00 00 00 00 00 02 02 00 02 40 FF 00 F...</td>\n",
       "      <td>1</td>\n",
       "    </tr>\n",
       "    <tr>\n",
       "      <th>5</th>\n",
       "      <td>1000.00216</td>\n",
       "      <td>000000B0</td>\n",
       "      <td>18</td>\n",
       "      <td>FB</td>\n",
       "      <td>R</td>\n",
       "      <td>EC 22 4B 64 64 64 64 00 00 B8 0B 00 00 00 00 0...</td>\n",
       "      <td>1</td>\n",
       "    </tr>\n",
       "    <tr>\n",
       "      <th>6</th>\n",
       "      <td>1000.00238</td>\n",
       "      <td>000000B5</td>\n",
       "      <td>20</td>\n",
       "      <td>FB</td>\n",
       "      <td>R</td>\n",
       "      <td>94 0B E3 1C 00 7F 1F 00 1C 00 1C 00 00 00 2C 0...</td>\n",
       "      <td>1</td>\n",
       "    </tr>\n",
       "    <tr>\n",
       "      <th>7</th>\n",
       "      <td>1000.00268</td>\n",
       "      <td>00000100</td>\n",
       "      <td>20</td>\n",
       "      <td>FB</td>\n",
       "      <td>R</td>\n",
       "      <td>46 99 E3 00 10 CB 80 6C 40 00 25 00 00 00 00 5...</td>\n",
       "      <td>1</td>\n",
       "    </tr>\n",
       "    <tr>\n",
       "      <th>8</th>\n",
       "      <td>1000.00287</td>\n",
       "      <td>0000006F</td>\n",
       "      <td>8</td>\n",
       "      <td>FB</td>\n",
       "      <td>R</td>\n",
       "      <td>42 64 4B 00 00 00 00 00</td>\n",
       "      <td>1</td>\n",
       "    </tr>\n",
       "    <tr>\n",
       "      <th>9</th>\n",
       "      <td>1000.00327</td>\n",
       "      <td>00000125</td>\n",
       "      <td>10</td>\n",
       "      <td>FB</td>\n",
       "      <td>R</td>\n",
       "      <td>DD 6F 41 EE FF 00 07 00 00 00 00 00 00 00 00 00</td>\n",
       "      <td>1</td>\n",
       "    </tr>\n",
       "    <tr>\n",
       "      <th>10</th>\n",
       "      <td>1000.00348</td>\n",
       "      <td>00000140</td>\n",
       "      <td>8</td>\n",
       "      <td>FB</td>\n",
       "      <td>R</td>\n",
       "      <td>19 4F 27 41 80 00 00 00</td>\n",
       "      <td>1</td>\n",
       "    </tr>\n",
       "    <tr>\n",
       "      <th>11</th>\n",
       "      <td>1000.00394</td>\n",
       "      <td>0000012A</td>\n",
       "      <td>10</td>\n",
       "      <td>FB</td>\n",
       "      <td>R</td>\n",
       "      <td>24 63 3A 02 40 00 08 00 00 00 01 00 00 64 00 00</td>\n",
       "      <td>1</td>\n",
       "    </tr>\n",
       "    <tr>\n",
       "      <th>12</th>\n",
       "      <td>1000.00409</td>\n",
       "      <td>0000011A</td>\n",
       "      <td>10</td>\n",
       "      <td>FB</td>\n",
       "      <td>R</td>\n",
       "      <td>27 66 3A 00 80 00 A8 02 00 04 08 00 00 00 00 00</td>\n",
       "      <td>1</td>\n",
       "    </tr>\n",
       "    <tr>\n",
       "      <th>13</th>\n",
       "      <td>1000.00449</td>\n",
       "      <td>00000155</td>\n",
       "      <td>10</td>\n",
       "      <td>FB</td>\n",
       "      <td>R</td>\n",
       "      <td>E3 AF D2 13 00 00 00 00 00 00 00 00 00 00 00 00</td>\n",
       "      <td>1</td>\n",
       "    </tr>\n",
       "    <tr>\n",
       "      <th>14</th>\n",
       "      <td>1000.00471</td>\n",
       "      <td>0000004A</td>\n",
       "      <td>20</td>\n",
       "      <td>FB</td>\n",
       "      <td>R</td>\n",
       "      <td>63 5B D1 00 00 00 02 00 FB 7F 9B 7F 15 7D 68 0...</td>\n",
       "      <td>1</td>\n",
       "    </tr>\n",
       "    <tr>\n",
       "      <th>15</th>\n",
       "      <td>1000.00559</td>\n",
       "      <td>0000007A</td>\n",
       "      <td>18</td>\n",
       "      <td>FB</td>\n",
       "      <td>R</td>\n",
       "      <td>25 11 4C 8E 8E 8E 8E 00 00 00 00 00 00 00 00 0...</td>\n",
       "      <td>1</td>\n",
       "    </tr>\n",
       "    <tr>\n",
       "      <th>16</th>\n",
       "      <td>1000.00578</td>\n",
       "      <td>000000A5</td>\n",
       "      <td>18</td>\n",
       "      <td>FB</td>\n",
       "      <td>R</td>\n",
       "      <td>73 C2 4C FE D1 1F F9 01 00 22 20 00 00 00 00 0...</td>\n",
       "      <td>1</td>\n",
       "    </tr>\n",
       "    <tr>\n",
       "      <th>17</th>\n",
       "      <td>1000.00687</td>\n",
       "      <td>00000065</td>\n",
       "      <td>18</td>\n",
       "      <td>FB</td>\n",
       "      <td>R</td>\n",
       "      <td>EB BE 4B 00 00 F2 FF 10 00 00 00 00 00 00 00 0...</td>\n",
       "      <td>1</td>\n",
       "    </tr>\n",
       "    <tr>\n",
       "      <th>18</th>\n",
       "      <td>1000.00724</td>\n",
       "      <td>000000A0</td>\n",
       "      <td>18</td>\n",
       "      <td>FB</td>\n",
       "      <td>R</td>\n",
       "      <td>23 51 4B 3C D9 6D 34 00 00 00 00 00 00 00 00 0...</td>\n",
       "      <td>1</td>\n",
       "    </tr>\n",
       "    <tr>\n",
       "      <th>19</th>\n",
       "      <td>1000.00840</td>\n",
       "      <td>000001AA</td>\n",
       "      <td>10</td>\n",
       "      <td>FB</td>\n",
       "      <td>R</td>\n",
       "      <td>89 77 34 10 00 A0 00 08 00 00 00 00 00 00 00 00</td>\n",
       "      <td>1</td>\n",
       "    </tr>\n",
       "  </tbody>\n",
       "</table>\n",
       "</div>"
      ],
      "text/plain": [
       "     Timestamp        ID  DLC Flg Dir  \\\n",
       "0   1000.00000  00000145   20  FB   R   \n",
       "1   1000.00019  000000EA   18  FB   R   \n",
       "2   1000.00106  00000040   20  FB   R   \n",
       "3   1000.00128  0000006A   20  FB   R   \n",
       "4   1000.00197  00000060   20  FB   R   \n",
       "5   1000.00216  000000B0   18  FB   R   \n",
       "6   1000.00238  000000B5   20  FB   R   \n",
       "7   1000.00268  00000100   20  FB   R   \n",
       "8   1000.00287  0000006F    8  FB   R   \n",
       "9   1000.00327  00000125   10  FB   R   \n",
       "10  1000.00348  00000140    8  FB   R   \n",
       "11  1000.00394  0000012A   10  FB   R   \n",
       "12  1000.00409  0000011A   10  FB   R   \n",
       "13  1000.00449  00000155   10  FB   R   \n",
       "14  1000.00471  0000004A   20  FB   R   \n",
       "15  1000.00559  0000007A   18  FB   R   \n",
       "16  1000.00578  000000A5   18  FB   R   \n",
       "17  1000.00687  00000065   18  FB   R   \n",
       "18  1000.00724  000000A0   18  FB   R   \n",
       "19  1000.00840  000001AA   10  FB   R   \n",
       "\n",
       "                                              Payload  label  \n",
       "0   14 D7 18 10 01 00 00 00 00 00 00 00 00 00 00 0...      1  \n",
       "1   B5 65 DD 10 41 43 00 00 F5 07 E7 0F EB FF 00 0...      1  \n",
       "2   82 46 DA 00 10 FF 07 08 00 00 FF 07 00 00 FF 0...      1  \n",
       "3   B1 69 DA EC 08 7A F0 08 00 00 00 00 00 3E 02 0...      1  \n",
       "4   56 3C 4B 00 00 00 00 00 02 02 00 02 40 FF 00 F...      1  \n",
       "5   EC 22 4B 64 64 64 64 00 00 B8 0B 00 00 00 00 0...      1  \n",
       "6   94 0B E3 1C 00 7F 1F 00 1C 00 1C 00 00 00 2C 0...      1  \n",
       "7   46 99 E3 00 10 CB 80 6C 40 00 25 00 00 00 00 5...      1  \n",
       "8                             42 64 4B 00 00 00 00 00      1  \n",
       "9     DD 6F 41 EE FF 00 07 00 00 00 00 00 00 00 00 00      1  \n",
       "10                            19 4F 27 41 80 00 00 00      1  \n",
       "11    24 63 3A 02 40 00 08 00 00 00 01 00 00 64 00 00      1  \n",
       "12    27 66 3A 00 80 00 A8 02 00 04 08 00 00 00 00 00      1  \n",
       "13    E3 AF D2 13 00 00 00 00 00 00 00 00 00 00 00 00      1  \n",
       "14  63 5B D1 00 00 00 02 00 FB 7F 9B 7F 15 7D 68 0...      1  \n",
       "15  25 11 4C 8E 8E 8E 8E 00 00 00 00 00 00 00 00 0...      1  \n",
       "16  73 C2 4C FE D1 1F F9 01 00 22 20 00 00 00 00 0...      1  \n",
       "17  EB BE 4B 00 00 F2 FF 10 00 00 00 00 00 00 00 0...      1  \n",
       "18  23 51 4B 3C D9 6D 34 00 00 00 00 00 00 00 00 0...      1  \n",
       "19    89 77 34 10 00 A0 00 08 00 00 00 00 00 00 00 00      1  "
      ]
     },
     "execution_count": 158,
     "metadata": {},
     "output_type": "execute_result"
    }
   ],
   "source": [
    "dump"
   ]
  },
  {
   "cell_type": "code",
   "execution_count": 159,
   "metadata": {
    "collapsed": false
   },
   "outputs": [],
   "source": [
    "a = pandas.read_csv('test.csv')"
   ]
  },
  {
   "cell_type": "code",
   "execution_count": 160,
   "metadata": {
    "collapsed": false
   },
   "outputs": [
    {
     "data": {
      "text/html": [
       "<div>\n",
       "<style scoped>\n",
       "    .dataframe tbody tr th:only-of-type {\n",
       "        vertical-align: middle;\n",
       "    }\n",
       "\n",
       "    .dataframe tbody tr th {\n",
       "        vertical-align: top;\n",
       "    }\n",
       "\n",
       "    .dataframe thead th {\n",
       "        text-align: right;\n",
       "    }\n",
       "</style>\n",
       "<table border=\"1\" class=\"dataframe\">\n",
       "  <thead>\n",
       "    <tr style=\"text-align: right;\">\n",
       "      <th></th>\n",
       "      <th>Timestamp</th>\n",
       "      <th>ID</th>\n",
       "      <th>DLC</th>\n",
       "      <th>Flg</th>\n",
       "      <th>Dir</th>\n",
       "      <th>Payload</th>\n",
       "      <th>label</th>\n",
       "    </tr>\n",
       "  </thead>\n",
       "  <tbody>\n",
       "    <tr>\n",
       "      <th>4737709</th>\n",
       "      <td>4063.80237</td>\n",
       "      <td>00000145</td>\n",
       "      <td>20</td>\n",
       "      <td>FB</td>\n",
       "      <td>R</td>\n",
       "      <td>14 D7 18 10 01 00 00 00 00 00 00 00 00 00 00 0...</td>\n",
       "      <td>1</td>\n",
       "    </tr>\n",
       "    <tr>\n",
       "      <th>4737710</th>\n",
       "      <td>4063.80256</td>\n",
       "      <td>000000EA</td>\n",
       "      <td>18</td>\n",
       "      <td>FB</td>\n",
       "      <td>R</td>\n",
       "      <td>B5 65 DD 10 41 43 00 00 F5 07 E7 0F EB FF 00 0...</td>\n",
       "      <td>1</td>\n",
       "    </tr>\n",
       "    <tr>\n",
       "      <th>4737714</th>\n",
       "      <td>4063.80343</td>\n",
       "      <td>00000040</td>\n",
       "      <td>20</td>\n",
       "      <td>FB</td>\n",
       "      <td>R</td>\n",
       "      <td>82 46 DA 00 10 FF 07 08 00 00 FF 07 00 00 FF 0...</td>\n",
       "      <td>1</td>\n",
       "    </tr>\n",
       "    <tr>\n",
       "      <th>4737716</th>\n",
       "      <td>4063.80365</td>\n",
       "      <td>0000006A</td>\n",
       "      <td>20</td>\n",
       "      <td>FB</td>\n",
       "      <td>R</td>\n",
       "      <td>B1 69 DA EC 08 7A F0 08 00 00 00 00 00 3E 02 0...</td>\n",
       "      <td>1</td>\n",
       "    </tr>\n",
       "    <tr>\n",
       "      <th>4737717</th>\n",
       "      <td>4063.80434</td>\n",
       "      <td>00000060</td>\n",
       "      <td>20</td>\n",
       "      <td>FB</td>\n",
       "      <td>R</td>\n",
       "      <td>56 3C 4B 00 00 00 00 00 02 02 00 02 40 FF 00 F...</td>\n",
       "      <td>1</td>\n",
       "    </tr>\n",
       "    <tr>\n",
       "      <th>4737718</th>\n",
       "      <td>4063.80453</td>\n",
       "      <td>000000B0</td>\n",
       "      <td>18</td>\n",
       "      <td>FB</td>\n",
       "      <td>R</td>\n",
       "      <td>EC 22 4B 64 64 64 64 00 00 B8 0B 00 00 00 00 0...</td>\n",
       "      <td>1</td>\n",
       "    </tr>\n",
       "    <tr>\n",
       "      <th>4737720</th>\n",
       "      <td>4063.80475</td>\n",
       "      <td>000000B5</td>\n",
       "      <td>20</td>\n",
       "      <td>FB</td>\n",
       "      <td>R</td>\n",
       "      <td>94 0B E3 1C 00 7F 1F 00 1C 00 1C 00 00 00 2C 0...</td>\n",
       "      <td>1</td>\n",
       "    </tr>\n",
       "    <tr>\n",
       "      <th>4737721</th>\n",
       "      <td>4063.80505</td>\n",
       "      <td>00000100</td>\n",
       "      <td>20</td>\n",
       "      <td>FB</td>\n",
       "      <td>R</td>\n",
       "      <td>46 99 E3 00 10 CB 80 6C 40 00 25 00 00 00 00 5...</td>\n",
       "      <td>1</td>\n",
       "    </tr>\n",
       "    <tr>\n",
       "      <th>4737722</th>\n",
       "      <td>4063.80524</td>\n",
       "      <td>0000006F</td>\n",
       "      <td>8</td>\n",
       "      <td>FB</td>\n",
       "      <td>R</td>\n",
       "      <td>42 64 4B 00 00 00 00 00</td>\n",
       "      <td>1</td>\n",
       "    </tr>\n",
       "    <tr>\n",
       "      <th>4737724</th>\n",
       "      <td>4063.80564</td>\n",
       "      <td>00000125</td>\n",
       "      <td>10</td>\n",
       "      <td>FB</td>\n",
       "      <td>R</td>\n",
       "      <td>DD 6F 41 EE FF 00 07 00 00 00 00 00 00 00 00 00</td>\n",
       "      <td>1</td>\n",
       "    </tr>\n",
       "    <tr>\n",
       "      <th>4737725</th>\n",
       "      <td>4063.80585</td>\n",
       "      <td>00000140</td>\n",
       "      <td>8</td>\n",
       "      <td>FB</td>\n",
       "      <td>R</td>\n",
       "      <td>19 4F 27 41 80 00 00 00</td>\n",
       "      <td>1</td>\n",
       "    </tr>\n",
       "    <tr>\n",
       "      <th>4737726</th>\n",
       "      <td>4063.80631</td>\n",
       "      <td>0000012A</td>\n",
       "      <td>10</td>\n",
       "      <td>FB</td>\n",
       "      <td>R</td>\n",
       "      <td>24 63 3A 02 40 00 08 00 00 00 01 00 00 64 00 00</td>\n",
       "      <td>1</td>\n",
       "    </tr>\n",
       "    <tr>\n",
       "      <th>4737727</th>\n",
       "      <td>4063.80646</td>\n",
       "      <td>0000011A</td>\n",
       "      <td>10</td>\n",
       "      <td>FB</td>\n",
       "      <td>R</td>\n",
       "      <td>27 66 3A 00 80 00 A8 02 00 04 08 00 00 00 00 00</td>\n",
       "      <td>1</td>\n",
       "    </tr>\n",
       "    <tr>\n",
       "      <th>4737728</th>\n",
       "      <td>4063.80686</td>\n",
       "      <td>00000155</td>\n",
       "      <td>10</td>\n",
       "      <td>FB</td>\n",
       "      <td>R</td>\n",
       "      <td>E3 AF D2 13 00 00 00 00 00 00 00 00 00 00 00 00</td>\n",
       "      <td>1</td>\n",
       "    </tr>\n",
       "    <tr>\n",
       "      <th>4737730</th>\n",
       "      <td>4063.80708</td>\n",
       "      <td>0000004A</td>\n",
       "      <td>20</td>\n",
       "      <td>FB</td>\n",
       "      <td>R</td>\n",
       "      <td>63 5B D1 00 00 00 02 00 FB 7F 9B 7F 15 7D 68 0...</td>\n",
       "      <td>1</td>\n",
       "    </tr>\n",
       "    <tr>\n",
       "      <th>4737736</th>\n",
       "      <td>4063.80796</td>\n",
       "      <td>0000007A</td>\n",
       "      <td>18</td>\n",
       "      <td>FB</td>\n",
       "      <td>R</td>\n",
       "      <td>25 11 4C 8E 8E 8E 8E 00 00 00 00 00 00 00 00 0...</td>\n",
       "      <td>1</td>\n",
       "    </tr>\n",
       "    <tr>\n",
       "      <th>4737738</th>\n",
       "      <td>4063.80815</td>\n",
       "      <td>000000A5</td>\n",
       "      <td>18</td>\n",
       "      <td>FB</td>\n",
       "      <td>R</td>\n",
       "      <td>73 C2 4C FE D1 1F F9 01 00 22 20 00 00 00 00 0...</td>\n",
       "      <td>1</td>\n",
       "    </tr>\n",
       "    <tr>\n",
       "      <th>4737745</th>\n",
       "      <td>4063.80924</td>\n",
       "      <td>00000065</td>\n",
       "      <td>18</td>\n",
       "      <td>FB</td>\n",
       "      <td>R</td>\n",
       "      <td>EB BE 4B 00 00 F2 FF 10 00 00 00 00 00 00 00 0...</td>\n",
       "      <td>1</td>\n",
       "    </tr>\n",
       "    <tr>\n",
       "      <th>4737748</th>\n",
       "      <td>4063.80961</td>\n",
       "      <td>000000A0</td>\n",
       "      <td>18</td>\n",
       "      <td>FB</td>\n",
       "      <td>R</td>\n",
       "      <td>23 51 4B 3C D9 6D 34 00 00 00 00 00 00 00 00 0...</td>\n",
       "      <td>1</td>\n",
       "    </tr>\n",
       "    <tr>\n",
       "      <th>4737752</th>\n",
       "      <td>4063.81077</td>\n",
       "      <td>000001AA</td>\n",
       "      <td>10</td>\n",
       "      <td>FB</td>\n",
       "      <td>R</td>\n",
       "      <td>89 77 34 10 00 A0 00 08 00 00 00 00 00 00 00 00</td>\n",
       "      <td>1</td>\n",
       "    </tr>\n",
       "  </tbody>\n",
       "</table>\n",
       "</div>"
      ],
      "text/plain": [
       "          Timestamp        ID  DLC Flg Dir  \\\n",
       "4737709  4063.80237  00000145   20  FB   R   \n",
       "4737710  4063.80256  000000EA   18  FB   R   \n",
       "4737714  4063.80343  00000040   20  FB   R   \n",
       "4737716  4063.80365  0000006A   20  FB   R   \n",
       "4737717  4063.80434  00000060   20  FB   R   \n",
       "4737718  4063.80453  000000B0   18  FB   R   \n",
       "4737720  4063.80475  000000B5   20  FB   R   \n",
       "4737721  4063.80505  00000100   20  FB   R   \n",
       "4737722  4063.80524  0000006F    8  FB   R   \n",
       "4737724  4063.80564  00000125   10  FB   R   \n",
       "4737725  4063.80585  00000140    8  FB   R   \n",
       "4737726  4063.80631  0000012A   10  FB   R   \n",
       "4737727  4063.80646  0000011A   10  FB   R   \n",
       "4737728  4063.80686  00000155   10  FB   R   \n",
       "4737730  4063.80708  0000004A   20  FB   R   \n",
       "4737736  4063.80796  0000007A   18  FB   R   \n",
       "4737738  4063.80815  000000A5   18  FB   R   \n",
       "4737745  4063.80924  00000065   18  FB   R   \n",
       "4737748  4063.80961  000000A0   18  FB   R   \n",
       "4737752  4063.81077  000001AA   10  FB   R   \n",
       "\n",
       "                                                   Payload  label  \n",
       "4737709  14 D7 18 10 01 00 00 00 00 00 00 00 00 00 00 0...      1  \n",
       "4737710  B5 65 DD 10 41 43 00 00 F5 07 E7 0F EB FF 00 0...      1  \n",
       "4737714  82 46 DA 00 10 FF 07 08 00 00 FF 07 00 00 FF 0...      1  \n",
       "4737716  B1 69 DA EC 08 7A F0 08 00 00 00 00 00 3E 02 0...      1  \n",
       "4737717  56 3C 4B 00 00 00 00 00 02 02 00 02 40 FF 00 F...      1  \n",
       "4737718  EC 22 4B 64 64 64 64 00 00 B8 0B 00 00 00 00 0...      1  \n",
       "4737720  94 0B E3 1C 00 7F 1F 00 1C 00 1C 00 00 00 2C 0...      1  \n",
       "4737721  46 99 E3 00 10 CB 80 6C 40 00 25 00 00 00 00 5...      1  \n",
       "4737722                            42 64 4B 00 00 00 00 00      1  \n",
       "4737724    DD 6F 41 EE FF 00 07 00 00 00 00 00 00 00 00 00      1  \n",
       "4737725                            19 4F 27 41 80 00 00 00      1  \n",
       "4737726    24 63 3A 02 40 00 08 00 00 00 01 00 00 64 00 00      1  \n",
       "4737727    27 66 3A 00 80 00 A8 02 00 04 08 00 00 00 00 00      1  \n",
       "4737728    E3 AF D2 13 00 00 00 00 00 00 00 00 00 00 00 00      1  \n",
       "4737730  63 5B D1 00 00 00 02 00 FB 7F 9B 7F 15 7D 68 0...      1  \n",
       "4737736  25 11 4C 8E 8E 8E 8E 00 00 00 00 00 00 00 00 0...      1  \n",
       "4737738  73 C2 4C FE D1 1F F9 01 00 22 20 00 00 00 00 0...      1  \n",
       "4737745  EB BE 4B 00 00 F2 FF 10 00 00 00 00 00 00 00 0...      1  \n",
       "4737748  23 51 4B 3C D9 6D 34 00 00 00 00 00 00 00 00 0...      1  \n",
       "4737752    89 77 34 10 00 A0 00 08 00 00 00 00 00 00 00 00      1  "
      ]
     },
     "execution_count": 160,
     "metadata": {},
     "output_type": "execute_result"
    }
   ],
   "source": [
    "a[a['label'] == 1]"
   ]
  },
  {
   "cell_type": "code",
   "execution_count": 4,
   "metadata": {
    "collapsed": false
   },
   "outputs": [],
   "source": [
    "data = pd.read_csv('can_data.csv')"
   ]
  },
  {
   "cell_type": "code",
   "execution_count": 5,
   "metadata": {
    "collapsed": false,
    "pycharm": {
     "name": "#%%\n"
    }
   },
   "outputs": [],
   "source": [
    "data = data.head(20)"
   ]
  },
  {
   "cell_type": "code",
   "execution_count": 6,
   "metadata": {},
   "outputs": [
    {
     "data": {
      "text/html": [
       "<div>\n",
       "<style scoped>\n",
       "    .dataframe tbody tr th:only-of-type {\n",
       "        vertical-align: middle;\n",
       "    }\n",
       "\n",
       "    .dataframe tbody tr th {\n",
       "        vertical-align: top;\n",
       "    }\n",
       "\n",
       "    .dataframe thead th {\n",
       "        text-align: right;\n",
       "    }\n",
       "</style>\n",
       "<table border=\"1\" class=\"dataframe\">\n",
       "  <thead>\n",
       "    <tr style=\"text-align: right;\">\n",
       "      <th></th>\n",
       "      <th>Timestamp</th>\n",
       "      <th>ID</th>\n",
       "      <th>DLC</th>\n",
       "      <th>Payload</th>\n",
       "      <th>label</th>\n",
       "    </tr>\n",
       "  </thead>\n",
       "  <tbody>\n",
       "    <tr>\n",
       "      <th>0</th>\n",
       "      <td>325.94738</td>\n",
       "      <td>00000356</td>\n",
       "      <td>8</td>\n",
       "      <td>00 00 00 80 23 00 00 00</td>\n",
       "      <td>0</td>\n",
       "    </tr>\n",
       "    <tr>\n",
       "      <th>1</th>\n",
       "      <td>325.94760</td>\n",
       "      <td>00000366</td>\n",
       "      <td>7</td>\n",
       "      <td>32 18 0B 32 1F 00 01</td>\n",
       "      <td>0</td>\n",
       "    </tr>\n",
       "    <tr>\n",
       "      <th>2</th>\n",
       "      <td>325.94785</td>\n",
       "      <td>00000367</td>\n",
       "      <td>8</td>\n",
       "      <td>00 00 00 00 05 00 00 00</td>\n",
       "      <td>0</td>\n",
       "    </tr>\n",
       "    <tr>\n",
       "      <th>3</th>\n",
       "      <td>325.94809</td>\n",
       "      <td>00000153</td>\n",
       "      <td>8</td>\n",
       "      <td>20 80 10 FF 00 FF 90 3E</td>\n",
       "      <td>0</td>\n",
       "    </tr>\n",
       "    <tr>\n",
       "      <th>4</th>\n",
       "      <td>325.94832</td>\n",
       "      <td>00000220</td>\n",
       "      <td>8</td>\n",
       "      <td>DB C3 76 A8 05 FD 8F 54</td>\n",
       "      <td>0</td>\n",
       "    </tr>\n",
       "    <tr>\n",
       "      <th>5</th>\n",
       "      <td>325.94856</td>\n",
       "      <td>00000368</td>\n",
       "      <td>8</td>\n",
       "      <td>00 00 00 00 01 10 0B 42</td>\n",
       "      <td>0</td>\n",
       "    </tr>\n",
       "    <tr>\n",
       "      <th>6</th>\n",
       "      <td>325.94880</td>\n",
       "      <td>00000130</td>\n",
       "      <td>8</td>\n",
       "      <td>0C 80 D8 7E 00 00 02 00</td>\n",
       "      <td>0</td>\n",
       "    </tr>\n",
       "    <tr>\n",
       "      <th>7</th>\n",
       "      <td>325.94904</td>\n",
       "      <td>00000140</td>\n",
       "      <td>8</td>\n",
       "      <td>D8 7D 00 64 20 00 02 A1</td>\n",
       "      <td>0</td>\n",
       "    </tr>\n",
       "    <tr>\n",
       "      <th>8</th>\n",
       "      <td>325.94922</td>\n",
       "      <td>00000453</td>\n",
       "      <td>5</td>\n",
       "      <td>00 80 82 00 95</td>\n",
       "      <td>0</td>\n",
       "    </tr>\n",
       "    <tr>\n",
       "      <th>9</th>\n",
       "      <td>325.94945</td>\n",
       "      <td>00000470</td>\n",
       "      <td>8</td>\n",
       "      <td>05 01 04 04 54 50 54 49</td>\n",
       "      <td>0</td>\n",
       "    </tr>\n",
       "    <tr>\n",
       "      <th>10</th>\n",
       "      <td>325.94971</td>\n",
       "      <td>00000559</td>\n",
       "      <td>8</td>\n",
       "      <td>00 00 00 00 00 00 00 00</td>\n",
       "      <td>0</td>\n",
       "    </tr>\n",
       "    <tr>\n",
       "      <th>11</th>\n",
       "      <td>325.95164</td>\n",
       "      <td>00000251</td>\n",
       "      <td>8</td>\n",
       "      <td>AB 03 FD 65 00 BE 67 7F</td>\n",
       "      <td>0</td>\n",
       "    </tr>\n",
       "    <tr>\n",
       "      <th>12</th>\n",
       "      <td>325.95184</td>\n",
       "      <td>000002B0</td>\n",
       "      <td>6</td>\n",
       "      <td>EA FF 00 07 ED A2</td>\n",
       "      <td>0</td>\n",
       "    </tr>\n",
       "    <tr>\n",
       "      <th>13</th>\n",
       "      <td>325.95208</td>\n",
       "      <td>0000038D</td>\n",
       "      <td>8</td>\n",
       "      <td>00 00 49 00 C0 7F FE 79</td>\n",
       "      <td>0</td>\n",
       "    </tr>\n",
       "    <tr>\n",
       "      <th>14</th>\n",
       "      <td>325.95232</td>\n",
       "      <td>00000420</td>\n",
       "      <td>8</td>\n",
       "      <td>20 1E 00 C8 FC 4F 6A 00</td>\n",
       "      <td>0</td>\n",
       "    </tr>\n",
       "    <tr>\n",
       "      <th>15</th>\n",
       "      <td>325.95256</td>\n",
       "      <td>00000421</td>\n",
       "      <td>8</td>\n",
       "      <td>FE 07 00 FF E3 7F 00 F8</td>\n",
       "      <td>0</td>\n",
       "    </tr>\n",
       "    <tr>\n",
       "      <th>16</th>\n",
       "      <td>325.95281</td>\n",
       "      <td>00000389</td>\n",
       "      <td>8</td>\n",
       "      <td>00 00 00 20 00 00 68 00</td>\n",
       "      <td>0</td>\n",
       "    </tr>\n",
       "    <tr>\n",
       "      <th>17</th>\n",
       "      <td>325.95300</td>\n",
       "      <td>00000164</td>\n",
       "      <td>4</td>\n",
       "      <td>00 08 06 E5</td>\n",
       "      <td>0</td>\n",
       "    </tr>\n",
       "    <tr>\n",
       "      <th>18</th>\n",
       "      <td>325.95329</td>\n",
       "      <td>00000340</td>\n",
       "      <td>8</td>\n",
       "      <td>04 00 00 24 B6 01 16 11</td>\n",
       "      <td>0</td>\n",
       "    </tr>\n",
       "    <tr>\n",
       "      <th>19</th>\n",
       "      <td>325.95354</td>\n",
       "      <td>00000386</td>\n",
       "      <td>8</td>\n",
       "      <td>00 40 00 00 00 40 00 80</td>\n",
       "      <td>0</td>\n",
       "    </tr>\n",
       "  </tbody>\n",
       "</table>\n",
       "</div>"
      ],
      "text/plain": [
       "    Timestamp        ID  DLC                  Payload  label\n",
       "0   325.94738  00000356    8  00 00 00 80 23 00 00 00      0\n",
       "1   325.94760  00000366    7     32 18 0B 32 1F 00 01      0\n",
       "2   325.94785  00000367    8  00 00 00 00 05 00 00 00      0\n",
       "3   325.94809  00000153    8  20 80 10 FF 00 FF 90 3E      0\n",
       "4   325.94832  00000220    8  DB C3 76 A8 05 FD 8F 54      0\n",
       "5   325.94856  00000368    8  00 00 00 00 01 10 0B 42      0\n",
       "6   325.94880  00000130    8  0C 80 D8 7E 00 00 02 00      0\n",
       "7   325.94904  00000140    8  D8 7D 00 64 20 00 02 A1      0\n",
       "8   325.94922  00000453    5           00 80 82 00 95      0\n",
       "9   325.94945  00000470    8  05 01 04 04 54 50 54 49      0\n",
       "10  325.94971  00000559    8  00 00 00 00 00 00 00 00      0\n",
       "11  325.95164  00000251    8  AB 03 FD 65 00 BE 67 7F      0\n",
       "12  325.95184  000002B0    6        EA FF 00 07 ED A2      0\n",
       "13  325.95208  0000038D    8  00 00 49 00 C0 7F FE 79      0\n",
       "14  325.95232  00000420    8  20 1E 00 C8 FC 4F 6A 00      0\n",
       "15  325.95256  00000421    8  FE 07 00 FF E3 7F 00 F8      0\n",
       "16  325.95281  00000389    8  00 00 00 20 00 00 68 00      0\n",
       "17  325.95300  00000164    4              00 08 06 E5      0\n",
       "18  325.95329  00000340    8  04 00 00 24 B6 01 16 11      0\n",
       "19  325.95354  00000386    8  00 40 00 00 00 40 00 80      0"
      ]
     },
     "execution_count": 6,
     "metadata": {},
     "output_type": "execute_result"
    }
   ],
   "source": [
    "data"
   ]
  },
  {
   "cell_type": "code",
   "execution_count": 7,
   "metadata": {},
   "outputs": [],
   "source": [
    "data['label'] = 1"
   ]
  },
  {
   "cell_type": "code",
   "execution_count": 8,
   "metadata": {},
   "outputs": [
    {
     "data": {
      "text/html": [
       "<div>\n",
       "<style scoped>\n",
       "    .dataframe tbody tr th:only-of-type {\n",
       "        vertical-align: middle;\n",
       "    }\n",
       "\n",
       "    .dataframe tbody tr th {\n",
       "        vertical-align: top;\n",
       "    }\n",
       "\n",
       "    .dataframe thead th {\n",
       "        text-align: right;\n",
       "    }\n",
       "</style>\n",
       "<table border=\"1\" class=\"dataframe\">\n",
       "  <thead>\n",
       "    <tr style=\"text-align: right;\">\n",
       "      <th></th>\n",
       "      <th>Timestamp</th>\n",
       "      <th>ID</th>\n",
       "      <th>DLC</th>\n",
       "      <th>Payload</th>\n",
       "      <th>label</th>\n",
       "    </tr>\n",
       "  </thead>\n",
       "  <tbody>\n",
       "    <tr>\n",
       "      <th>0</th>\n",
       "      <td>325.94738</td>\n",
       "      <td>00000356</td>\n",
       "      <td>8</td>\n",
       "      <td>00 00 00 80 23 00 00 00</td>\n",
       "      <td>1</td>\n",
       "    </tr>\n",
       "    <tr>\n",
       "      <th>1</th>\n",
       "      <td>325.94760</td>\n",
       "      <td>00000366</td>\n",
       "      <td>7</td>\n",
       "      <td>32 18 0B 32 1F 00 01</td>\n",
       "      <td>1</td>\n",
       "    </tr>\n",
       "    <tr>\n",
       "      <th>2</th>\n",
       "      <td>325.94785</td>\n",
       "      <td>00000367</td>\n",
       "      <td>8</td>\n",
       "      <td>00 00 00 00 05 00 00 00</td>\n",
       "      <td>1</td>\n",
       "    </tr>\n",
       "    <tr>\n",
       "      <th>3</th>\n",
       "      <td>325.94809</td>\n",
       "      <td>00000153</td>\n",
       "      <td>8</td>\n",
       "      <td>20 80 10 FF 00 FF 90 3E</td>\n",
       "      <td>1</td>\n",
       "    </tr>\n",
       "    <tr>\n",
       "      <th>4</th>\n",
       "      <td>325.94832</td>\n",
       "      <td>00000220</td>\n",
       "      <td>8</td>\n",
       "      <td>DB C3 76 A8 05 FD 8F 54</td>\n",
       "      <td>1</td>\n",
       "    </tr>\n",
       "    <tr>\n",
       "      <th>5</th>\n",
       "      <td>325.94856</td>\n",
       "      <td>00000368</td>\n",
       "      <td>8</td>\n",
       "      <td>00 00 00 00 01 10 0B 42</td>\n",
       "      <td>1</td>\n",
       "    </tr>\n",
       "    <tr>\n",
       "      <th>6</th>\n",
       "      <td>325.94880</td>\n",
       "      <td>00000130</td>\n",
       "      <td>8</td>\n",
       "      <td>0C 80 D8 7E 00 00 02 00</td>\n",
       "      <td>1</td>\n",
       "    </tr>\n",
       "    <tr>\n",
       "      <th>7</th>\n",
       "      <td>325.94904</td>\n",
       "      <td>00000140</td>\n",
       "      <td>8</td>\n",
       "      <td>D8 7D 00 64 20 00 02 A1</td>\n",
       "      <td>1</td>\n",
       "    </tr>\n",
       "    <tr>\n",
       "      <th>8</th>\n",
       "      <td>325.94922</td>\n",
       "      <td>00000453</td>\n",
       "      <td>5</td>\n",
       "      <td>00 80 82 00 95</td>\n",
       "      <td>1</td>\n",
       "    </tr>\n",
       "    <tr>\n",
       "      <th>9</th>\n",
       "      <td>325.94945</td>\n",
       "      <td>00000470</td>\n",
       "      <td>8</td>\n",
       "      <td>05 01 04 04 54 50 54 49</td>\n",
       "      <td>1</td>\n",
       "    </tr>\n",
       "    <tr>\n",
       "      <th>10</th>\n",
       "      <td>325.94971</td>\n",
       "      <td>00000559</td>\n",
       "      <td>8</td>\n",
       "      <td>00 00 00 00 00 00 00 00</td>\n",
       "      <td>1</td>\n",
       "    </tr>\n",
       "    <tr>\n",
       "      <th>11</th>\n",
       "      <td>325.95164</td>\n",
       "      <td>00000251</td>\n",
       "      <td>8</td>\n",
       "      <td>AB 03 FD 65 00 BE 67 7F</td>\n",
       "      <td>1</td>\n",
       "    </tr>\n",
       "    <tr>\n",
       "      <th>12</th>\n",
       "      <td>325.95184</td>\n",
       "      <td>000002B0</td>\n",
       "      <td>6</td>\n",
       "      <td>EA FF 00 07 ED A2</td>\n",
       "      <td>1</td>\n",
       "    </tr>\n",
       "    <tr>\n",
       "      <th>13</th>\n",
       "      <td>325.95208</td>\n",
       "      <td>0000038D</td>\n",
       "      <td>8</td>\n",
       "      <td>00 00 49 00 C0 7F FE 79</td>\n",
       "      <td>1</td>\n",
       "    </tr>\n",
       "    <tr>\n",
       "      <th>14</th>\n",
       "      <td>325.95232</td>\n",
       "      <td>00000420</td>\n",
       "      <td>8</td>\n",
       "      <td>20 1E 00 C8 FC 4F 6A 00</td>\n",
       "      <td>1</td>\n",
       "    </tr>\n",
       "    <tr>\n",
       "      <th>15</th>\n",
       "      <td>325.95256</td>\n",
       "      <td>00000421</td>\n",
       "      <td>8</td>\n",
       "      <td>FE 07 00 FF E3 7F 00 F8</td>\n",
       "      <td>1</td>\n",
       "    </tr>\n",
       "    <tr>\n",
       "      <th>16</th>\n",
       "      <td>325.95281</td>\n",
       "      <td>00000389</td>\n",
       "      <td>8</td>\n",
       "      <td>00 00 00 20 00 00 68 00</td>\n",
       "      <td>1</td>\n",
       "    </tr>\n",
       "    <tr>\n",
       "      <th>17</th>\n",
       "      <td>325.95300</td>\n",
       "      <td>00000164</td>\n",
       "      <td>4</td>\n",
       "      <td>00 08 06 E5</td>\n",
       "      <td>1</td>\n",
       "    </tr>\n",
       "    <tr>\n",
       "      <th>18</th>\n",
       "      <td>325.95329</td>\n",
       "      <td>00000340</td>\n",
       "      <td>8</td>\n",
       "      <td>04 00 00 24 B6 01 16 11</td>\n",
       "      <td>1</td>\n",
       "    </tr>\n",
       "    <tr>\n",
       "      <th>19</th>\n",
       "      <td>325.95354</td>\n",
       "      <td>00000386</td>\n",
       "      <td>8</td>\n",
       "      <td>00 40 00 00 00 40 00 80</td>\n",
       "      <td>1</td>\n",
       "    </tr>\n",
       "  </tbody>\n",
       "</table>\n",
       "</div>"
      ],
      "text/plain": [
       "    Timestamp        ID  DLC                  Payload  label\n",
       "0   325.94738  00000356    8  00 00 00 80 23 00 00 00      1\n",
       "1   325.94760  00000366    7     32 18 0B 32 1F 00 01      1\n",
       "2   325.94785  00000367    8  00 00 00 00 05 00 00 00      1\n",
       "3   325.94809  00000153    8  20 80 10 FF 00 FF 90 3E      1\n",
       "4   325.94832  00000220    8  DB C3 76 A8 05 FD 8F 54      1\n",
       "5   325.94856  00000368    8  00 00 00 00 01 10 0B 42      1\n",
       "6   325.94880  00000130    8  0C 80 D8 7E 00 00 02 00      1\n",
       "7   325.94904  00000140    8  D8 7D 00 64 20 00 02 A1      1\n",
       "8   325.94922  00000453    5           00 80 82 00 95      1\n",
       "9   325.94945  00000470    8  05 01 04 04 54 50 54 49      1\n",
       "10  325.94971  00000559    8  00 00 00 00 00 00 00 00      1\n",
       "11  325.95164  00000251    8  AB 03 FD 65 00 BE 67 7F      1\n",
       "12  325.95184  000002B0    6        EA FF 00 07 ED A2      1\n",
       "13  325.95208  0000038D    8  00 00 49 00 C0 7F FE 79      1\n",
       "14  325.95232  00000420    8  20 1E 00 C8 FC 4F 6A 00      1\n",
       "15  325.95256  00000421    8  FE 07 00 FF E3 7F 00 F8      1\n",
       "16  325.95281  00000389    8  00 00 00 20 00 00 68 00      1\n",
       "17  325.95300  00000164    4              00 08 06 E5      1\n",
       "18  325.95329  00000340    8  04 00 00 24 B6 01 16 11      1\n",
       "19  325.95354  00000386    8  00 40 00 00 00 40 00 80      1"
      ]
     },
     "execution_count": 8,
     "metadata": {},
     "output_type": "execute_result"
    }
   ],
   "source": [
    "data"
   ]
  },
  {
   "cell_type": "code",
   "execution_count": 9,
   "metadata": {},
   "outputs": [],
   "source": [
    "data.to_csv(f'can_replay_dummy.csv', sep = ',', index = False)"
   ]
  },
  {
   "cell_type": "code",
   "execution_count": 1,
   "metadata": {},
   "outputs": [],
   "source": [
    "import pandas as pd"
   ]
  },
  {
   "cell_type": "code",
   "execution_count": 2,
   "metadata": {},
   "outputs": [],
   "source": [
    "data = pd.read_csv('can_data_dos.csv')"
   ]
  },
  {
   "cell_type": "code",
   "execution_count": 3,
   "metadata": {},
   "outputs": [
    {
     "data": {
      "text/html": [
       "<div>\n",
       "<style scoped>\n",
       "    .dataframe tbody tr th:only-of-type {\n",
       "        vertical-align: middle;\n",
       "    }\n",
       "\n",
       "    .dataframe tbody tr th {\n",
       "        vertical-align: top;\n",
       "    }\n",
       "\n",
       "    .dataframe thead th {\n",
       "        text-align: right;\n",
       "    }\n",
       "</style>\n",
       "<table border=\"1\" class=\"dataframe\">\n",
       "  <thead>\n",
       "    <tr style=\"text-align: right;\">\n",
       "      <th></th>\n",
       "      <th>Timestamp</th>\n",
       "      <th>ID</th>\n",
       "      <th>DLC</th>\n",
       "      <th>Payload</th>\n",
       "      <th>label</th>\n",
       "    </tr>\n",
       "  </thead>\n",
       "  <tbody>\n",
       "    <tr>\n",
       "      <th>0</th>\n",
       "      <td>325.94738</td>\n",
       "      <td>00000356</td>\n",
       "      <td>8</td>\n",
       "      <td>00 00 00 80 23 00 00 00</td>\n",
       "      <td>0</td>\n",
       "    </tr>\n",
       "    <tr>\n",
       "      <th>1</th>\n",
       "      <td>325.94760</td>\n",
       "      <td>00000366</td>\n",
       "      <td>7</td>\n",
       "      <td>32 18 0B 32 1F 00 01</td>\n",
       "      <td>0</td>\n",
       "    </tr>\n",
       "    <tr>\n",
       "      <th>2</th>\n",
       "      <td>325.94785</td>\n",
       "      <td>00000367</td>\n",
       "      <td>8</td>\n",
       "      <td>00 00 00 00 05 00 00 00</td>\n",
       "      <td>0</td>\n",
       "    </tr>\n",
       "    <tr>\n",
       "      <th>3</th>\n",
       "      <td>325.94809</td>\n",
       "      <td>00000153</td>\n",
       "      <td>8</td>\n",
       "      <td>20 80 10 FF 00 FF 90 3E</td>\n",
       "      <td>0</td>\n",
       "    </tr>\n",
       "    <tr>\n",
       "      <th>4</th>\n",
       "      <td>325.94832</td>\n",
       "      <td>00000220</td>\n",
       "      <td>8</td>\n",
       "      <td>DB C3 76 A8 05 FD 8F 54</td>\n",
       "      <td>0</td>\n",
       "    </tr>\n",
       "    <tr>\n",
       "      <th>...</th>\n",
       "      <td>...</td>\n",
       "      <td>...</td>\n",
       "      <td>...</td>\n",
       "      <td>...</td>\n",
       "      <td>...</td>\n",
       "    </tr>\n",
       "    <tr>\n",
       "      <th>5676769</th>\n",
       "      <td>2646.72093</td>\n",
       "      <td>000002B0</td>\n",
       "      <td>6</td>\n",
       "      <td>08 00 00 07 78 2F</td>\n",
       "      <td>0</td>\n",
       "    </tr>\n",
       "    <tr>\n",
       "      <th>5676770</th>\n",
       "      <td>2646.72117</td>\n",
       "      <td>00000381</td>\n",
       "      <td>8</td>\n",
       "      <td>80 B0 40 00 00 45 4A 05</td>\n",
       "      <td>0</td>\n",
       "    </tr>\n",
       "    <tr>\n",
       "      <th>5676771</th>\n",
       "      <td>2646.72140</td>\n",
       "      <td>00000421</td>\n",
       "      <td>8</td>\n",
       "      <td>FE 07 00 FF E3 7F 00 25</td>\n",
       "      <td>0</td>\n",
       "    </tr>\n",
       "    <tr>\n",
       "      <th>5676772</th>\n",
       "      <td>2646.72165</td>\n",
       "      <td>0000042D</td>\n",
       "      <td>8</td>\n",
       "      <td>00 00 00 00 00 D0 07 FA</td>\n",
       "      <td>0</td>\n",
       "    </tr>\n",
       "    <tr>\n",
       "      <th>5676773</th>\n",
       "      <td>2646.72189</td>\n",
       "      <td>00000356</td>\n",
       "      <td>8</td>\n",
       "      <td>00 00 00 80 14 00 00 00</td>\n",
       "      <td>0</td>\n",
       "    </tr>\n",
       "  </tbody>\n",
       "</table>\n",
       "<p>5676774 rows × 5 columns</p>\n",
       "</div>"
      ],
      "text/plain": [
       "          Timestamp        ID  DLC                  Payload  label\n",
       "0         325.94738  00000356    8  00 00 00 80 23 00 00 00      0\n",
       "1         325.94760  00000366    7     32 18 0B 32 1F 00 01      0\n",
       "2         325.94785  00000367    8  00 00 00 00 05 00 00 00      0\n",
       "3         325.94809  00000153    8  20 80 10 FF 00 FF 90 3E      0\n",
       "4         325.94832  00000220    8  DB C3 76 A8 05 FD 8F 54      0\n",
       "...             ...       ...  ...                      ...    ...\n",
       "5676769  2646.72093  000002B0    6        08 00 00 07 78 2F      0\n",
       "5676770  2646.72117  00000381    8  80 B0 40 00 00 45 4A 05      0\n",
       "5676771  2646.72140  00000421    8  FE 07 00 FF E3 7F 00 25      0\n",
       "5676772  2646.72165  0000042D    8  00 00 00 00 00 D0 07 FA      0\n",
       "5676773  2646.72189  00000356    8  00 00 00 80 14 00 00 00      0\n",
       "\n",
       "[5676774 rows x 5 columns]"
      ]
     },
     "execution_count": 3,
     "metadata": {},
     "output_type": "execute_result"
    }
   ],
   "source": [
    "data"
   ]
  },
  {
   "cell_type": "code",
   "execution_count": 4,
   "metadata": {},
   "outputs": [
    {
     "data": {
      "text/html": [
       "<div>\n",
       "<style scoped>\n",
       "    .dataframe tbody tr th:only-of-type {\n",
       "        vertical-align: middle;\n",
       "    }\n",
       "\n",
       "    .dataframe tbody tr th {\n",
       "        vertical-align: top;\n",
       "    }\n",
       "\n",
       "    .dataframe thead th {\n",
       "        text-align: right;\n",
       "    }\n",
       "</style>\n",
       "<table border=\"1\" class=\"dataframe\">\n",
       "  <thead>\n",
       "    <tr style=\"text-align: right;\">\n",
       "      <th></th>\n",
       "      <th>Timestamp</th>\n",
       "      <th>ID</th>\n",
       "      <th>DLC</th>\n",
       "      <th>Payload</th>\n",
       "      <th>label</th>\n",
       "    </tr>\n",
       "  </thead>\n",
       "  <tbody>\n",
       "    <tr>\n",
       "      <th>162195</th>\n",
       "      <td>393.28849</td>\n",
       "      <td>00000000</td>\n",
       "      <td>8</td>\n",
       "      <td>00 00 00 00 00 00 00 00</td>\n",
       "      <td>1</td>\n",
       "    </tr>\n",
       "    <tr>\n",
       "      <th>162197</th>\n",
       "      <td>393.28874</td>\n",
       "      <td>00000000</td>\n",
       "      <td>8</td>\n",
       "      <td>00 00 00 00 00 00 00 00</td>\n",
       "      <td>1</td>\n",
       "    </tr>\n",
       "    <tr>\n",
       "      <th>162199</th>\n",
       "      <td>393.28899</td>\n",
       "      <td>00000000</td>\n",
       "      <td>8</td>\n",
       "      <td>00 00 00 00 00 00 00 00</td>\n",
       "      <td>1</td>\n",
       "    </tr>\n",
       "    <tr>\n",
       "      <th>162201</th>\n",
       "      <td>393.28924</td>\n",
       "      <td>00000000</td>\n",
       "      <td>8</td>\n",
       "      <td>00 00 00 00 00 00 00 00</td>\n",
       "      <td>1</td>\n",
       "    </tr>\n",
       "    <tr>\n",
       "      <th>162203</th>\n",
       "      <td>393.28949</td>\n",
       "      <td>00000000</td>\n",
       "      <td>8</td>\n",
       "      <td>00 00 00 00 00 00 00 00</td>\n",
       "      <td>1</td>\n",
       "    </tr>\n",
       "    <tr>\n",
       "      <th>...</th>\n",
       "      <td>...</td>\n",
       "      <td>...</td>\n",
       "      <td>...</td>\n",
       "      <td>...</td>\n",
       "      <td>...</td>\n",
       "    </tr>\n",
       "    <tr>\n",
       "      <th>4959463</th>\n",
       "      <td>2348.82489</td>\n",
       "      <td>00000000</td>\n",
       "      <td>8</td>\n",
       "      <td>00 00 00 00 00 00 00 00</td>\n",
       "      <td>1</td>\n",
       "    </tr>\n",
       "    <tr>\n",
       "      <th>4959466</th>\n",
       "      <td>2348.82514</td>\n",
       "      <td>00000000</td>\n",
       "      <td>8</td>\n",
       "      <td>00 00 00 00 00 00 00 00</td>\n",
       "      <td>1</td>\n",
       "    </tr>\n",
       "    <tr>\n",
       "      <th>4959467</th>\n",
       "      <td>2348.82539</td>\n",
       "      <td>00000000</td>\n",
       "      <td>8</td>\n",
       "      <td>00 00 00 00 00 00 00 00</td>\n",
       "      <td>1</td>\n",
       "    </tr>\n",
       "    <tr>\n",
       "      <th>4959468</th>\n",
       "      <td>2348.82564</td>\n",
       "      <td>00000000</td>\n",
       "      <td>8</td>\n",
       "      <td>00 00 00 00 00 00 00 00</td>\n",
       "      <td>1</td>\n",
       "    </tr>\n",
       "    <tr>\n",
       "      <th>4959469</th>\n",
       "      <td>2348.82589</td>\n",
       "      <td>00000000</td>\n",
       "      <td>8</td>\n",
       "      <td>00 00 00 00 00 00 00 00</td>\n",
       "      <td>1</td>\n",
       "    </tr>\n",
       "  </tbody>\n",
       "</table>\n",
       "<p>100000 rows × 5 columns</p>\n",
       "</div>"
      ],
      "text/plain": [
       "          Timestamp        ID  DLC                  Payload  label\n",
       "162195    393.28849  00000000    8  00 00 00 00 00 00 00 00      1\n",
       "162197    393.28874  00000000    8  00 00 00 00 00 00 00 00      1\n",
       "162199    393.28899  00000000    8  00 00 00 00 00 00 00 00      1\n",
       "162201    393.28924  00000000    8  00 00 00 00 00 00 00 00      1\n",
       "162203    393.28949  00000000    8  00 00 00 00 00 00 00 00      1\n",
       "...             ...       ...  ...                      ...    ...\n",
       "4959463  2348.82489  00000000    8  00 00 00 00 00 00 00 00      1\n",
       "4959466  2348.82514  00000000    8  00 00 00 00 00 00 00 00      1\n",
       "4959467  2348.82539  00000000    8  00 00 00 00 00 00 00 00      1\n",
       "4959468  2348.82564  00000000    8  00 00 00 00 00 00 00 00      1\n",
       "4959469  2348.82589  00000000    8  00 00 00 00 00 00 00 00      1\n",
       "\n",
       "[100000 rows x 5 columns]"
      ]
     },
     "execution_count": 4,
     "metadata": {},
     "output_type": "execute_result"
    }
   ],
   "source": [
    "data[data['label'] == 1]"
   ]
  },
  {
   "cell_type": "code",
   "execution_count": 5,
   "metadata": {},
   "outputs": [],
   "source": [
    "data = pd.read_csv('can_data_dos_fuzzing.csv')"
   ]
  },
  {
   "cell_type": "code",
   "execution_count": 6,
   "metadata": {},
   "outputs": [
    {
     "data": {
      "text/html": [
       "<div>\n",
       "<style scoped>\n",
       "    .dataframe tbody tr th:only-of-type {\n",
       "        vertical-align: middle;\n",
       "    }\n",
       "\n",
       "    .dataframe tbody tr th {\n",
       "        vertical-align: top;\n",
       "    }\n",
       "\n",
       "    .dataframe thead th {\n",
       "        text-align: right;\n",
       "    }\n",
       "</style>\n",
       "<table border=\"1\" class=\"dataframe\">\n",
       "  <thead>\n",
       "    <tr style=\"text-align: right;\">\n",
       "      <th></th>\n",
       "      <th>Timestamp</th>\n",
       "      <th>ID</th>\n",
       "      <th>DLC</th>\n",
       "      <th>Payload</th>\n",
       "      <th>label</th>\n",
       "    </tr>\n",
       "  </thead>\n",
       "  <tbody>\n",
       "    <tr>\n",
       "      <th>0</th>\n",
       "      <td>325.94738</td>\n",
       "      <td>00000356</td>\n",
       "      <td>8</td>\n",
       "      <td>00 00 00 80 23 00 00 00</td>\n",
       "      <td>0</td>\n",
       "    </tr>\n",
       "    <tr>\n",
       "      <th>1</th>\n",
       "      <td>325.94760</td>\n",
       "      <td>00000366</td>\n",
       "      <td>7</td>\n",
       "      <td>32 18 0B 32 1F 00 01</td>\n",
       "      <td>0</td>\n",
       "    </tr>\n",
       "    <tr>\n",
       "      <th>2</th>\n",
       "      <td>325.94785</td>\n",
       "      <td>00000367</td>\n",
       "      <td>8</td>\n",
       "      <td>00 00 00 00 05 00 00 00</td>\n",
       "      <td>0</td>\n",
       "    </tr>\n",
       "    <tr>\n",
       "      <th>3</th>\n",
       "      <td>325.94809</td>\n",
       "      <td>00000153</td>\n",
       "      <td>8</td>\n",
       "      <td>20 80 10 FF 00 FF 90 3E</td>\n",
       "      <td>0</td>\n",
       "    </tr>\n",
       "    <tr>\n",
       "      <th>4</th>\n",
       "      <td>325.94832</td>\n",
       "      <td>00000220</td>\n",
       "      <td>8</td>\n",
       "      <td>DB C3 76 A8 05 FD 8F 54</td>\n",
       "      <td>0</td>\n",
       "    </tr>\n",
       "    <tr>\n",
       "      <th>...</th>\n",
       "      <td>...</td>\n",
       "      <td>...</td>\n",
       "      <td>...</td>\n",
       "      <td>...</td>\n",
       "      <td>...</td>\n",
       "    </tr>\n",
       "    <tr>\n",
       "      <th>5776769</th>\n",
       "      <td>2646.72093</td>\n",
       "      <td>000002B0</td>\n",
       "      <td>6</td>\n",
       "      <td>08 00 00 07 78 2F</td>\n",
       "      <td>0</td>\n",
       "    </tr>\n",
       "    <tr>\n",
       "      <th>5776770</th>\n",
       "      <td>2646.72117</td>\n",
       "      <td>00000381</td>\n",
       "      <td>8</td>\n",
       "      <td>80 B0 40 00 00 45 4A 05</td>\n",
       "      <td>0</td>\n",
       "    </tr>\n",
       "    <tr>\n",
       "      <th>5776771</th>\n",
       "      <td>2646.72140</td>\n",
       "      <td>00000421</td>\n",
       "      <td>8</td>\n",
       "      <td>FE 07 00 FF E3 7F 00 25</td>\n",
       "      <td>0</td>\n",
       "    </tr>\n",
       "    <tr>\n",
       "      <th>5776772</th>\n",
       "      <td>2646.72165</td>\n",
       "      <td>0000042D</td>\n",
       "      <td>8</td>\n",
       "      <td>00 00 00 00 00 D0 07 FA</td>\n",
       "      <td>0</td>\n",
       "    </tr>\n",
       "    <tr>\n",
       "      <th>5776773</th>\n",
       "      <td>2646.72189</td>\n",
       "      <td>00000356</td>\n",
       "      <td>8</td>\n",
       "      <td>00 00 00 80 14 00 00 00</td>\n",
       "      <td>0</td>\n",
       "    </tr>\n",
       "  </tbody>\n",
       "</table>\n",
       "<p>5776774 rows × 5 columns</p>\n",
       "</div>"
      ],
      "text/plain": [
       "          Timestamp        ID  DLC                  Payload  label\n",
       "0         325.94738  00000356    8  00 00 00 80 23 00 00 00      0\n",
       "1         325.94760  00000366    7     32 18 0B 32 1F 00 01      0\n",
       "2         325.94785  00000367    8  00 00 00 00 05 00 00 00      0\n",
       "3         325.94809  00000153    8  20 80 10 FF 00 FF 90 3E      0\n",
       "4         325.94832  00000220    8  DB C3 76 A8 05 FD 8F 54      0\n",
       "...             ...       ...  ...                      ...    ...\n",
       "5776769  2646.72093  000002B0    6        08 00 00 07 78 2F      0\n",
       "5776770  2646.72117  00000381    8  80 B0 40 00 00 45 4A 05      0\n",
       "5776771  2646.72140  00000421    8  FE 07 00 FF E3 7F 00 25      0\n",
       "5776772  2646.72165  0000042D    8  00 00 00 00 00 D0 07 FA      0\n",
       "5776773  2646.72189  00000356    8  00 00 00 80 14 00 00 00      0\n",
       "\n",
       "[5776774 rows x 5 columns]"
      ]
     },
     "execution_count": 6,
     "metadata": {},
     "output_type": "execute_result"
    }
   ],
   "source": [
    "data"
   ]
  },
  {
   "cell_type": "code",
   "execution_count": 8,
   "metadata": {},
   "outputs": [
    {
     "data": {
      "text/html": [
       "<div>\n",
       "<style scoped>\n",
       "    .dataframe tbody tr th:only-of-type {\n",
       "        vertical-align: middle;\n",
       "    }\n",
       "\n",
       "    .dataframe tbody tr th {\n",
       "        vertical-align: top;\n",
       "    }\n",
       "\n",
       "    .dataframe thead th {\n",
       "        text-align: right;\n",
       "    }\n",
       "</style>\n",
       "<table border=\"1\" class=\"dataframe\">\n",
       "  <thead>\n",
       "    <tr style=\"text-align: right;\">\n",
       "      <th></th>\n",
       "      <th>Timestamp</th>\n",
       "      <th>ID</th>\n",
       "      <th>DLC</th>\n",
       "      <th>Payload</th>\n",
       "      <th>label</th>\n",
       "    </tr>\n",
       "  </thead>\n",
       "  <tbody>\n",
       "    <tr>\n",
       "      <th>521549</th>\n",
       "      <td>537.51630</td>\n",
       "      <td>00000E14</td>\n",
       "      <td>4</td>\n",
       "      <td>20 92 68 F0</td>\n",
       "      <td>2</td>\n",
       "    </tr>\n",
       "    <tr>\n",
       "      <th>521551</th>\n",
       "      <td>537.51655</td>\n",
       "      <td>0000042F</td>\n",
       "      <td>5</td>\n",
       "      <td>78 F1 63 52 AD</td>\n",
       "      <td>2</td>\n",
       "    </tr>\n",
       "    <tr>\n",
       "      <th>521553</th>\n",
       "      <td>537.51680</td>\n",
       "      <td>00000569</td>\n",
       "      <td>8</td>\n",
       "      <td>BC E9 F9 19 9E E2 BC 0B</td>\n",
       "      <td>2</td>\n",
       "    </tr>\n",
       "    <tr>\n",
       "      <th>521555</th>\n",
       "      <td>537.51705</td>\n",
       "      <td>0000042D</td>\n",
       "      <td>3</td>\n",
       "      <td>D9 F0 1A</td>\n",
       "      <td>2</td>\n",
       "    </tr>\n",
       "    <tr>\n",
       "      <th>521557</th>\n",
       "      <td>537.51730</td>\n",
       "      <td>00000A03</td>\n",
       "      <td>3</td>\n",
       "      <td>A5 73 DA</td>\n",
       "      <td>2</td>\n",
       "    </tr>\n",
       "    <tr>\n",
       "      <th>...</th>\n",
       "      <td>...</td>\n",
       "      <td>...</td>\n",
       "      <td>...</td>\n",
       "      <td>...</td>\n",
       "      <td>...</td>\n",
       "    </tr>\n",
       "    <tr>\n",
       "      <th>5244795</th>\n",
       "      <td>2425.82426</td>\n",
       "      <td>000002E4</td>\n",
       "      <td>3</td>\n",
       "      <td>75 69 CE</td>\n",
       "      <td>2</td>\n",
       "    </tr>\n",
       "    <tr>\n",
       "      <th>5244796</th>\n",
       "      <td>2425.82451</td>\n",
       "      <td>000008CF</td>\n",
       "      <td>4</td>\n",
       "      <td>6C EA 59 6D</td>\n",
       "      <td>2</td>\n",
       "    </tr>\n",
       "    <tr>\n",
       "      <th>5244798</th>\n",
       "      <td>2425.82476</td>\n",
       "      <td>000002A1</td>\n",
       "      <td>4</td>\n",
       "      <td>5A B1 C9 7C</td>\n",
       "      <td>2</td>\n",
       "    </tr>\n",
       "    <tr>\n",
       "      <th>5244799</th>\n",
       "      <td>2425.82501</td>\n",
       "      <td>00000447</td>\n",
       "      <td>4</td>\n",
       "      <td>FA 93 D4 B5</td>\n",
       "      <td>2</td>\n",
       "    </tr>\n",
       "    <tr>\n",
       "      <th>5244800</th>\n",
       "      <td>2425.82526</td>\n",
       "      <td>00000F90</td>\n",
       "      <td>4</td>\n",
       "      <td>3D 29 6F 84</td>\n",
       "      <td>2</td>\n",
       "    </tr>\n",
       "  </tbody>\n",
       "</table>\n",
       "<p>100000 rows × 5 columns</p>\n",
       "</div>"
      ],
      "text/plain": [
       "          Timestamp        ID  DLC                  Payload  label\n",
       "521549    537.51630  00000E14    4              20 92 68 F0      2\n",
       "521551    537.51655  0000042F    5           78 F1 63 52 AD      2\n",
       "521553    537.51680  00000569    8  BC E9 F9 19 9E E2 BC 0B      2\n",
       "521555    537.51705  0000042D    3                 D9 F0 1A      2\n",
       "521557    537.51730  00000A03    3                 A5 73 DA      2\n",
       "...             ...       ...  ...                      ...    ...\n",
       "5244795  2425.82426  000002E4    3                 75 69 CE      2\n",
       "5244796  2425.82451  000008CF    4              6C EA 59 6D      2\n",
       "5244798  2425.82476  000002A1    4              5A B1 C9 7C      2\n",
       "5244799  2425.82501  00000447    4              FA 93 D4 B5      2\n",
       "5244800  2425.82526  00000F90    4              3D 29 6F 84      2\n",
       "\n",
       "[100000 rows x 5 columns]"
      ]
     },
     "execution_count": 8,
     "metadata": {},
     "output_type": "execute_result"
    }
   ],
   "source": [
    "data[data['label'] == 2]"
   ]
  },
  {
   "cell_type": "code",
   "execution_count": 14,
   "metadata": {},
   "outputs": [],
   "source": [
    "data = pd.read_csv('can_data_dos_fuzzing_spoofing.csv')"
   ]
  },
  {
   "cell_type": "code",
   "execution_count": 15,
   "metadata": {},
   "outputs": [
    {
     "data": {
      "text/html": [
       "<div>\n",
       "<style scoped>\n",
       "    .dataframe tbody tr th:only-of-type {\n",
       "        vertical-align: middle;\n",
       "    }\n",
       "\n",
       "    .dataframe tbody tr th {\n",
       "        vertical-align: top;\n",
       "    }\n",
       "\n",
       "    .dataframe thead th {\n",
       "        text-align: right;\n",
       "    }\n",
       "</style>\n",
       "<table border=\"1\" class=\"dataframe\">\n",
       "  <thead>\n",
       "    <tr style=\"text-align: right;\">\n",
       "      <th></th>\n",
       "      <th>Timestamp</th>\n",
       "      <th>ID</th>\n",
       "      <th>DLC</th>\n",
       "      <th>Payload</th>\n",
       "      <th>label</th>\n",
       "    </tr>\n",
       "  </thead>\n",
       "  <tbody>\n",
       "  </tbody>\n",
       "</table>\n",
       "</div>"
      ],
      "text/plain": [
       "Empty DataFrame\n",
       "Columns: [Timestamp, ID, DLC, Payload, label]\n",
       "Index: []"
      ]
     },
     "execution_count": 15,
     "metadata": {},
     "output_type": "execute_result"
    }
   ],
   "source": [
    "data[data['label'] == 3]"
   ]
  },
  {
   "cell_type": "code",
   "execution_count": 1,
   "outputs": [],
   "source": [
    "import pandas as pd"
   ],
   "metadata": {
    "collapsed": false
   }
  },
  {
   "cell_type": "code",
   "execution_count": 2,
   "outputs": [],
   "source": [
    "test = pd.read_csv('test.csv')"
   ],
   "metadata": {
    "collapsed": false
   }
  },
  {
   "cell_type": "code",
   "execution_count": 3,
   "outputs": [
    {
     "data": {
      "text/plain": "            Timestamp        ID  DLC Flg Dir  \\\n1013882   2586.699490  00000145   20  FB   R   \n1013884   2586.699680  000000EA   18  FB   R   \n1013887   2586.700550  00000040   20  FB   R   \n1013888   2586.700770  0000006A   20  FB   R   \n1013889   2586.701460  00000060   20  FB   R   \n...               ...       ...  ...  ..  ..   \n7874649  43960.715304  0000007A   18  FB   R   \n7874651  43960.715494  000000A5   18  FB   R   \n7874654  43960.716584  00000065   18  FB   R   \n7874656  43960.716954  000000A0   18  FB   R   \n7874660  43960.718114  000001AA   10  FB   R   \n\n                                                   Payload  label  \n1013882  14 D7 18 10 01 00 00 00 00 00 00 00 00 00 00 0...      1  \n1013884  B5 65 DD 10 41 43 00 00 F5 07 E7 0F EB FF 00 0...      1  \n1013887  82 46 DA 00 10 FF 07 08 00 00 FF 07 00 00 FF 0...      1  \n1013888  B1 69 DA EC 08 7A F0 08 00 00 00 00 00 3E 02 0...      1  \n1013889  56 3C 4B 00 00 00 00 00 02 02 00 02 40 FF 00 F...      1  \n...                                                    ...    ...  \n7874649  25 11 4C 8E 8E 8E 8E 00 00 00 00 00 00 00 00 0...      1  \n7874651  73 C2 4C FE D1 1F F9 01 00 22 20 00 00 00 00 0...      1  \n7874654  EB BE 4B 00 00 F2 FF 10 00 00 00 00 00 00 00 0...      1  \n7874656  23 51 4B 3C D9 6D 34 00 00 00 00 00 00 00 00 0...      1  \n7874660    89 77 34 10 00 A0 00 08 00 00 00 00 00 00 00 00      1  \n\n[200 rows x 7 columns]",
      "text/html": "<div>\n<style scoped>\n    .dataframe tbody tr th:only-of-type {\n        vertical-align: middle;\n    }\n\n    .dataframe tbody tr th {\n        vertical-align: top;\n    }\n\n    .dataframe thead th {\n        text-align: right;\n    }\n</style>\n<table border=\"1\" class=\"dataframe\">\n  <thead>\n    <tr style=\"text-align: right;\">\n      <th></th>\n      <th>Timestamp</th>\n      <th>ID</th>\n      <th>DLC</th>\n      <th>Flg</th>\n      <th>Dir</th>\n      <th>Payload</th>\n      <th>label</th>\n    </tr>\n  </thead>\n  <tbody>\n    <tr>\n      <th>1013882</th>\n      <td>2586.699490</td>\n      <td>00000145</td>\n      <td>20</td>\n      <td>FB</td>\n      <td>R</td>\n      <td>14 D7 18 10 01 00 00 00 00 00 00 00 00 00 00 0...</td>\n      <td>1</td>\n    </tr>\n    <tr>\n      <th>1013884</th>\n      <td>2586.699680</td>\n      <td>000000EA</td>\n      <td>18</td>\n      <td>FB</td>\n      <td>R</td>\n      <td>B5 65 DD 10 41 43 00 00 F5 07 E7 0F EB FF 00 0...</td>\n      <td>1</td>\n    </tr>\n    <tr>\n      <th>1013887</th>\n      <td>2586.700550</td>\n      <td>00000040</td>\n      <td>20</td>\n      <td>FB</td>\n      <td>R</td>\n      <td>82 46 DA 00 10 FF 07 08 00 00 FF 07 00 00 FF 0...</td>\n      <td>1</td>\n    </tr>\n    <tr>\n      <th>1013888</th>\n      <td>2586.700770</td>\n      <td>0000006A</td>\n      <td>20</td>\n      <td>FB</td>\n      <td>R</td>\n      <td>B1 69 DA EC 08 7A F0 08 00 00 00 00 00 3E 02 0...</td>\n      <td>1</td>\n    </tr>\n    <tr>\n      <th>1013889</th>\n      <td>2586.701460</td>\n      <td>00000060</td>\n      <td>20</td>\n      <td>FB</td>\n      <td>R</td>\n      <td>56 3C 4B 00 00 00 00 00 02 02 00 02 40 FF 00 F...</td>\n      <td>1</td>\n    </tr>\n    <tr>\n      <th>...</th>\n      <td>...</td>\n      <td>...</td>\n      <td>...</td>\n      <td>...</td>\n      <td>...</td>\n      <td>...</td>\n      <td>...</td>\n    </tr>\n    <tr>\n      <th>7874649</th>\n      <td>43960.715304</td>\n      <td>0000007A</td>\n      <td>18</td>\n      <td>FB</td>\n      <td>R</td>\n      <td>25 11 4C 8E 8E 8E 8E 00 00 00 00 00 00 00 00 0...</td>\n      <td>1</td>\n    </tr>\n    <tr>\n      <th>7874651</th>\n      <td>43960.715494</td>\n      <td>000000A5</td>\n      <td>18</td>\n      <td>FB</td>\n      <td>R</td>\n      <td>73 C2 4C FE D1 1F F9 01 00 22 20 00 00 00 00 0...</td>\n      <td>1</td>\n    </tr>\n    <tr>\n      <th>7874654</th>\n      <td>43960.716584</td>\n      <td>00000065</td>\n      <td>18</td>\n      <td>FB</td>\n      <td>R</td>\n      <td>EB BE 4B 00 00 F2 FF 10 00 00 00 00 00 00 00 0...</td>\n      <td>1</td>\n    </tr>\n    <tr>\n      <th>7874656</th>\n      <td>43960.716954</td>\n      <td>000000A0</td>\n      <td>18</td>\n      <td>FB</td>\n      <td>R</td>\n      <td>23 51 4B 3C D9 6D 34 00 00 00 00 00 00 00 00 0...</td>\n      <td>1</td>\n    </tr>\n    <tr>\n      <th>7874660</th>\n      <td>43960.718114</td>\n      <td>000001AA</td>\n      <td>10</td>\n      <td>FB</td>\n      <td>R</td>\n      <td>89 77 34 10 00 A0 00 08 00 00 00 00 00 00 00 00</td>\n      <td>1</td>\n    </tr>\n  </tbody>\n</table>\n<p>200 rows × 7 columns</p>\n</div>"
     },
     "execution_count": 3,
     "metadata": {},
     "output_type": "execute_result"
    }
   ],
   "source": [
    "test[test['label'] == 1]"
   ],
   "metadata": {
    "collapsed": false
   }
  },
  {
   "cell_type": "code",
   "execution_count": null,
   "metadata": {},
   "outputs": [],
   "source": []
  },
  {
   "cell_type": "code",
   "execution_count": 1,
   "outputs": [],
   "source": [
    "import pandas"
   ],
   "metadata": {
    "collapsed": false,
    "ExecuteTime": {
     "end_time": "2024-03-21T05:09:14.825790700Z",
     "start_time": "2024-03-21T05:09:14.406767300Z"
    }
   }
  },
  {
   "cell_type": "code",
   "execution_count": 13,
   "outputs": [],
   "source": [
    "data = pandas.read_csv('data/carnival_gosokhwa.csv')"
   ],
   "metadata": {
    "collapsed": false,
    "ExecuteTime": {
     "end_time": "2024-03-21T05:42:26.808952300Z",
     "start_time": "2024-03-21T05:42:25.213740300Z"
    }
   }
  },
  {
   "cell_type": "code",
   "execution_count": 14,
   "outputs": [
    {
     "data": {
      "text/plain": "          Timestamp        ID  DLC  \\\n0        73374000.7  0000004A   20   \n1        73374000.9  00000040   20   \n2        73374001.1  0000006A   20   \n3        73374001.4  000000A0   18   \n4        73374001.7  000000B5   20   \n...             ...       ...  ...   \n1384794  74128064.8  0000006F    8   \n1384795  74128065.2  000000A0   18   \n1384796  74128066.2  000000B5   20   \n1384797  74128066.4  000000EA   18   \n1384798  74128066.5  0000011A   10   \n\n                                                   Payload  label  \n0        AF A0 5B 00 00 00 02 00 87 80 02 81 D0 85 6D 0...      0  \n1        DB 89 63 00 15 FF 07 98 43 44 FF 07 33 21 FF 0...      0  \n2        84 A1 63 6F 27 9D 6F 27 50 01 00 00 00 8C 07 0...      0  \n3        54 C8 60 03 9F 92 11 00 80 06 84 06 69 06 6F 0...      0  \n4        AE 95 62 B2 01 00 2A 00 B2 01 AF 01 00 FE 47 0...      0  \n...                                                    ...    ...  \n1384794                            60 62 ED 00 00 00 00 00      0  \n1384795  E3 24 ED 32 6E 80 31 00 DA 00 DC 00 D9 00 DB 0...      0  \n1384796  4D 71 EE 45 00 00 20 00 45 00 45 00 00 FE 47 0...      0  \n1384797  F2 BE 04 00 01 41 00 00 2A 08 CC 10 00 00 00 0...      0  \n1384798    A1 CF BC 05 80 08 28 02 00 05 00 00 00 00 00 00      0  \n\n[1384799 rows x 5 columns]",
      "text/html": "<div>\n<style scoped>\n    .dataframe tbody tr th:only-of-type {\n        vertical-align: middle;\n    }\n\n    .dataframe tbody tr th {\n        vertical-align: top;\n    }\n\n    .dataframe thead th {\n        text-align: right;\n    }\n</style>\n<table border=\"1\" class=\"dataframe\">\n  <thead>\n    <tr style=\"text-align: right;\">\n      <th></th>\n      <th>Timestamp</th>\n      <th>ID</th>\n      <th>DLC</th>\n      <th>Payload</th>\n      <th>label</th>\n    </tr>\n  </thead>\n  <tbody>\n    <tr>\n      <th>0</th>\n      <td>73374000.7</td>\n      <td>0000004A</td>\n      <td>20</td>\n      <td>AF A0 5B 00 00 00 02 00 87 80 02 81 D0 85 6D 0...</td>\n      <td>0</td>\n    </tr>\n    <tr>\n      <th>1</th>\n      <td>73374000.9</td>\n      <td>00000040</td>\n      <td>20</td>\n      <td>DB 89 63 00 15 FF 07 98 43 44 FF 07 33 21 FF 0...</td>\n      <td>0</td>\n    </tr>\n    <tr>\n      <th>2</th>\n      <td>73374001.1</td>\n      <td>0000006A</td>\n      <td>20</td>\n      <td>84 A1 63 6F 27 9D 6F 27 50 01 00 00 00 8C 07 0...</td>\n      <td>0</td>\n    </tr>\n    <tr>\n      <th>3</th>\n      <td>73374001.4</td>\n      <td>000000A0</td>\n      <td>18</td>\n      <td>54 C8 60 03 9F 92 11 00 80 06 84 06 69 06 6F 0...</td>\n      <td>0</td>\n    </tr>\n    <tr>\n      <th>4</th>\n      <td>73374001.7</td>\n      <td>000000B5</td>\n      <td>20</td>\n      <td>AE 95 62 B2 01 00 2A 00 B2 01 AF 01 00 FE 47 0...</td>\n      <td>0</td>\n    </tr>\n    <tr>\n      <th>...</th>\n      <td>...</td>\n      <td>...</td>\n      <td>...</td>\n      <td>...</td>\n      <td>...</td>\n    </tr>\n    <tr>\n      <th>1384794</th>\n      <td>74128064.8</td>\n      <td>0000006F</td>\n      <td>8</td>\n      <td>60 62 ED 00 00 00 00 00</td>\n      <td>0</td>\n    </tr>\n    <tr>\n      <th>1384795</th>\n      <td>74128065.2</td>\n      <td>000000A0</td>\n      <td>18</td>\n      <td>E3 24 ED 32 6E 80 31 00 DA 00 DC 00 D9 00 DB 0...</td>\n      <td>0</td>\n    </tr>\n    <tr>\n      <th>1384796</th>\n      <td>74128066.2</td>\n      <td>000000B5</td>\n      <td>20</td>\n      <td>4D 71 EE 45 00 00 20 00 45 00 45 00 00 FE 47 0...</td>\n      <td>0</td>\n    </tr>\n    <tr>\n      <th>1384797</th>\n      <td>74128066.4</td>\n      <td>000000EA</td>\n      <td>18</td>\n      <td>F2 BE 04 00 01 41 00 00 2A 08 CC 10 00 00 00 0...</td>\n      <td>0</td>\n    </tr>\n    <tr>\n      <th>1384798</th>\n      <td>74128066.5</td>\n      <td>0000011A</td>\n      <td>10</td>\n      <td>A1 CF BC 05 80 08 28 02 00 05 00 00 00 00 00 00</td>\n      <td>0</td>\n    </tr>\n  </tbody>\n</table>\n<p>1384799 rows × 5 columns</p>\n</div>"
     },
     "execution_count": 14,
     "metadata": {},
     "output_type": "execute_result"
    }
   ],
   "source": [
    "data"
   ],
   "metadata": {
    "collapsed": false,
    "ExecuteTime": {
     "end_time": "2024-03-21T05:42:26.824951400Z",
     "start_time": "2024-03-21T05:42:26.809986100Z"
    }
   }
  },
  {
   "cell_type": "code",
   "execution_count": 15,
   "outputs": [
    {
     "data": {
      "text/plain": "41"
     },
     "execution_count": 15,
     "metadata": {},
     "output_type": "execute_result"
    }
   ],
   "source": [
    "len(data['ID'].unique())"
   ],
   "metadata": {
    "collapsed": false,
    "ExecuteTime": {
     "end_time": "2024-03-21T05:42:26.954978100Z",
     "start_time": "2024-03-21T05:42:26.826982300Z"
    }
   }
  },
  {
   "cell_type": "code",
   "execution_count": 22,
   "outputs": [],
   "source": [
    "data = pandas.read_csv('can-fd_replay_dummy.csv')\n",
    "data = data.drop(columns = ['Flg', 'Dir'])"
   ],
   "metadata": {
    "collapsed": false,
    "ExecuteTime": {
     "end_time": "2024-03-21T06:14:25.631462900Z",
     "start_time": "2024-03-21T06:14:25.574306400Z"
    }
   }
  },
  {
   "cell_type": "code",
   "execution_count": 24,
   "outputs": [],
   "source": [
    "data.to_csv('can-fd_replay_dummy.csv', sep = ',', index = False)"
   ],
   "metadata": {
    "collapsed": false,
    "ExecuteTime": {
     "end_time": "2024-03-21T06:14:52.201446Z",
     "start_time": "2024-03-21T06:14:52.124451Z"
    }
   }
  },
  {
   "cell_type": "code",
   "execution_count": 29,
   "outputs": [],
   "source": [
    "data = pandas.read_csv('data/carnival_pangyo_add_attack.csv')"
   ],
   "metadata": {
    "collapsed": false,
    "ExecuteTime": {
     "end_time": "2024-03-21T07:53:26.158541900Z",
     "start_time": "2024-03-21T07:53:23.047322700Z"
    }
   }
  },
  {
   "cell_type": "code",
   "execution_count": 30,
   "outputs": [],
   "source": [
    "data[data['label'] == 1].to_csv('data/test.csv', sep = ',', index = False)"
   ],
   "metadata": {
    "collapsed": false,
    "ExecuteTime": {
     "end_time": "2024-03-21T07:53:26.238567200Z",
     "start_time": "2024-03-21T07:53:26.159578Z"
    }
   }
  },
  {
   "cell_type": "code",
   "execution_count": 31,
   "outputs": [
    {
     "data": {
      "text/plain": "          Timestamp        ID  DLC  \\\n0        61469806.4  0000011A   10   \n1        61469806.5  0000012A   10   \n2        61469807.7  000000EA   18   \n3        61469807.9  00000160   10   \n4        61469808.1  000001A0   20   \n...             ...       ...  ...   \n3341571  63303517.7  0000012A   10   \n3341572  63303517.9  0000011A   10   \n3341573  63303518.1  0000004A   20   \n3341574  63303519.3  00000125   10   \n3341575  63303522.1  00000060   20   \n\n                                                   Payload  label  \n0          89 7A 16 05 80 08 A8 02 00 05 00 00 00 00 00 00      0  \n1          67 B4 16 02 40 00 08 00 00 00 01 00 00 64 00 00      0  \n2        F0 C8 1D 00 01 41 00 00 6D 06 C5 0E 00 00 00 0...      0  \n3          8F 6E 09 03 00 00 00 02 FF FC 01 00 00 00 00 00      0  \n4        63 B2 09 FE 27 35 64 00 00 00 00 00 1E 08 01 0...      0  \n...                                                    ...    ...  \n3341571    B3 33 43 02 40 00 08 00 00 00 01 00 00 64 00 00      0  \n3341572    5D FD 43 05 80 08 A8 02 00 05 00 00 00 00 00 00      0  \n3341573  7C F3 71 00 00 00 02 00 D1 82 97 81 2E 7F 68 0...      0  \n3341574    3B 13 0D 0E 01 01 07 00 00 00 00 00 00 00 00 00      0  \n3341575  12 3F 75 00 00 00 00 00 02 02 00 02 40 FF 00 F...      0  \n\n[3341576 rows x 5 columns]",
      "text/html": "<div>\n<style scoped>\n    .dataframe tbody tr th:only-of-type {\n        vertical-align: middle;\n    }\n\n    .dataframe tbody tr th {\n        vertical-align: top;\n    }\n\n    .dataframe thead th {\n        text-align: right;\n    }\n</style>\n<table border=\"1\" class=\"dataframe\">\n  <thead>\n    <tr style=\"text-align: right;\">\n      <th></th>\n      <th>Timestamp</th>\n      <th>ID</th>\n      <th>DLC</th>\n      <th>Payload</th>\n      <th>label</th>\n    </tr>\n  </thead>\n  <tbody>\n    <tr>\n      <th>0</th>\n      <td>61469806.4</td>\n      <td>0000011A</td>\n      <td>10</td>\n      <td>89 7A 16 05 80 08 A8 02 00 05 00 00 00 00 00 00</td>\n      <td>0</td>\n    </tr>\n    <tr>\n      <th>1</th>\n      <td>61469806.5</td>\n      <td>0000012A</td>\n      <td>10</td>\n      <td>67 B4 16 02 40 00 08 00 00 00 01 00 00 64 00 00</td>\n      <td>0</td>\n    </tr>\n    <tr>\n      <th>2</th>\n      <td>61469807.7</td>\n      <td>000000EA</td>\n      <td>18</td>\n      <td>F0 C8 1D 00 01 41 00 00 6D 06 C5 0E 00 00 00 0...</td>\n      <td>0</td>\n    </tr>\n    <tr>\n      <th>3</th>\n      <td>61469807.9</td>\n      <td>00000160</td>\n      <td>10</td>\n      <td>8F 6E 09 03 00 00 00 02 FF FC 01 00 00 00 00 00</td>\n      <td>0</td>\n    </tr>\n    <tr>\n      <th>4</th>\n      <td>61469808.1</td>\n      <td>000001A0</td>\n      <td>20</td>\n      <td>63 B2 09 FE 27 35 64 00 00 00 00 00 1E 08 01 0...</td>\n      <td>0</td>\n    </tr>\n    <tr>\n      <th>...</th>\n      <td>...</td>\n      <td>...</td>\n      <td>...</td>\n      <td>...</td>\n      <td>...</td>\n    </tr>\n    <tr>\n      <th>3341571</th>\n      <td>63303517.7</td>\n      <td>0000012A</td>\n      <td>10</td>\n      <td>B3 33 43 02 40 00 08 00 00 00 01 00 00 64 00 00</td>\n      <td>0</td>\n    </tr>\n    <tr>\n      <th>3341572</th>\n      <td>63303517.9</td>\n      <td>0000011A</td>\n      <td>10</td>\n      <td>5D FD 43 05 80 08 A8 02 00 05 00 00 00 00 00 00</td>\n      <td>0</td>\n    </tr>\n    <tr>\n      <th>3341573</th>\n      <td>63303518.1</td>\n      <td>0000004A</td>\n      <td>20</td>\n      <td>7C F3 71 00 00 00 02 00 D1 82 97 81 2E 7F 68 0...</td>\n      <td>0</td>\n    </tr>\n    <tr>\n      <th>3341574</th>\n      <td>63303519.3</td>\n      <td>00000125</td>\n      <td>10</td>\n      <td>3B 13 0D 0E 01 01 07 00 00 00 00 00 00 00 00 00</td>\n      <td>0</td>\n    </tr>\n    <tr>\n      <th>3341575</th>\n      <td>63303522.1</td>\n      <td>00000060</td>\n      <td>20</td>\n      <td>12 3F 75 00 00 00 00 00 02 02 00 02 40 FF 00 F...</td>\n      <td>0</td>\n    </tr>\n  </tbody>\n</table>\n<p>3341576 rows × 5 columns</p>\n</div>"
     },
     "execution_count": 31,
     "metadata": {},
     "output_type": "execute_result"
    }
   ],
   "source": [
    "data"
   ],
   "metadata": {
    "collapsed": false,
    "ExecuteTime": {
     "end_time": "2024-03-21T07:53:29.503266600Z",
     "start_time": "2024-03-21T07:53:29.439268200Z"
    }
   }
  },
  {
   "cell_type": "code",
   "execution_count": 1,
   "outputs": [],
   "source": [
    "import pandas as pd"
   ],
   "metadata": {
    "collapsed": false,
    "ExecuteTime": {
     "end_time": "2024-05-19T05:35:38.804788200Z",
     "start_time": "2024-05-19T05:35:38.352789100Z"
    }
   }
  },
  {
   "cell_type": "code",
   "execution_count": 9,
   "outputs": [],
   "source": [
    "data = pd.read_csv('data/can_data.csv')"
   ],
   "metadata": {
    "collapsed": false,
    "ExecuteTime": {
     "end_time": "2024-05-19T07:25:06.978591700Z",
     "start_time": "2024-05-19T07:25:03.897601Z"
    }
   }
  },
  {
   "cell_type": "code",
   "execution_count": 10,
   "outputs": [
    {
     "data": {
      "text/plain": "78"
     },
     "execution_count": 10,
     "metadata": {},
     "output_type": "execute_result"
    }
   ],
   "source": [
    "len(data['ID'].unique())"
   ],
   "metadata": {
    "collapsed": false,
    "ExecuteTime": {
     "end_time": "2024-05-19T07:25:07.172613600Z",
     "start_time": "2024-05-19T07:25:06.979582100Z"
    }
   }
  },
  {
   "cell_type": "code",
   "execution_count": 13,
   "outputs": [
    {
     "data": {
      "text/plain": "          Timestamp        ID  DLC                  Payload  label\n82        325.97980  000004CB    8  80 0A 00 00 00 00 00 00      0\n562       326.17967  000004CB    8  80 0A 00 00 00 00 00 00      0\n1043      326.37979  000004CB    8  80 0A 00 00 00 00 00 00      0\n1519      326.57922  000004CB    8  80 0A 00 00 00 00 00 00      0\n1996      326.77821  000004CB    8  80 0A 00 00 00 00 00 00      0\n...             ...       ...  ...                      ...    ...\n5574503  2645.77243  000004CB    8  00 00 00 00 00 00 00 00      0\n5574985  2645.97245  000004CB    8  00 00 00 00 00 00 00 00      0\n5575465  2646.17251  000004CB    8  00 00 00 00 00 00 00 00      0\n5575943  2646.37257  000004CB    8  00 00 00 00 00 00 00 00      0\n5576422  2646.57255  000004CB    8  00 00 00 00 00 00 00 00      0\n\n[11589 rows x 5 columns]",
      "text/html": "<div>\n<style scoped>\n    .dataframe tbody tr th:only-of-type {\n        vertical-align: middle;\n    }\n\n    .dataframe tbody tr th {\n        vertical-align: top;\n    }\n\n    .dataframe thead th {\n        text-align: right;\n    }\n</style>\n<table border=\"1\" class=\"dataframe\">\n  <thead>\n    <tr style=\"text-align: right;\">\n      <th></th>\n      <th>Timestamp</th>\n      <th>ID</th>\n      <th>DLC</th>\n      <th>Payload</th>\n      <th>label</th>\n    </tr>\n  </thead>\n  <tbody>\n    <tr>\n      <th>82</th>\n      <td>325.97980</td>\n      <td>000004CB</td>\n      <td>8</td>\n      <td>80 0A 00 00 00 00 00 00</td>\n      <td>0</td>\n    </tr>\n    <tr>\n      <th>562</th>\n      <td>326.17967</td>\n      <td>000004CB</td>\n      <td>8</td>\n      <td>80 0A 00 00 00 00 00 00</td>\n      <td>0</td>\n    </tr>\n    <tr>\n      <th>1043</th>\n      <td>326.37979</td>\n      <td>000004CB</td>\n      <td>8</td>\n      <td>80 0A 00 00 00 00 00 00</td>\n      <td>0</td>\n    </tr>\n    <tr>\n      <th>1519</th>\n      <td>326.57922</td>\n      <td>000004CB</td>\n      <td>8</td>\n      <td>80 0A 00 00 00 00 00 00</td>\n      <td>0</td>\n    </tr>\n    <tr>\n      <th>1996</th>\n      <td>326.77821</td>\n      <td>000004CB</td>\n      <td>8</td>\n      <td>80 0A 00 00 00 00 00 00</td>\n      <td>0</td>\n    </tr>\n    <tr>\n      <th>...</th>\n      <td>...</td>\n      <td>...</td>\n      <td>...</td>\n      <td>...</td>\n      <td>...</td>\n    </tr>\n    <tr>\n      <th>5574503</th>\n      <td>2645.77243</td>\n      <td>000004CB</td>\n      <td>8</td>\n      <td>00 00 00 00 00 00 00 00</td>\n      <td>0</td>\n    </tr>\n    <tr>\n      <th>5574985</th>\n      <td>2645.97245</td>\n      <td>000004CB</td>\n      <td>8</td>\n      <td>00 00 00 00 00 00 00 00</td>\n      <td>0</td>\n    </tr>\n    <tr>\n      <th>5575465</th>\n      <td>2646.17251</td>\n      <td>000004CB</td>\n      <td>8</td>\n      <td>00 00 00 00 00 00 00 00</td>\n      <td>0</td>\n    </tr>\n    <tr>\n      <th>5575943</th>\n      <td>2646.37257</td>\n      <td>000004CB</td>\n      <td>8</td>\n      <td>00 00 00 00 00 00 00 00</td>\n      <td>0</td>\n    </tr>\n    <tr>\n      <th>5576422</th>\n      <td>2646.57255</td>\n      <td>000004CB</td>\n      <td>8</td>\n      <td>00 00 00 00 00 00 00 00</td>\n      <td>0</td>\n    </tr>\n  </tbody>\n</table>\n<p>11589 rows × 5 columns</p>\n</div>"
     },
     "execution_count": 13,
     "metadata": {},
     "output_type": "execute_result"
    }
   ],
   "source": [
    "data[data['ID'] == '000004CB']"
   ],
   "metadata": {
    "collapsed": false,
    "ExecuteTime": {
     "end_time": "2024-05-19T07:27:43.526220Z",
     "start_time": "2024-05-19T07:27:43.265192800Z"
    }
   }
  },
  {
   "cell_type": "code",
   "execution_count": 11,
   "outputs": [
    {
     "data": {
      "text/plain": "0"
     },
     "execution_count": 11,
     "metadata": {},
     "output_type": "execute_result"
    }
   ],
   "source": [
    "len(data[data['ID'] == '000007E0'])"
   ],
   "metadata": {
    "collapsed": false,
    "ExecuteTime": {
     "end_time": "2024-05-19T07:25:07.383575300Z",
     "start_time": "2024-05-19T07:25:07.164596100Z"
    }
   }
  },
  {
   "cell_type": "code",
   "execution_count": 7,
   "outputs": [],
   "source": [
    "dataset = pd.read_csv('./data/Pre_train_S_2.csv')"
   ],
   "metadata": {
    "collapsed": false,
    "ExecuteTime": {
     "end_time": "2024-10-22T05:43:06.049364600Z",
     "start_time": "2024-10-22T05:43:05.486364Z"
    }
   }
  },
  {
   "cell_type": "code",
   "execution_count": 20,
   "outputs": [],
   "source": [
    "dataset['label'] = dataset['Class'].apply(lambda x: 0 if x == 'Normal' else 1)"
   ],
   "metadata": {
    "collapsed": false,
    "ExecuteTime": {
     "end_time": "2024-10-22T05:45:40.391833300Z",
     "start_time": "2024-10-22T05:45:40.183805100Z"
    }
   }
  },
  {
   "cell_type": "code",
   "execution_count": 21,
   "outputs": [
    {
     "data": {
      "text/plain": "           Timestamp Arbitration_ID  DLC                     Data   Class  \\\n0       1.599043e+09            251    8  FE 03 17 D3 00 FE 07 80  Normal   \n1       1.599043e+09            2B0    6        C1 FF 00 07 D7 32  Normal   \n2       1.599043e+09            38D    8  00 00 49 00 F0 7F FE 51  Normal   \n3       1.599043e+09            420    8  50 1E 00 C8 FC 4F 6A 00  Normal   \n4       1.599043e+09            421    8  FE 07 00 FF E3 7F 00 9E  Normal   \n...              ...            ...  ...                      ...     ...   \n817037  1.599044e+09            260    8  05 30 01 30 FF BC 4B 1F  Normal   \n817038  1.599044e+09            48A    8  00 00 21 41 02 02 20 B4  Normal   \n817039  1.599044e+09            329    8  0F C3 7D 8C 31 2C 00 10  Normal   \n817040  1.599044e+09            58B    8  11 00 00 00 00 00 00 00  Normal   \n817041  1.599044e+09            48C    8  4C 20 02 00 00 00 00 00  Normal   \n\n       SubClass  label  \n0        Normal      0  \n1        Normal      0  \n2        Normal      0  \n3        Normal      0  \n4        Normal      0  \n...         ...    ...  \n817037   Normal      0  \n817038   Normal      0  \n817039   Normal      0  \n817040   Normal      0  \n817041   Normal      0  \n\n[817042 rows x 7 columns]",
      "text/html": "<div>\n<style scoped>\n    .dataframe tbody tr th:only-of-type {\n        vertical-align: middle;\n    }\n\n    .dataframe tbody tr th {\n        vertical-align: top;\n    }\n\n    .dataframe thead th {\n        text-align: right;\n    }\n</style>\n<table border=\"1\" class=\"dataframe\">\n  <thead>\n    <tr style=\"text-align: right;\">\n      <th></th>\n      <th>Timestamp</th>\n      <th>Arbitration_ID</th>\n      <th>DLC</th>\n      <th>Data</th>\n      <th>Class</th>\n      <th>SubClass</th>\n      <th>label</th>\n    </tr>\n  </thead>\n  <tbody>\n    <tr>\n      <th>0</th>\n      <td>1.599043e+09</td>\n      <td>251</td>\n      <td>8</td>\n      <td>FE 03 17 D3 00 FE 07 80</td>\n      <td>Normal</td>\n      <td>Normal</td>\n      <td>0</td>\n    </tr>\n    <tr>\n      <th>1</th>\n      <td>1.599043e+09</td>\n      <td>2B0</td>\n      <td>6</td>\n      <td>C1 FF 00 07 D7 32</td>\n      <td>Normal</td>\n      <td>Normal</td>\n      <td>0</td>\n    </tr>\n    <tr>\n      <th>2</th>\n      <td>1.599043e+09</td>\n      <td>38D</td>\n      <td>8</td>\n      <td>00 00 49 00 F0 7F FE 51</td>\n      <td>Normal</td>\n      <td>Normal</td>\n      <td>0</td>\n    </tr>\n    <tr>\n      <th>3</th>\n      <td>1.599043e+09</td>\n      <td>420</td>\n      <td>8</td>\n      <td>50 1E 00 C8 FC 4F 6A 00</td>\n      <td>Normal</td>\n      <td>Normal</td>\n      <td>0</td>\n    </tr>\n    <tr>\n      <th>4</th>\n      <td>1.599043e+09</td>\n      <td>421</td>\n      <td>8</td>\n      <td>FE 07 00 FF E3 7F 00 9E</td>\n      <td>Normal</td>\n      <td>Normal</td>\n      <td>0</td>\n    </tr>\n    <tr>\n      <th>...</th>\n      <td>...</td>\n      <td>...</td>\n      <td>...</td>\n      <td>...</td>\n      <td>...</td>\n      <td>...</td>\n      <td>...</td>\n    </tr>\n    <tr>\n      <th>817037</th>\n      <td>1.599044e+09</td>\n      <td>260</td>\n      <td>8</td>\n      <td>05 30 01 30 FF BC 4B 1F</td>\n      <td>Normal</td>\n      <td>Normal</td>\n      <td>0</td>\n    </tr>\n    <tr>\n      <th>817038</th>\n      <td>1.599044e+09</td>\n      <td>48A</td>\n      <td>8</td>\n      <td>00 00 21 41 02 02 20 B4</td>\n      <td>Normal</td>\n      <td>Normal</td>\n      <td>0</td>\n    </tr>\n    <tr>\n      <th>817039</th>\n      <td>1.599044e+09</td>\n      <td>329</td>\n      <td>8</td>\n      <td>0F C3 7D 8C 31 2C 00 10</td>\n      <td>Normal</td>\n      <td>Normal</td>\n      <td>0</td>\n    </tr>\n    <tr>\n      <th>817040</th>\n      <td>1.599044e+09</td>\n      <td>58B</td>\n      <td>8</td>\n      <td>11 00 00 00 00 00 00 00</td>\n      <td>Normal</td>\n      <td>Normal</td>\n      <td>0</td>\n    </tr>\n    <tr>\n      <th>817041</th>\n      <td>1.599044e+09</td>\n      <td>48C</td>\n      <td>8</td>\n      <td>4C 20 02 00 00 00 00 00</td>\n      <td>Normal</td>\n      <td>Normal</td>\n      <td>0</td>\n    </tr>\n  </tbody>\n</table>\n<p>817042 rows × 7 columns</p>\n</div>"
     },
     "execution_count": 21,
     "metadata": {},
     "output_type": "execute_result"
    }
   ],
   "source": [
    "dataset"
   ],
   "metadata": {
    "collapsed": false,
    "ExecuteTime": {
     "end_time": "2024-10-22T05:45:42.657524800Z",
     "start_time": "2024-10-22T05:45:42.603509300Z"
    }
   }
  },
  {
   "cell_type": "code",
   "execution_count": 23,
   "outputs": [
    {
     "data": {
      "text/plain": "           Timestamp Arbitration_ID  DLC                     Data   Class  \\\n87149   1.599043e+09            000    8  00 00 00 00 00 00 00 00  Attack   \n87150   1.599043e+09            000    8  00 00 00 00 00 00 00 00  Attack   \n87153   1.599043e+09            000    8  00 00 00 00 00 00 00 00  Attack   \n87155   1.599043e+09            000    8  00 00 00 00 00 00 00 00  Attack   \n87158   1.599043e+09            000    8  00 00 00 00 00 00 00 00  Attack   \n...              ...            ...  ...                      ...     ...   \n766939  1.599044e+09            559    8  A1 B1 4B B4 FC 3D DE 2E  Attack   \n766942  1.599044e+09            5B0    8  1E 07 90 C8 E3 2F 3E DA  Attack   \n766945  1.599044e+09            251    8  AA F2 EB D1 70 6E BB 6E  Attack   \n766954  1.599044e+09            386    8  11 03 72 87 EF 7F 12 32  Attack   \n766957  1.599044e+09            140    8  83 71 53 D2 F8 95 BF D3  Attack   \n\n        SubClass  label  \n87149   Flooding      1  \n87150   Flooding      1  \n87153   Flooding      1  \n87155   Flooding      1  \n87158   Flooding      1  \n...          ...    ...  \n766939   Fuzzing      1  \n766942   Fuzzing      1  \n766945   Fuzzing      1  \n766954   Fuzzing      1  \n766957   Fuzzing      1  \n\n[77364 rows x 7 columns]",
      "text/html": "<div>\n<style scoped>\n    .dataframe tbody tr th:only-of-type {\n        vertical-align: middle;\n    }\n\n    .dataframe tbody tr th {\n        vertical-align: top;\n    }\n\n    .dataframe thead th {\n        text-align: right;\n    }\n</style>\n<table border=\"1\" class=\"dataframe\">\n  <thead>\n    <tr style=\"text-align: right;\">\n      <th></th>\n      <th>Timestamp</th>\n      <th>Arbitration_ID</th>\n      <th>DLC</th>\n      <th>Data</th>\n      <th>Class</th>\n      <th>SubClass</th>\n      <th>label</th>\n    </tr>\n  </thead>\n  <tbody>\n    <tr>\n      <th>87149</th>\n      <td>1.599043e+09</td>\n      <td>000</td>\n      <td>8</td>\n      <td>00 00 00 00 00 00 00 00</td>\n      <td>Attack</td>\n      <td>Flooding</td>\n      <td>1</td>\n    </tr>\n    <tr>\n      <th>87150</th>\n      <td>1.599043e+09</td>\n      <td>000</td>\n      <td>8</td>\n      <td>00 00 00 00 00 00 00 00</td>\n      <td>Attack</td>\n      <td>Flooding</td>\n      <td>1</td>\n    </tr>\n    <tr>\n      <th>87153</th>\n      <td>1.599043e+09</td>\n      <td>000</td>\n      <td>8</td>\n      <td>00 00 00 00 00 00 00 00</td>\n      <td>Attack</td>\n      <td>Flooding</td>\n      <td>1</td>\n    </tr>\n    <tr>\n      <th>87155</th>\n      <td>1.599043e+09</td>\n      <td>000</td>\n      <td>8</td>\n      <td>00 00 00 00 00 00 00 00</td>\n      <td>Attack</td>\n      <td>Flooding</td>\n      <td>1</td>\n    </tr>\n    <tr>\n      <th>87158</th>\n      <td>1.599043e+09</td>\n      <td>000</td>\n      <td>8</td>\n      <td>00 00 00 00 00 00 00 00</td>\n      <td>Attack</td>\n      <td>Flooding</td>\n      <td>1</td>\n    </tr>\n    <tr>\n      <th>...</th>\n      <td>...</td>\n      <td>...</td>\n      <td>...</td>\n      <td>...</td>\n      <td>...</td>\n      <td>...</td>\n      <td>...</td>\n    </tr>\n    <tr>\n      <th>766939</th>\n      <td>1.599044e+09</td>\n      <td>559</td>\n      <td>8</td>\n      <td>A1 B1 4B B4 FC 3D DE 2E</td>\n      <td>Attack</td>\n      <td>Fuzzing</td>\n      <td>1</td>\n    </tr>\n    <tr>\n      <th>766942</th>\n      <td>1.599044e+09</td>\n      <td>5B0</td>\n      <td>8</td>\n      <td>1E 07 90 C8 E3 2F 3E DA</td>\n      <td>Attack</td>\n      <td>Fuzzing</td>\n      <td>1</td>\n    </tr>\n    <tr>\n      <th>766945</th>\n      <td>1.599044e+09</td>\n      <td>251</td>\n      <td>8</td>\n      <td>AA F2 EB D1 70 6E BB 6E</td>\n      <td>Attack</td>\n      <td>Fuzzing</td>\n      <td>1</td>\n    </tr>\n    <tr>\n      <th>766954</th>\n      <td>1.599044e+09</td>\n      <td>386</td>\n      <td>8</td>\n      <td>11 03 72 87 EF 7F 12 32</td>\n      <td>Attack</td>\n      <td>Fuzzing</td>\n      <td>1</td>\n    </tr>\n    <tr>\n      <th>766957</th>\n      <td>1.599044e+09</td>\n      <td>140</td>\n      <td>8</td>\n      <td>83 71 53 D2 F8 95 BF D3</td>\n      <td>Attack</td>\n      <td>Fuzzing</td>\n      <td>1</td>\n    </tr>\n  </tbody>\n</table>\n<p>77364 rows × 7 columns</p>\n</div>"
     },
     "execution_count": 23,
     "metadata": {},
     "output_type": "execute_result"
    }
   ],
   "source": [
    "dataset[dataset['label'] == 1]"
   ],
   "metadata": {
    "collapsed": false,
    "ExecuteTime": {
     "end_time": "2024-10-22T05:45:58.060633800Z",
     "start_time": "2024-10-22T05:45:57.993593100Z"
    }
   }
  },
  {
   "cell_type": "code",
   "execution_count": 2,
   "outputs": [],
   "source": [
    "dataset = pd.read_csv('data/carnival_pangyo.csv')"
   ],
   "metadata": {
    "collapsed": false,
    "ExecuteTime": {
     "end_time": "2024-10-28T05:23:04.772880100Z",
     "start_time": "2024-10-28T05:23:01.051574400Z"
    }
   }
  },
  {
   "cell_type": "code",
   "execution_count": 5,
   "outputs": [
    {
     "data": {
      "text/plain": "          Timestamp        ID  DLC  \\\n159      61469889.3  00000260   20   \n423      61475089.1  00000260   20   \n611      61475189.1  00000260   20   \n793      61475289.1  00000260   20   \n981      61475389.2  00000260   20   \n...             ...       ...  ...   \n3320836  63303117.3  00000260   20   \n3321024  63303217.4  00000260   20   \n3321203  63303317.3  00000260   20   \n3321391  63303417.3  00000260   20   \n3321570  63303517.2  00000260   20   \n\n                                                   Payload  label  \n159      1A 27 05 00 1C 56 92 62 00 00 63 00 00 00 00 0...      0  \n423      F0 D1 39 00 1C 37 90 62 01 00 63 00 00 00 00 0...      0  \n611      55 98 3A 00 1C 37 8F 62 01 00 63 00 00 00 00 0...      0  \n793      AB 94 3B 00 1C 3F 90 62 01 00 63 00 00 00 00 0...      0  \n981      86 D3 3C 00 1C 46 90 62 01 00 63 00 00 00 00 0...      0  \n...                                                    ...    ...  \n3320836  E5 39 A1 00 1C 4E 8E 6D 00 00 65 00 00 00 00 0...      0  \n3321024  2F D2 A2 00 1C 4E 8E 6D 00 00 65 00 00 00 00 0...      0  \n3321203  69 8B A3 00 1C 4E 8E 6D 00 00 65 00 00 00 00 0...      0  \n3321391  9A 15 A4 00 1C 4E 8E 6D 00 00 65 00 00 00 00 0...      0  \n3321570  DC 4C A5 00 1C 4E 8E 6D 00 00 65 00 00 00 00 0...      0  \n\n[18076 rows x 5 columns]",
      "text/html": "<div>\n<style scoped>\n    .dataframe tbody tr th:only-of-type {\n        vertical-align: middle;\n    }\n\n    .dataframe tbody tr th {\n        vertical-align: top;\n    }\n\n    .dataframe thead th {\n        text-align: right;\n    }\n</style>\n<table border=\"1\" class=\"dataframe\">\n  <thead>\n    <tr style=\"text-align: right;\">\n      <th></th>\n      <th>Timestamp</th>\n      <th>ID</th>\n      <th>DLC</th>\n      <th>Payload</th>\n      <th>label</th>\n    </tr>\n  </thead>\n  <tbody>\n    <tr>\n      <th>159</th>\n      <td>61469889.3</td>\n      <td>00000260</td>\n      <td>20</td>\n      <td>1A 27 05 00 1C 56 92 62 00 00 63 00 00 00 00 0...</td>\n      <td>0</td>\n    </tr>\n    <tr>\n      <th>423</th>\n      <td>61475089.1</td>\n      <td>00000260</td>\n      <td>20</td>\n      <td>F0 D1 39 00 1C 37 90 62 01 00 63 00 00 00 00 0...</td>\n      <td>0</td>\n    </tr>\n    <tr>\n      <th>611</th>\n      <td>61475189.1</td>\n      <td>00000260</td>\n      <td>20</td>\n      <td>55 98 3A 00 1C 37 8F 62 01 00 63 00 00 00 00 0...</td>\n      <td>0</td>\n    </tr>\n    <tr>\n      <th>793</th>\n      <td>61475289.1</td>\n      <td>00000260</td>\n      <td>20</td>\n      <td>AB 94 3B 00 1C 3F 90 62 01 00 63 00 00 00 00 0...</td>\n      <td>0</td>\n    </tr>\n    <tr>\n      <th>981</th>\n      <td>61475389.2</td>\n      <td>00000260</td>\n      <td>20</td>\n      <td>86 D3 3C 00 1C 46 90 62 01 00 63 00 00 00 00 0...</td>\n      <td>0</td>\n    </tr>\n    <tr>\n      <th>...</th>\n      <td>...</td>\n      <td>...</td>\n      <td>...</td>\n      <td>...</td>\n      <td>...</td>\n    </tr>\n    <tr>\n      <th>3320836</th>\n      <td>63303117.3</td>\n      <td>00000260</td>\n      <td>20</td>\n      <td>E5 39 A1 00 1C 4E 8E 6D 00 00 65 00 00 00 00 0...</td>\n      <td>0</td>\n    </tr>\n    <tr>\n      <th>3321024</th>\n      <td>63303217.4</td>\n      <td>00000260</td>\n      <td>20</td>\n      <td>2F D2 A2 00 1C 4E 8E 6D 00 00 65 00 00 00 00 0...</td>\n      <td>0</td>\n    </tr>\n    <tr>\n      <th>3321203</th>\n      <td>63303317.3</td>\n      <td>00000260</td>\n      <td>20</td>\n      <td>69 8B A3 00 1C 4E 8E 6D 00 00 65 00 00 00 00 0...</td>\n      <td>0</td>\n    </tr>\n    <tr>\n      <th>3321391</th>\n      <td>63303417.3</td>\n      <td>00000260</td>\n      <td>20</td>\n      <td>9A 15 A4 00 1C 4E 8E 6D 00 00 65 00 00 00 00 0...</td>\n      <td>0</td>\n    </tr>\n    <tr>\n      <th>3321570</th>\n      <td>63303517.2</td>\n      <td>00000260</td>\n      <td>20</td>\n      <td>DC 4C A5 00 1C 4E 8E 6D 00 00 65 00 00 00 00 0...</td>\n      <td>0</td>\n    </tr>\n  </tbody>\n</table>\n<p>18076 rows × 5 columns</p>\n</div>"
     },
     "execution_count": 5,
     "metadata": {},
     "output_type": "execute_result"
    }
   ],
   "source": [
    "dataset[dataset['ID'] == '00000260']"
   ],
   "metadata": {
    "collapsed": false,
    "ExecuteTime": {
     "end_time": "2024-10-28T05:23:39.972453900Z",
     "start_time": "2024-10-28T05:23:39.814453600Z"
    }
   }
  },
  {
   "cell_type": "code",
   "execution_count": 3,
   "outputs": [],
   "source": [
    "import pandas as pd"
   ],
   "metadata": {
    "collapsed": false,
    "ExecuteTime": {
     "end_time": "2024-11-03T09:00:07.229807200Z",
     "start_time": "2024-11-03T09:00:06.673805600Z"
    }
   }
  },
  {
   "cell_type": "code",
   "execution_count": 19,
   "outputs": [],
   "source": [
    "a = pd.read_csv('data/fd_verify_added_scenario_5.csv')"
   ],
   "metadata": {
    "collapsed": false,
    "ExecuteTime": {
     "end_time": "2024-11-03T09:50:52.091822300Z",
     "start_time": "2024-11-03T09:50:43.690277600Z"
    }
   }
  },
  {
   "cell_type": "code",
   "execution_count": 20,
   "outputs": [
    {
     "data": {
      "text/plain": "array(['000001AA', '0000015A', '000000B5', '00000555', '0000006A'],\n      dtype=object)"
     },
     "execution_count": 20,
     "metadata": {},
     "output_type": "execute_result"
    }
   ],
   "source": [
    "a[a['label'] == 1]['ID'].unique()"
   ],
   "metadata": {
    "collapsed": false,
    "ExecuteTime": {
     "end_time": "2024-11-03T09:50:52.282848500Z",
     "start_time": "2024-11-03T09:50:52.092848300Z"
    }
   }
  },
  {
   "cell_type": "code",
   "execution_count": 18,
   "outputs": [
    {
     "name": "stdout",
     "output_type": "stream",
     "text": [
      "500000\n",
      "500000\n",
      "1000000\n",
      "500000\n"
     ]
    }
   ],
   "source": [
    "for item in a[a['label'] == 1]['ID'].unique():\n",
    "    b = a[a['ID'] == item]\n",
    "    print(len(b[b['label'] == 1]))"
   ],
   "metadata": {
    "collapsed": false,
    "ExecuteTime": {
     "end_time": "2024-11-03T09:03:58.379874600Z",
     "start_time": "2024-11-03T09:03:56.324848200Z"
    }
   }
  },
  {
   "cell_type": "code",
   "execution_count": 2,
   "outputs": [
    {
     "name": "stderr",
     "output_type": "stream",
     "text": [
      "C:\\Users\\Choi\\AppData\\Local\\Temp\\ipykernel_12104\\2355659478.py:1: ParserWarning: Falling back to the 'python' engine because the 'c' engine does not support regex separators (separators > 1 char and different from '\\s+' are interpreted as regex); you can avoid this warning by specifying engine='python'.\n",
      "  data = pd.read_csv('raw-data/1_candump.txt', sep = ', ')\n"
     ]
    }
   ],
   "source": [
    "data = pd.read_csv('raw-data/1_candump.txt', sep = ', ')"
   ],
   "metadata": {
    "collapsed": false,
    "ExecuteTime": {
     "end_time": "2024-11-03T18:23:50.343729600Z",
     "start_time": "2024-11-03T18:23:31.057797Z"
    }
   }
  },
  {
   "cell_type": "code",
   "execution_count": null,
   "outputs": [],
   "source": [
    "data.to_csv('data/can_stop_dataset.csv', sep = ',', index = False)"
   ],
   "metadata": {
    "collapsed": false,
    "is_executing": true,
    "ExecuteTime": {
     "start_time": "2024-11-04T02:52:12.589863200Z"
    }
   }
  },
  {
   "cell_type": "code",
   "execution_count": 17,
   "outputs": [],
   "source": [
    "dataset = pd.read_csv('data/can_stop_dataset.csv')"
   ],
   "metadata": {
    "collapsed": false,
    "ExecuteTime": {
     "end_time": "2024-11-04T02:58:49.707939800Z",
     "start_time": "2024-11-04T02:58:48.186943Z"
    }
   }
  },
  {
   "cell_type": "code",
   "execution_count": 18,
   "outputs": [],
   "source": [
    "dataset['ID'] = dataset['Arbitration_ID']"
   ],
   "metadata": {
    "collapsed": false,
    "ExecuteTime": {
     "end_time": "2024-11-04T02:58:49.765939500Z",
     "start_time": "2024-11-04T02:58:49.709940Z"
    }
   }
  },
  {
   "cell_type": "code",
   "execution_count": 19,
   "outputs": [],
   "source": [
    "dataset = dataset.drop(['Arbitration_ID'], axis = 1)"
   ],
   "metadata": {
    "collapsed": false,
    "ExecuteTime": {
     "end_time": "2024-11-04T02:58:50.044217600Z",
     "start_time": "2024-11-04T02:58:49.948215900Z"
    }
   }
  },
  {
   "cell_type": "code",
   "execution_count": 20,
   "outputs": [],
   "source": [
    "dataset = dataset[['Timestamp', 'ID', 'DLC', 'Data']]"
   ],
   "metadata": {
    "collapsed": false,
    "ExecuteTime": {
     "end_time": "2024-11-04T02:58:50.594204Z",
     "start_time": "2024-11-04T02:58:50.470194800Z"
    }
   }
  },
  {
   "cell_type": "code",
   "execution_count": 21,
   "outputs": [
    {
     "data": {
      "text/plain": "   Timestamp   ID  DLC                     Data\n0    0.00342  220    8  EE A3 7E 00 00 FF 0F 44\n1    0.00366  130    8  FC 7F 68 7F 00 00 04 7F\n2    0.00389  140    8  B4 7F 00 64 20 00 04 69\n3    0.00413  153    8  20 80 10 FF 00 FF 60 0E\n4    0.00682  260    8  05 17 00 30 FF BE 59 1A",
      "text/html": "<div>\n<style scoped>\n    .dataframe tbody tr th:only-of-type {\n        vertical-align: middle;\n    }\n\n    .dataframe tbody tr th {\n        vertical-align: top;\n    }\n\n    .dataframe thead th {\n        text-align: right;\n    }\n</style>\n<table border=\"1\" class=\"dataframe\">\n  <thead>\n    <tr style=\"text-align: right;\">\n      <th></th>\n      <th>Timestamp</th>\n      <th>ID</th>\n      <th>DLC</th>\n      <th>Data</th>\n    </tr>\n  </thead>\n  <tbody>\n    <tr>\n      <th>0</th>\n      <td>0.00342</td>\n      <td>220</td>\n      <td>8</td>\n      <td>EE A3 7E 00 00 FF 0F 44</td>\n    </tr>\n    <tr>\n      <th>1</th>\n      <td>0.00366</td>\n      <td>130</td>\n      <td>8</td>\n      <td>FC 7F 68 7F 00 00 04 7F</td>\n    </tr>\n    <tr>\n      <th>2</th>\n      <td>0.00389</td>\n      <td>140</td>\n      <td>8</td>\n      <td>B4 7F 00 64 20 00 04 69</td>\n    </tr>\n    <tr>\n      <th>3</th>\n      <td>0.00413</td>\n      <td>153</td>\n      <td>8</td>\n      <td>20 80 10 FF 00 FF 60 0E</td>\n    </tr>\n    <tr>\n      <th>4</th>\n      <td>0.00682</td>\n      <td>260</td>\n      <td>8</td>\n      <td>05 17 00 30 FF BE 59 1A</td>\n    </tr>\n  </tbody>\n</table>\n</div>"
     },
     "execution_count": 21,
     "metadata": {},
     "output_type": "execute_result"
    }
   ],
   "source": [
    "dataset.head()"
   ],
   "metadata": {
    "collapsed": false,
    "ExecuteTime": {
     "end_time": "2024-11-04T02:58:52.123193600Z",
     "start_time": "2024-11-04T02:58:51.967193300Z"
    }
   }
  },
  {
   "cell_type": "code",
   "execution_count": 22,
   "outputs": [],
   "source": [
    "dataset.columns = ['Timestamp', 'ID', 'DLC', 'Payload']"
   ],
   "metadata": {
    "collapsed": false,
    "ExecuteTime": {
     "end_time": "2024-11-04T02:58:53.615444900Z",
     "start_time": "2024-11-04T02:58:53.549447800Z"
    }
   }
  },
  {
   "cell_type": "code",
   "execution_count": 23,
   "outputs": [
    {
     "data": {
      "text/plain": "   Timestamp   ID  DLC                  Payload\n0    0.00342  220    8  EE A3 7E 00 00 FF 0F 44\n1    0.00366  130    8  FC 7F 68 7F 00 00 04 7F\n2    0.00389  140    8  B4 7F 00 64 20 00 04 69\n3    0.00413  153    8  20 80 10 FF 00 FF 60 0E\n4    0.00682  260    8  05 17 00 30 FF BE 59 1A",
      "text/html": "<div>\n<style scoped>\n    .dataframe tbody tr th:only-of-type {\n        vertical-align: middle;\n    }\n\n    .dataframe tbody tr th {\n        vertical-align: top;\n    }\n\n    .dataframe thead th {\n        text-align: right;\n    }\n</style>\n<table border=\"1\" class=\"dataframe\">\n  <thead>\n    <tr style=\"text-align: right;\">\n      <th></th>\n      <th>Timestamp</th>\n      <th>ID</th>\n      <th>DLC</th>\n      <th>Payload</th>\n    </tr>\n  </thead>\n  <tbody>\n    <tr>\n      <th>0</th>\n      <td>0.00342</td>\n      <td>220</td>\n      <td>8</td>\n      <td>EE A3 7E 00 00 FF 0F 44</td>\n    </tr>\n    <tr>\n      <th>1</th>\n      <td>0.00366</td>\n      <td>130</td>\n      <td>8</td>\n      <td>FC 7F 68 7F 00 00 04 7F</td>\n    </tr>\n    <tr>\n      <th>2</th>\n      <td>0.00389</td>\n      <td>140</td>\n      <td>8</td>\n      <td>B4 7F 00 64 20 00 04 69</td>\n    </tr>\n    <tr>\n      <th>3</th>\n      <td>0.00413</td>\n      <td>153</td>\n      <td>8</td>\n      <td>20 80 10 FF 00 FF 60 0E</td>\n    </tr>\n    <tr>\n      <th>4</th>\n      <td>0.00682</td>\n      <td>260</td>\n      <td>8</td>\n      <td>05 17 00 30 FF BE 59 1A</td>\n    </tr>\n  </tbody>\n</table>\n</div>"
     },
     "execution_count": 23,
     "metadata": {},
     "output_type": "execute_result"
    }
   ],
   "source": [
    "dataset.head()"
   ],
   "metadata": {
    "collapsed": false,
    "ExecuteTime": {
     "end_time": "2024-11-04T02:58:54.705063800Z",
     "start_time": "2024-11-04T02:58:54.634064600Z"
    }
   }
  },
  {
   "cell_type": "code",
   "execution_count": 24,
   "outputs": [],
   "source": [
    "dataset['ID'] = dataset['ID'].apply(lambda x: f'00000{x}')"
   ],
   "metadata": {
    "collapsed": false,
    "ExecuteTime": {
     "end_time": "2024-11-04T02:59:04.084959200Z",
     "start_time": "2024-11-04T02:59:03.514972200Z"
    }
   }
  },
  {
   "cell_type": "code",
   "execution_count": 25,
   "outputs": [
    {
     "data": {
      "text/plain": "0          00000220\n1          00000130\n2          00000140\n3          00000153\n4          00000260\n             ...   \n3424995    0000038D\n3424996    00000420\n3424997    00000421\n3424998    00000251\n3424999    000002B0\nName: ID, Length: 3425000, dtype: object"
     },
     "execution_count": 25,
     "metadata": {},
     "output_type": "execute_result"
    }
   ],
   "source": [
    "dataset['ID']"
   ],
   "metadata": {
    "collapsed": false,
    "ExecuteTime": {
     "end_time": "2024-11-04T02:59:05.459431100Z",
     "start_time": "2024-11-04T02:59:05.391395300Z"
    }
   }
  },
  {
   "cell_type": "code",
   "execution_count": 26,
   "outputs": [
    {
     "data": {
      "text/plain": "   Timestamp        ID  DLC                  Payload\n0    0.00342  00000220    8  EE A3 7E 00 00 FF 0F 44\n1    0.00366  00000130    8  FC 7F 68 7F 00 00 04 7F\n2    0.00389  00000140    8  B4 7F 00 64 20 00 04 69\n3    0.00413  00000153    8  20 80 10 FF 00 FF 60 0E\n4    0.00682  00000260    8  05 17 00 30 FF BE 59 1A",
      "text/html": "<div>\n<style scoped>\n    .dataframe tbody tr th:only-of-type {\n        vertical-align: middle;\n    }\n\n    .dataframe tbody tr th {\n        vertical-align: top;\n    }\n\n    .dataframe thead th {\n        text-align: right;\n    }\n</style>\n<table border=\"1\" class=\"dataframe\">\n  <thead>\n    <tr style=\"text-align: right;\">\n      <th></th>\n      <th>Timestamp</th>\n      <th>ID</th>\n      <th>DLC</th>\n      <th>Payload</th>\n    </tr>\n  </thead>\n  <tbody>\n    <tr>\n      <th>0</th>\n      <td>0.00342</td>\n      <td>00000220</td>\n      <td>8</td>\n      <td>EE A3 7E 00 00 FF 0F 44</td>\n    </tr>\n    <tr>\n      <th>1</th>\n      <td>0.00366</td>\n      <td>00000130</td>\n      <td>8</td>\n      <td>FC 7F 68 7F 00 00 04 7F</td>\n    </tr>\n    <tr>\n      <th>2</th>\n      <td>0.00389</td>\n      <td>00000140</td>\n      <td>8</td>\n      <td>B4 7F 00 64 20 00 04 69</td>\n    </tr>\n    <tr>\n      <th>3</th>\n      <td>0.00413</td>\n      <td>00000153</td>\n      <td>8</td>\n      <td>20 80 10 FF 00 FF 60 0E</td>\n    </tr>\n    <tr>\n      <th>4</th>\n      <td>0.00682</td>\n      <td>00000260</td>\n      <td>8</td>\n      <td>05 17 00 30 FF BE 59 1A</td>\n    </tr>\n  </tbody>\n</table>\n</div>"
     },
     "execution_count": 26,
     "metadata": {},
     "output_type": "execute_result"
    }
   ],
   "source": [
    "dataset.head()"
   ],
   "metadata": {
    "collapsed": false,
    "ExecuteTime": {
     "end_time": "2024-11-04T02:59:09.578395600Z",
     "start_time": "2024-11-04T02:59:09.500395500Z"
    }
   }
  },
  {
   "cell_type": "code",
   "execution_count": 31,
   "outputs": [],
   "source": [
    "dataset['label'] = [0 for _ in range(len(dataset))]"
   ],
   "metadata": {
    "collapsed": false,
    "ExecuteTime": {
     "end_time": "2024-11-04T03:02:39.690802500Z",
     "start_time": "2024-11-04T03:02:38.963804800Z"
    }
   }
  },
  {
   "cell_type": "code",
   "execution_count": 32,
   "outputs": [
    {
     "data": {
      "text/plain": "   Timestamp        ID  DLC                  Payload  label\n0    0.00342  00000220    8  EE A3 7E 00 00 FF 0F 44      0\n1    0.00366  00000130    8  FC 7F 68 7F 00 00 04 7F      0\n2    0.00389  00000140    8  B4 7F 00 64 20 00 04 69      0\n3    0.00413  00000153    8  20 80 10 FF 00 FF 60 0E      0\n4    0.00682  00000260    8  05 17 00 30 FF BE 59 1A      0",
      "text/html": "<div>\n<style scoped>\n    .dataframe tbody tr th:only-of-type {\n        vertical-align: middle;\n    }\n\n    .dataframe tbody tr th {\n        vertical-align: top;\n    }\n\n    .dataframe thead th {\n        text-align: right;\n    }\n</style>\n<table border=\"1\" class=\"dataframe\">\n  <thead>\n    <tr style=\"text-align: right;\">\n      <th></th>\n      <th>Timestamp</th>\n      <th>ID</th>\n      <th>DLC</th>\n      <th>Payload</th>\n      <th>label</th>\n    </tr>\n  </thead>\n  <tbody>\n    <tr>\n      <th>0</th>\n      <td>0.00342</td>\n      <td>00000220</td>\n      <td>8</td>\n      <td>EE A3 7E 00 00 FF 0F 44</td>\n      <td>0</td>\n    </tr>\n    <tr>\n      <th>1</th>\n      <td>0.00366</td>\n      <td>00000130</td>\n      <td>8</td>\n      <td>FC 7F 68 7F 00 00 04 7F</td>\n      <td>0</td>\n    </tr>\n    <tr>\n      <th>2</th>\n      <td>0.00389</td>\n      <td>00000140</td>\n      <td>8</td>\n      <td>B4 7F 00 64 20 00 04 69</td>\n      <td>0</td>\n    </tr>\n    <tr>\n      <th>3</th>\n      <td>0.00413</td>\n      <td>00000153</td>\n      <td>8</td>\n      <td>20 80 10 FF 00 FF 60 0E</td>\n      <td>0</td>\n    </tr>\n    <tr>\n      <th>4</th>\n      <td>0.00682</td>\n      <td>00000260</td>\n      <td>8</td>\n      <td>05 17 00 30 FF BE 59 1A</td>\n      <td>0</td>\n    </tr>\n  </tbody>\n</table>\n</div>"
     },
     "execution_count": 32,
     "metadata": {},
     "output_type": "execute_result"
    }
   ],
   "source": [
    "dataset.head()"
   ],
   "metadata": {
    "collapsed": false,
    "ExecuteTime": {
     "end_time": "2024-11-04T03:02:41.304807900Z",
     "start_time": "2024-11-04T03:02:41.227803300Z"
    }
   }
  },
  {
   "cell_type": "code",
   "execution_count": 33,
   "outputs": [],
   "source": [
    "dataset.to_csv('data/11_12_can_data.csv', sep = ',', index = False)"
   ],
   "metadata": {
    "collapsed": false,
    "ExecuteTime": {
     "end_time": "2024-11-04T03:02:49.908733600Z",
     "start_time": "2024-11-04T03:02:43.403312700Z"
    }
   }
  },
  {
   "cell_type": "code",
   "execution_count": 47,
   "outputs": [
    {
     "data": {
      "text/plain": "3425000"
     },
     "execution_count": 47,
     "metadata": {},
     "output_type": "execute_result"
    }
   ],
   "source": [
    "len(dataset)"
   ],
   "metadata": {
    "collapsed": false,
    "ExecuteTime": {
     "end_time": "2024-11-04T03:09:05.509224600Z",
     "start_time": "2024-11-04T03:09:05.417519200Z"
    }
   }
  },
  {
   "cell_type": "code",
   "execution_count": 35,
   "outputs": [
    {
     "name": "stderr",
     "output_type": "stream",
     "text": [
      "C:\\Users\\Choi\\AppData\\Local\\Temp\\ipykernel_6624\\3522750383.py:1: ParserWarning: Falling back to the 'python' engine because the 'c' engine does not support regex separators (separators > 1 char and different from '\\s+' are interpreted as regex); you can avoid this warning by specifying engine='python'.\n",
      "  replay = pd.read_csv('raw-data/replay.txt', sep = ', ')\n"
     ]
    }
   ],
   "source": [
    "replay = pd.read_csv('raw-data/replay.txt', sep = ', ')"
   ],
   "metadata": {
    "collapsed": false,
    "ExecuteTime": {
     "end_time": "2024-11-04T03:06:06.540162600Z",
     "start_time": "2024-11-04T03:06:06.429162700Z"
    }
   }
  },
  {
   "cell_type": "code",
   "execution_count": 37,
   "outputs": [],
   "source": [
    "replay.columns = ['Timestamp', 'ID', 'DLC', 'Payload']"
   ],
   "metadata": {
    "collapsed": false,
    "ExecuteTime": {
     "end_time": "2024-11-04T03:06:55.208982200Z",
     "start_time": "2024-11-04T03:06:55.154983400Z"
    }
   }
  },
  {
   "cell_type": "code",
   "execution_count": 42,
   "outputs": [],
   "source": [
    "replay['ID'] = replay['ID'].apply(lambda x: f'00000{x}')"
   ],
   "metadata": {
    "collapsed": false,
    "ExecuteTime": {
     "end_time": "2024-11-04T03:07:27.323619800Z",
     "start_time": "2024-11-04T03:07:27.244621200Z"
    }
   }
  },
  {
   "cell_type": "code",
   "execution_count": 44,
   "outputs": [],
   "source": [
    "replay['label'] = [1 for _ in range(len(replay))]"
   ],
   "metadata": {
    "collapsed": false,
    "ExecuteTime": {
     "end_time": "2024-11-04T03:07:47.061755200Z",
     "start_time": "2024-11-04T03:07:46.975719700Z"
    }
   }
  },
  {
   "cell_type": "code",
   "execution_count": 45,
   "outputs": [],
   "source": [
    "replay.to_csv('replay_dummy.csv', sep = ',', index = False)"
   ],
   "metadata": {
    "collapsed": false,
    "ExecuteTime": {
     "end_time": "2024-11-04T03:08:24.521459800Z",
     "start_time": "2024-11-04T03:08:24.393437400Z"
    }
   }
  },
  {
   "cell_type": "code",
   "execution_count": 48,
   "outputs": [
    {
     "data": {
      "text/plain": "28682"
     },
     "execution_count": 48,
     "metadata": {},
     "output_type": "execute_result"
    }
   ],
   "source": [
    "len(replay)"
   ],
   "metadata": {
    "collapsed": false,
    "ExecuteTime": {
     "end_time": "2024-11-04T03:09:13.114951800Z",
     "start_time": "2024-11-04T03:09:13.086928700Z"
    }
   }
  },
  {
   "cell_type": "code",
   "execution_count": 49,
   "outputs": [],
   "source": [
    "test = pd.read_csv('data/11_12_can_data_v1.csv')"
   ],
   "metadata": {
    "collapsed": false,
    "ExecuteTime": {
     "end_time": "2024-11-04T03:41:11.580379300Z",
     "start_time": "2024-11-04T03:41:09.801382200Z"
    }
   }
  },
  {
   "cell_type": "code",
   "execution_count": 50,
   "outputs": [
    {
     "data": {
      "text/plain": "          Timestamp        ID  DLC                  Payload  label\n102347     42.65834  0000042D    8  00 00 00 00 00 D0 07 FA      1\n102349     42.65858  0000047F    8  04 57 FF FF 00 7B 00 04      1\n102350     42.65871  000004A7    2                    01 00      1\n102352     42.65896  0000053E    8  00 00 00 00 0C CF 00 00      1\n102354     42.65921  00000572    8  00 00 00 00 00 00 00 00      1\n...             ...       ...  ...                      ...    ...\n3672159  1410.93162  00000130    8  F8 7F 1C 81 00 00 0F E7      1\n3672160  1410.93185  00000140    8  54 7F 00 68 20 00 0F 64      1\n3672161  1410.93210  0000048C    8  FC 30 03 00 00 00 00 00      1\n3672163  1410.93319  00000394    8  00 E0 08 00 FF 8B 18 FA      1\n3672164  1410.93336  00000164    4              00 08 19 93      1\n\n[286820 rows x 5 columns]",
      "text/html": "<div>\n<style scoped>\n    .dataframe tbody tr th:only-of-type {\n        vertical-align: middle;\n    }\n\n    .dataframe tbody tr th {\n        vertical-align: top;\n    }\n\n    .dataframe thead th {\n        text-align: right;\n    }\n</style>\n<table border=\"1\" class=\"dataframe\">\n  <thead>\n    <tr style=\"text-align: right;\">\n      <th></th>\n      <th>Timestamp</th>\n      <th>ID</th>\n      <th>DLC</th>\n      <th>Payload</th>\n      <th>label</th>\n    </tr>\n  </thead>\n  <tbody>\n    <tr>\n      <th>102347</th>\n      <td>42.65834</td>\n      <td>0000042D</td>\n      <td>8</td>\n      <td>00 00 00 00 00 D0 07 FA</td>\n      <td>1</td>\n    </tr>\n    <tr>\n      <th>102349</th>\n      <td>42.65858</td>\n      <td>0000047F</td>\n      <td>8</td>\n      <td>04 57 FF FF 00 7B 00 04</td>\n      <td>1</td>\n    </tr>\n    <tr>\n      <th>102350</th>\n      <td>42.65871</td>\n      <td>000004A7</td>\n      <td>2</td>\n      <td>01 00</td>\n      <td>1</td>\n    </tr>\n    <tr>\n      <th>102352</th>\n      <td>42.65896</td>\n      <td>0000053E</td>\n      <td>8</td>\n      <td>00 00 00 00 0C CF 00 00</td>\n      <td>1</td>\n    </tr>\n    <tr>\n      <th>102354</th>\n      <td>42.65921</td>\n      <td>00000572</td>\n      <td>8</td>\n      <td>00 00 00 00 00 00 00 00</td>\n      <td>1</td>\n    </tr>\n    <tr>\n      <th>...</th>\n      <td>...</td>\n      <td>...</td>\n      <td>...</td>\n      <td>...</td>\n      <td>...</td>\n    </tr>\n    <tr>\n      <th>3672159</th>\n      <td>1410.93162</td>\n      <td>00000130</td>\n      <td>8</td>\n      <td>F8 7F 1C 81 00 00 0F E7</td>\n      <td>1</td>\n    </tr>\n    <tr>\n      <th>3672160</th>\n      <td>1410.93185</td>\n      <td>00000140</td>\n      <td>8</td>\n      <td>54 7F 00 68 20 00 0F 64</td>\n      <td>1</td>\n    </tr>\n    <tr>\n      <th>3672161</th>\n      <td>1410.93210</td>\n      <td>0000048C</td>\n      <td>8</td>\n      <td>FC 30 03 00 00 00 00 00</td>\n      <td>1</td>\n    </tr>\n    <tr>\n      <th>3672163</th>\n      <td>1410.93319</td>\n      <td>00000394</td>\n      <td>8</td>\n      <td>00 E0 08 00 FF 8B 18 FA</td>\n      <td>1</td>\n    </tr>\n    <tr>\n      <th>3672164</th>\n      <td>1410.93336</td>\n      <td>00000164</td>\n      <td>4</td>\n      <td>00 08 19 93</td>\n      <td>1</td>\n    </tr>\n  </tbody>\n</table>\n<p>286820 rows × 5 columns</p>\n</div>"
     },
     "execution_count": 50,
     "metadata": {},
     "output_type": "execute_result"
    }
   ],
   "source": [
    "test[test['label'] == 1]"
   ],
   "metadata": {
    "collapsed": false,
    "ExecuteTime": {
     "end_time": "2024-11-04T03:41:14.313638500Z",
     "start_time": "2024-11-04T03:41:14.253640100Z"
    }
   }
  },
  {
   "cell_type": "code",
   "execution_count": 51,
   "outputs": [
    {
     "data": {
      "text/plain": "       Timestamp        ID  DLC      Payload  label\n30       0.01782  000004F1    4  20 00 60 11      1\n84       0.03782  000004F1    4  20 00 60 21      1\n134      0.05780  000004F1    4  00 00 60 31      1\n183      0.07760  000004F1    4  20 00 60 41      1\n228      0.09778  000004F1    4  00 00 60 51      1\n...          ...       ...  ...          ...    ...\n28459   11.83251  000004F1    4  00 00 60 01      1\n28507   11.85251  000004F1    4  20 00 60 11      1\n28557   11.87230  000004F1    4  20 00 60 21      1\n28602   11.89230  000004F1    4  00 00 60 31      1\n28649   11.91230  000004F1    4  20 00 60 41      1\n\n[596 rows x 5 columns]",
      "text/html": "<div>\n<style scoped>\n    .dataframe tbody tr th:only-of-type {\n        vertical-align: middle;\n    }\n\n    .dataframe tbody tr th {\n        vertical-align: top;\n    }\n\n    .dataframe thead th {\n        text-align: right;\n    }\n</style>\n<table border=\"1\" class=\"dataframe\">\n  <thead>\n    <tr style=\"text-align: right;\">\n      <th></th>\n      <th>Timestamp</th>\n      <th>ID</th>\n      <th>DLC</th>\n      <th>Payload</th>\n      <th>label</th>\n    </tr>\n  </thead>\n  <tbody>\n    <tr>\n      <th>30</th>\n      <td>0.01782</td>\n      <td>000004F1</td>\n      <td>4</td>\n      <td>20 00 60 11</td>\n      <td>1</td>\n    </tr>\n    <tr>\n      <th>84</th>\n      <td>0.03782</td>\n      <td>000004F1</td>\n      <td>4</td>\n      <td>20 00 60 21</td>\n      <td>1</td>\n    </tr>\n    <tr>\n      <th>134</th>\n      <td>0.05780</td>\n      <td>000004F1</td>\n      <td>4</td>\n      <td>00 00 60 31</td>\n      <td>1</td>\n    </tr>\n    <tr>\n      <th>183</th>\n      <td>0.07760</td>\n      <td>000004F1</td>\n      <td>4</td>\n      <td>20 00 60 41</td>\n      <td>1</td>\n    </tr>\n    <tr>\n      <th>228</th>\n      <td>0.09778</td>\n      <td>000004F1</td>\n      <td>4</td>\n      <td>00 00 60 51</td>\n      <td>1</td>\n    </tr>\n    <tr>\n      <th>...</th>\n      <td>...</td>\n      <td>...</td>\n      <td>...</td>\n      <td>...</td>\n      <td>...</td>\n    </tr>\n    <tr>\n      <th>28459</th>\n      <td>11.83251</td>\n      <td>000004F1</td>\n      <td>4</td>\n      <td>00 00 60 01</td>\n      <td>1</td>\n    </tr>\n    <tr>\n      <th>28507</th>\n      <td>11.85251</td>\n      <td>000004F1</td>\n      <td>4</td>\n      <td>20 00 60 11</td>\n      <td>1</td>\n    </tr>\n    <tr>\n      <th>28557</th>\n      <td>11.87230</td>\n      <td>000004F1</td>\n      <td>4</td>\n      <td>20 00 60 21</td>\n      <td>1</td>\n    </tr>\n    <tr>\n      <th>28602</th>\n      <td>11.89230</td>\n      <td>000004F1</td>\n      <td>4</td>\n      <td>00 00 60 31</td>\n      <td>1</td>\n    </tr>\n    <tr>\n      <th>28649</th>\n      <td>11.91230</td>\n      <td>000004F1</td>\n      <td>4</td>\n      <td>20 00 60 41</td>\n      <td>1</td>\n    </tr>\n  </tbody>\n</table>\n<p>596 rows × 5 columns</p>\n</div>"
     },
     "execution_count": 51,
     "metadata": {},
     "output_type": "execute_result"
    }
   ],
   "source": [
    "replay[replay['ID'] == '000004F1']"
   ],
   "metadata": {
    "collapsed": false,
    "ExecuteTime": {
     "end_time": "2024-11-04T04:05:06.769949200Z",
     "start_time": "2024-11-04T04:05:06.700951700Z"
    }
   }
  },
  {
   "cell_type": "code",
   "execution_count": 52,
   "outputs": [],
   "source": [
    "test = pd.read_csv('data/11_12_can_data_v4.csv')"
   ],
   "metadata": {
    "collapsed": false,
    "ExecuteTime": {
     "end_time": "2024-11-04T04:08:57.361741100Z",
     "start_time": "2024-11-04T04:08:55.063741700Z"
    }
   }
  },
  {
   "cell_type": "code",
   "execution_count": 53,
   "outputs": [
    {
     "data": {
      "text/plain": "          Timestamp        ID  DLC                  Payload  label\n21150       8.82088  0000053E    8  00 00 00 00 09 85 00 00      1\n21152       8.82113  0000053E    8  00 00 00 00 09 85 00 00      1\n21154       8.82138  0000053E    8  00 00 00 00 09 85 00 00      1\n21156       8.82163  0000053E    8  00 00 00 00 09 85 00 00      1\n21158       8.82188  0000053E    8  00 00 00 00 09 85 00 00      1\n...             ...       ...  ...                      ...    ...\n4449011  1423.79339  0000053E    8  00 00 00 00 09 85 00 00      1\n4449013  1423.79364  0000053E    8  00 00 00 00 09 85 00 00      1\n4449014  1423.79389  0000053E    8  00 00 00 00 09 85 00 00      1\n4449015  1423.79414  0000053E    8  00 00 00 00 09 85 00 00      1\n4449017  1423.79439  0000053E    8  00 00 00 00 09 85 00 00      1\n\n[1032820 rows x 5 columns]",
      "text/html": "<div>\n<style scoped>\n    .dataframe tbody tr th:only-of-type {\n        vertical-align: middle;\n    }\n\n    .dataframe tbody tr th {\n        vertical-align: top;\n    }\n\n    .dataframe thead th {\n        text-align: right;\n    }\n</style>\n<table border=\"1\" class=\"dataframe\">\n  <thead>\n    <tr style=\"text-align: right;\">\n      <th></th>\n      <th>Timestamp</th>\n      <th>ID</th>\n      <th>DLC</th>\n      <th>Payload</th>\n      <th>label</th>\n    </tr>\n  </thead>\n  <tbody>\n    <tr>\n      <th>21150</th>\n      <td>8.82088</td>\n      <td>0000053E</td>\n      <td>8</td>\n      <td>00 00 00 00 09 85 00 00</td>\n      <td>1</td>\n    </tr>\n    <tr>\n      <th>21152</th>\n      <td>8.82113</td>\n      <td>0000053E</td>\n      <td>8</td>\n      <td>00 00 00 00 09 85 00 00</td>\n      <td>1</td>\n    </tr>\n    <tr>\n      <th>21154</th>\n      <td>8.82138</td>\n      <td>0000053E</td>\n      <td>8</td>\n      <td>00 00 00 00 09 85 00 00</td>\n      <td>1</td>\n    </tr>\n    <tr>\n      <th>21156</th>\n      <td>8.82163</td>\n      <td>0000053E</td>\n      <td>8</td>\n      <td>00 00 00 00 09 85 00 00</td>\n      <td>1</td>\n    </tr>\n    <tr>\n      <th>21158</th>\n      <td>8.82188</td>\n      <td>0000053E</td>\n      <td>8</td>\n      <td>00 00 00 00 09 85 00 00</td>\n      <td>1</td>\n    </tr>\n    <tr>\n      <th>...</th>\n      <td>...</td>\n      <td>...</td>\n      <td>...</td>\n      <td>...</td>\n      <td>...</td>\n    </tr>\n    <tr>\n      <th>4449011</th>\n      <td>1423.79339</td>\n      <td>0000053E</td>\n      <td>8</td>\n      <td>00 00 00 00 09 85 00 00</td>\n      <td>1</td>\n    </tr>\n    <tr>\n      <th>4449013</th>\n      <td>1423.79364</td>\n      <td>0000053E</td>\n      <td>8</td>\n      <td>00 00 00 00 09 85 00 00</td>\n      <td>1</td>\n    </tr>\n    <tr>\n      <th>4449014</th>\n      <td>1423.79389</td>\n      <td>0000053E</td>\n      <td>8</td>\n      <td>00 00 00 00 09 85 00 00</td>\n      <td>1</td>\n    </tr>\n    <tr>\n      <th>4449015</th>\n      <td>1423.79414</td>\n      <td>0000053E</td>\n      <td>8</td>\n      <td>00 00 00 00 09 85 00 00</td>\n      <td>1</td>\n    </tr>\n    <tr>\n      <th>4449017</th>\n      <td>1423.79439</td>\n      <td>0000053E</td>\n      <td>8</td>\n      <td>00 00 00 00 09 85 00 00</td>\n      <td>1</td>\n    </tr>\n  </tbody>\n</table>\n<p>1032820 rows × 5 columns</p>\n</div>"
     },
     "execution_count": 53,
     "metadata": {},
     "output_type": "execute_result"
    }
   ],
   "source": [
    "test[test['label'] == 1]"
   ],
   "metadata": {
    "collapsed": false,
    "ExecuteTime": {
     "end_time": "2024-11-04T04:09:03.709542600Z",
     "start_time": "2024-11-04T04:09:03.509543600Z"
    }
   }
  },
  {
   "cell_type": "code",
   "execution_count": 1,
   "outputs": [],
   "source": [
    "import pandas as pd"
   ],
   "metadata": {
    "collapsed": false,
    "ExecuteTime": {
     "end_time": "2024-11-04T06:29:17.257994400Z",
     "start_time": "2024-11-04T06:29:16.739995800Z"
    }
   }
  },
  {
   "cell_type": "code",
   "execution_count": 2,
   "outputs": [],
   "source": [
    "data = pd.read_csv('data/new_carnival_spoofing_06a_417_final.csv')"
   ],
   "metadata": {
    "collapsed": false,
    "ExecuteTime": {
     "end_time": "2024-11-04T06:29:36.487461200Z",
     "start_time": "2024-11-04T06:29:29.953640500Z"
    }
   }
  },
  {
   "cell_type": "code",
   "execution_count": 4,
   "outputs": [
    {
     "data": {
      "text/plain": "            Timestamp        ID DLC  \\\n92179    1.726212e+12  00000417   8   \n92180    1.726212e+12  00000417   8   \n92181    1.726212e+12  00000417   8   \n92182    1.726212e+12  00000417   8   \n92183    1.726212e+12  00000417   8   \n...               ...       ...  ..   \n8669655  1.726216e+12  0000006a   D   \n8669656  1.726216e+12  0000006a   D   \n8669657  1.726216e+12  0000006a   D   \n8669658  1.726216e+12  0000006a   D   \n8669659  1.726216e+12  0000006a   D   \n\n                                           Payload  label  \n92179                      00 00 00 00 00 11 00 00      1  \n92180                      00 00 00 00 00 11 00 00      1  \n92181                      00 00 00 00 00 11 00 00      1  \n92182                      00 00 00 00 00 11 00 00      1  \n92183                      00 00 00 00 00 11 00 00      1  \n...                                            ...    ...  \n8669655  00 00 00 00 00 00 00 0A 00 00 00 00 00 00      1  \n8669656  00 00 00 00 00 00 00 0A 00 00 00 00 00 00      1  \n8669657  00 00 00 00 00 00 00 0A 00 00 00 00 00 00      1  \n8669658  00 00 00 00 00 00 00 0A 00 00 00 00 00 00      1  \n8669659  00 00 00 00 00 00 00 0A 00 00 00 00 00 00      1  \n\n[400000 rows x 5 columns]",
      "text/html": "<div>\n<style scoped>\n    .dataframe tbody tr th:only-of-type {\n        vertical-align: middle;\n    }\n\n    .dataframe tbody tr th {\n        vertical-align: top;\n    }\n\n    .dataframe thead th {\n        text-align: right;\n    }\n</style>\n<table border=\"1\" class=\"dataframe\">\n  <thead>\n    <tr style=\"text-align: right;\">\n      <th></th>\n      <th>Timestamp</th>\n      <th>ID</th>\n      <th>DLC</th>\n      <th>Payload</th>\n      <th>label</th>\n    </tr>\n  </thead>\n  <tbody>\n    <tr>\n      <th>92179</th>\n      <td>1.726212e+12</td>\n      <td>00000417</td>\n      <td>8</td>\n      <td>00 00 00 00 00 11 00 00</td>\n      <td>1</td>\n    </tr>\n    <tr>\n      <th>92180</th>\n      <td>1.726212e+12</td>\n      <td>00000417</td>\n      <td>8</td>\n      <td>00 00 00 00 00 11 00 00</td>\n      <td>1</td>\n    </tr>\n    <tr>\n      <th>92181</th>\n      <td>1.726212e+12</td>\n      <td>00000417</td>\n      <td>8</td>\n      <td>00 00 00 00 00 11 00 00</td>\n      <td>1</td>\n    </tr>\n    <tr>\n      <th>92182</th>\n      <td>1.726212e+12</td>\n      <td>00000417</td>\n      <td>8</td>\n      <td>00 00 00 00 00 11 00 00</td>\n      <td>1</td>\n    </tr>\n    <tr>\n      <th>92183</th>\n      <td>1.726212e+12</td>\n      <td>00000417</td>\n      <td>8</td>\n      <td>00 00 00 00 00 11 00 00</td>\n      <td>1</td>\n    </tr>\n    <tr>\n      <th>...</th>\n      <td>...</td>\n      <td>...</td>\n      <td>...</td>\n      <td>...</td>\n      <td>...</td>\n    </tr>\n    <tr>\n      <th>8669655</th>\n      <td>1.726216e+12</td>\n      <td>0000006a</td>\n      <td>D</td>\n      <td>00 00 00 00 00 00 00 0A 00 00 00 00 00 00</td>\n      <td>1</td>\n    </tr>\n    <tr>\n      <th>8669656</th>\n      <td>1.726216e+12</td>\n      <td>0000006a</td>\n      <td>D</td>\n      <td>00 00 00 00 00 00 00 0A 00 00 00 00 00 00</td>\n      <td>1</td>\n    </tr>\n    <tr>\n      <th>8669657</th>\n      <td>1.726216e+12</td>\n      <td>0000006a</td>\n      <td>D</td>\n      <td>00 00 00 00 00 00 00 0A 00 00 00 00 00 00</td>\n      <td>1</td>\n    </tr>\n    <tr>\n      <th>8669658</th>\n      <td>1.726216e+12</td>\n      <td>0000006a</td>\n      <td>D</td>\n      <td>00 00 00 00 00 00 00 0A 00 00 00 00 00 00</td>\n      <td>1</td>\n    </tr>\n    <tr>\n      <th>8669659</th>\n      <td>1.726216e+12</td>\n      <td>0000006a</td>\n      <td>D</td>\n      <td>00 00 00 00 00 00 00 0A 00 00 00 00 00 00</td>\n      <td>1</td>\n    </tr>\n  </tbody>\n</table>\n<p>400000 rows × 5 columns</p>\n</div>"
     },
     "execution_count": 4,
     "metadata": {},
     "output_type": "execute_result"
    }
   ],
   "source": [
    "a = data[data['label'] == 1]\n",
    "a"
   ],
   "metadata": {
    "collapsed": false,
    "ExecuteTime": {
     "end_time": "2024-11-04T06:30:10.145667Z",
     "start_time": "2024-11-04T06:30:10.068668400Z"
    }
   }
  },
  {
   "cell_type": "code",
   "execution_count": 5,
   "outputs": [
    {
     "data": {
      "text/plain": "            Timestamp        ID DLC                  Payload  label\n92179    1.726212e+12  00000417   8  00 00 00 00 00 11 00 00      1\n92180    1.726212e+12  00000417   8  00 00 00 00 00 11 00 00      1\n92181    1.726212e+12  00000417   8  00 00 00 00 00 11 00 00      1\n92182    1.726212e+12  00000417   8  00 00 00 00 00 11 00 00      1\n92183    1.726212e+12  00000417   8  00 00 00 00 00 11 00 00      1\n...               ...       ...  ..                      ...    ...\n8626990  1.726216e+12  00000417   8  00 00 00 00 00 11 00 00      1\n8626991  1.726216e+12  00000417   8  00 00 00 00 00 11 00 00      1\n8626992  1.726216e+12  00000417   8  00 00 00 00 00 11 00 00      1\n8626993  1.726216e+12  00000417   8  00 00 00 00 00 11 00 00      1\n8626994  1.726216e+12  00000417   8  00 00 00 00 00 11 00 00      1\n\n[200000 rows x 5 columns]",
      "text/html": "<div>\n<style scoped>\n    .dataframe tbody tr th:only-of-type {\n        vertical-align: middle;\n    }\n\n    .dataframe tbody tr th {\n        vertical-align: top;\n    }\n\n    .dataframe thead th {\n        text-align: right;\n    }\n</style>\n<table border=\"1\" class=\"dataframe\">\n  <thead>\n    <tr style=\"text-align: right;\">\n      <th></th>\n      <th>Timestamp</th>\n      <th>ID</th>\n      <th>DLC</th>\n      <th>Payload</th>\n      <th>label</th>\n    </tr>\n  </thead>\n  <tbody>\n    <tr>\n      <th>92179</th>\n      <td>1.726212e+12</td>\n      <td>00000417</td>\n      <td>8</td>\n      <td>00 00 00 00 00 11 00 00</td>\n      <td>1</td>\n    </tr>\n    <tr>\n      <th>92180</th>\n      <td>1.726212e+12</td>\n      <td>00000417</td>\n      <td>8</td>\n      <td>00 00 00 00 00 11 00 00</td>\n      <td>1</td>\n    </tr>\n    <tr>\n      <th>92181</th>\n      <td>1.726212e+12</td>\n      <td>00000417</td>\n      <td>8</td>\n      <td>00 00 00 00 00 11 00 00</td>\n      <td>1</td>\n    </tr>\n    <tr>\n      <th>92182</th>\n      <td>1.726212e+12</td>\n      <td>00000417</td>\n      <td>8</td>\n      <td>00 00 00 00 00 11 00 00</td>\n      <td>1</td>\n    </tr>\n    <tr>\n      <th>92183</th>\n      <td>1.726212e+12</td>\n      <td>00000417</td>\n      <td>8</td>\n      <td>00 00 00 00 00 11 00 00</td>\n      <td>1</td>\n    </tr>\n    <tr>\n      <th>...</th>\n      <td>...</td>\n      <td>...</td>\n      <td>...</td>\n      <td>...</td>\n      <td>...</td>\n    </tr>\n    <tr>\n      <th>8626990</th>\n      <td>1.726216e+12</td>\n      <td>00000417</td>\n      <td>8</td>\n      <td>00 00 00 00 00 11 00 00</td>\n      <td>1</td>\n    </tr>\n    <tr>\n      <th>8626991</th>\n      <td>1.726216e+12</td>\n      <td>00000417</td>\n      <td>8</td>\n      <td>00 00 00 00 00 11 00 00</td>\n      <td>1</td>\n    </tr>\n    <tr>\n      <th>8626992</th>\n      <td>1.726216e+12</td>\n      <td>00000417</td>\n      <td>8</td>\n      <td>00 00 00 00 00 11 00 00</td>\n      <td>1</td>\n    </tr>\n    <tr>\n      <th>8626993</th>\n      <td>1.726216e+12</td>\n      <td>00000417</td>\n      <td>8</td>\n      <td>00 00 00 00 00 11 00 00</td>\n      <td>1</td>\n    </tr>\n    <tr>\n      <th>8626994</th>\n      <td>1.726216e+12</td>\n      <td>00000417</td>\n      <td>8</td>\n      <td>00 00 00 00 00 11 00 00</td>\n      <td>1</td>\n    </tr>\n  </tbody>\n</table>\n<p>200000 rows × 5 columns</p>\n</div>"
     },
     "execution_count": 5,
     "metadata": {},
     "output_type": "execute_result"
    }
   ],
   "source": [
    "a[a['ID'] == '00000417']"
   ],
   "metadata": {
    "collapsed": false,
    "ExecuteTime": {
     "end_time": "2024-11-04T06:30:19.462749400Z",
     "start_time": "2024-11-04T06:30:19.401750700Z"
    }
   }
  },
  {
   "cell_type": "code",
   "execution_count": 6,
   "outputs": [
    {
     "data": {
      "text/plain": "            Timestamp        ID DLC  \\\n128914   1.726212e+12  0000006a   D   \n128915   1.726212e+12  0000006a   D   \n128916   1.726212e+12  0000006a   D   \n128917   1.726212e+12  0000006a   D   \n128918   1.726212e+12  0000006a   D   \n...               ...       ...  ..   \n8669655  1.726216e+12  0000006a   D   \n8669656  1.726216e+12  0000006a   D   \n8669657  1.726216e+12  0000006a   D   \n8669658  1.726216e+12  0000006a   D   \n8669659  1.726216e+12  0000006a   D   \n\n                                           Payload  label  \n128914   00 00 00 00 00 00 00 0A 00 00 00 00 00 00      1  \n128915   00 00 00 00 00 00 00 0A 00 00 00 00 00 00      1  \n128916   00 00 00 00 00 00 00 0A 00 00 00 00 00 00      1  \n128917   00 00 00 00 00 00 00 0A 00 00 00 00 00 00      1  \n128918   00 00 00 00 00 00 00 0A 00 00 00 00 00 00      1  \n...                                            ...    ...  \n8669655  00 00 00 00 00 00 00 0A 00 00 00 00 00 00      1  \n8669656  00 00 00 00 00 00 00 0A 00 00 00 00 00 00      1  \n8669657  00 00 00 00 00 00 00 0A 00 00 00 00 00 00      1  \n8669658  00 00 00 00 00 00 00 0A 00 00 00 00 00 00      1  \n8669659  00 00 00 00 00 00 00 0A 00 00 00 00 00 00      1  \n\n[200000 rows x 5 columns]",
      "text/html": "<div>\n<style scoped>\n    .dataframe tbody tr th:only-of-type {\n        vertical-align: middle;\n    }\n\n    .dataframe tbody tr th {\n        vertical-align: top;\n    }\n\n    .dataframe thead th {\n        text-align: right;\n    }\n</style>\n<table border=\"1\" class=\"dataframe\">\n  <thead>\n    <tr style=\"text-align: right;\">\n      <th></th>\n      <th>Timestamp</th>\n      <th>ID</th>\n      <th>DLC</th>\n      <th>Payload</th>\n      <th>label</th>\n    </tr>\n  </thead>\n  <tbody>\n    <tr>\n      <th>128914</th>\n      <td>1.726212e+12</td>\n      <td>0000006a</td>\n      <td>D</td>\n      <td>00 00 00 00 00 00 00 0A 00 00 00 00 00 00</td>\n      <td>1</td>\n    </tr>\n    <tr>\n      <th>128915</th>\n      <td>1.726212e+12</td>\n      <td>0000006a</td>\n      <td>D</td>\n      <td>00 00 00 00 00 00 00 0A 00 00 00 00 00 00</td>\n      <td>1</td>\n    </tr>\n    <tr>\n      <th>128916</th>\n      <td>1.726212e+12</td>\n      <td>0000006a</td>\n      <td>D</td>\n      <td>00 00 00 00 00 00 00 0A 00 00 00 00 00 00</td>\n      <td>1</td>\n    </tr>\n    <tr>\n      <th>128917</th>\n      <td>1.726212e+12</td>\n      <td>0000006a</td>\n      <td>D</td>\n      <td>00 00 00 00 00 00 00 0A 00 00 00 00 00 00</td>\n      <td>1</td>\n    </tr>\n    <tr>\n      <th>128918</th>\n      <td>1.726212e+12</td>\n      <td>0000006a</td>\n      <td>D</td>\n      <td>00 00 00 00 00 00 00 0A 00 00 00 00 00 00</td>\n      <td>1</td>\n    </tr>\n    <tr>\n      <th>...</th>\n      <td>...</td>\n      <td>...</td>\n      <td>...</td>\n      <td>...</td>\n      <td>...</td>\n    </tr>\n    <tr>\n      <th>8669655</th>\n      <td>1.726216e+12</td>\n      <td>0000006a</td>\n      <td>D</td>\n      <td>00 00 00 00 00 00 00 0A 00 00 00 00 00 00</td>\n      <td>1</td>\n    </tr>\n    <tr>\n      <th>8669656</th>\n      <td>1.726216e+12</td>\n      <td>0000006a</td>\n      <td>D</td>\n      <td>00 00 00 00 00 00 00 0A 00 00 00 00 00 00</td>\n      <td>1</td>\n    </tr>\n    <tr>\n      <th>8669657</th>\n      <td>1.726216e+12</td>\n      <td>0000006a</td>\n      <td>D</td>\n      <td>00 00 00 00 00 00 00 0A 00 00 00 00 00 00</td>\n      <td>1</td>\n    </tr>\n    <tr>\n      <th>8669658</th>\n      <td>1.726216e+12</td>\n      <td>0000006a</td>\n      <td>D</td>\n      <td>00 00 00 00 00 00 00 0A 00 00 00 00 00 00</td>\n      <td>1</td>\n    </tr>\n    <tr>\n      <th>8669659</th>\n      <td>1.726216e+12</td>\n      <td>0000006a</td>\n      <td>D</td>\n      <td>00 00 00 00 00 00 00 0A 00 00 00 00 00 00</td>\n      <td>1</td>\n    </tr>\n  </tbody>\n</table>\n<p>200000 rows × 5 columns</p>\n</div>"
     },
     "execution_count": 6,
     "metadata": {},
     "output_type": "execute_result"
    }
   ],
   "source": [
    "a[a['ID'] == '0000006a']"
   ],
   "metadata": {
    "collapsed": false,
    "ExecuteTime": {
     "end_time": "2024-11-04T06:30:29.021745700Z",
     "start_time": "2024-11-04T06:30:28.920596Z"
    }
   }
  },
  {
   "cell_type": "code",
   "execution_count": 7,
   "outputs": [],
   "source": [
    "dataset = pd.read_csv('data/carnival_stopped_data.csv')"
   ],
   "metadata": {
    "collapsed": false,
    "ExecuteTime": {
     "end_time": "2024-11-04T06:32:50.918636400Z",
     "start_time": "2024-11-04T06:32:43.353547900Z"
    }
   }
  },
  {
   "cell_type": "code",
   "execution_count": 8,
   "outputs": [
    {
     "data": {
      "text/plain": "            Timestamp        ID  DLC                  Payload  label\n23       1.730424e+12  00000417    8  2A 50 00 95 30 00 00 00      0\n391      1.730424e+12  00000417    8  2A 50 00 95 30 00 00 00      0\n757      1.730424e+12  00000417    8  2A 50 00 95 30 00 00 00      0\n1125     1.730424e+12  00000417    8  2A 50 00 95 30 00 00 00      0\n1492     1.730424e+12  00000417    8  2A 50 00 95 30 00 00 00      0\n...               ...       ...  ...                      ...    ...\n6646872  1.730427e+12  00000417    8  2A 50 00 95 30 00 00 00      0\n6647242  1.730427e+12  00000417    8  2A 50 00 95 30 00 00 00      0\n6647609  1.730427e+12  00000417    8  2A 50 00 95 30 00 00 00      0\n6647978  1.730427e+12  00000417    8  2A 50 00 95 30 00 00 00      0\n6648346  1.730427e+12  00000417    8  2A 50 00 95 30 00 00 00      0\n\n[18025 rows x 5 columns]",
      "text/html": "<div>\n<style scoped>\n    .dataframe tbody tr th:only-of-type {\n        vertical-align: middle;\n    }\n\n    .dataframe tbody tr th {\n        vertical-align: top;\n    }\n\n    .dataframe thead th {\n        text-align: right;\n    }\n</style>\n<table border=\"1\" class=\"dataframe\">\n  <thead>\n    <tr style=\"text-align: right;\">\n      <th></th>\n      <th>Timestamp</th>\n      <th>ID</th>\n      <th>DLC</th>\n      <th>Payload</th>\n      <th>label</th>\n    </tr>\n  </thead>\n  <tbody>\n    <tr>\n      <th>23</th>\n      <td>1.730424e+12</td>\n      <td>00000417</td>\n      <td>8</td>\n      <td>2A 50 00 95 30 00 00 00</td>\n      <td>0</td>\n    </tr>\n    <tr>\n      <th>391</th>\n      <td>1.730424e+12</td>\n      <td>00000417</td>\n      <td>8</td>\n      <td>2A 50 00 95 30 00 00 00</td>\n      <td>0</td>\n    </tr>\n    <tr>\n      <th>757</th>\n      <td>1.730424e+12</td>\n      <td>00000417</td>\n      <td>8</td>\n      <td>2A 50 00 95 30 00 00 00</td>\n      <td>0</td>\n    </tr>\n    <tr>\n      <th>1125</th>\n      <td>1.730424e+12</td>\n      <td>00000417</td>\n      <td>8</td>\n      <td>2A 50 00 95 30 00 00 00</td>\n      <td>0</td>\n    </tr>\n    <tr>\n      <th>1492</th>\n      <td>1.730424e+12</td>\n      <td>00000417</td>\n      <td>8</td>\n      <td>2A 50 00 95 30 00 00 00</td>\n      <td>0</td>\n    </tr>\n    <tr>\n      <th>...</th>\n      <td>...</td>\n      <td>...</td>\n      <td>...</td>\n      <td>...</td>\n      <td>...</td>\n    </tr>\n    <tr>\n      <th>6646872</th>\n      <td>1.730427e+12</td>\n      <td>00000417</td>\n      <td>8</td>\n      <td>2A 50 00 95 30 00 00 00</td>\n      <td>0</td>\n    </tr>\n    <tr>\n      <th>6647242</th>\n      <td>1.730427e+12</td>\n      <td>00000417</td>\n      <td>8</td>\n      <td>2A 50 00 95 30 00 00 00</td>\n      <td>0</td>\n    </tr>\n    <tr>\n      <th>6647609</th>\n      <td>1.730427e+12</td>\n      <td>00000417</td>\n      <td>8</td>\n      <td>2A 50 00 95 30 00 00 00</td>\n      <td>0</td>\n    </tr>\n    <tr>\n      <th>6647978</th>\n      <td>1.730427e+12</td>\n      <td>00000417</td>\n      <td>8</td>\n      <td>2A 50 00 95 30 00 00 00</td>\n      <td>0</td>\n    </tr>\n    <tr>\n      <th>6648346</th>\n      <td>1.730427e+12</td>\n      <td>00000417</td>\n      <td>8</td>\n      <td>2A 50 00 95 30 00 00 00</td>\n      <td>0</td>\n    </tr>\n  </tbody>\n</table>\n<p>18025 rows × 5 columns</p>\n</div>"
     },
     "execution_count": 8,
     "metadata": {},
     "output_type": "execute_result"
    }
   ],
   "source": [
    "dataset[dataset['ID'] == '00000417']"
   ],
   "metadata": {
    "collapsed": false,
    "ExecuteTime": {
     "end_time": "2024-11-04T06:32:52.326974Z",
     "start_time": "2024-11-04T06:32:52.045976Z"
    }
   }
  },
  {
   "cell_type": "code",
   "execution_count": 9,
   "outputs": [
    {
     "data": {
      "text/plain": "            Timestamp        ID  DLC  \\\n14       1.730424e+12  0000006A   20   \n44       1.730424e+12  0000006A   20   \n59       1.730424e+12  0000006A   20   \n79       1.730424e+12  0000006A   20   \n94       1.730424e+12  0000006A   20   \n...               ...       ...  ...   \n6648334  1.730427e+12  0000006A   20   \n6648360  1.730427e+12  0000006A   20   \n6648376  1.730427e+12  0000006A   20   \n6648397  1.730427e+12  0000006A   20   \n6648416  1.730427e+12  0000006A   20   \n\n                                                   Payload  label  \n14       41 9A A9 93 0B 4C 93 0B 50 01 00 00 00 E1 02 0...      0  \n44       3D FB AA 97 0B 4C 97 0B 50 01 00 00 00 E1 02 0...      0  \n59       F6 46 AB 93 0B 4C 93 0B 50 01 00 00 00 E2 02 0...      0  \n79       82 B2 AC 8C 0B 4C 8C 0B 50 01 00 00 00 E2 02 0...      0  \n94       AE 4E AD 95 0B 4C 95 0B 50 01 00 00 00 E2 02 0...      0  \n...                                                    ...    ...  \n6648334  46 4A CC 87 0B 62 87 0B 50 01 00 00 00 E7 02 0...      0  \n6648360  BD B9 CD 86 0B 62 86 0B 50 01 00 00 00 E7 02 0...      0  \n6648376  9C F4 CE 89 0B 62 89 0B 50 01 00 00 00 E8 02 0...      0  \n6648397  7A 67 CF 87 0B 62 87 0B 50 01 00 00 00 E8 02 0...      0  \n6648416  FE 36 D0 8B 0B 62 8B 0B 50 01 00 00 00 EB 02 0...      0  \n\n[360488 rows x 5 columns]",
      "text/html": "<div>\n<style scoped>\n    .dataframe tbody tr th:only-of-type {\n        vertical-align: middle;\n    }\n\n    .dataframe tbody tr th {\n        vertical-align: top;\n    }\n\n    .dataframe thead th {\n        text-align: right;\n    }\n</style>\n<table border=\"1\" class=\"dataframe\">\n  <thead>\n    <tr style=\"text-align: right;\">\n      <th></th>\n      <th>Timestamp</th>\n      <th>ID</th>\n      <th>DLC</th>\n      <th>Payload</th>\n      <th>label</th>\n    </tr>\n  </thead>\n  <tbody>\n    <tr>\n      <th>14</th>\n      <td>1.730424e+12</td>\n      <td>0000006A</td>\n      <td>20</td>\n      <td>41 9A A9 93 0B 4C 93 0B 50 01 00 00 00 E1 02 0...</td>\n      <td>0</td>\n    </tr>\n    <tr>\n      <th>44</th>\n      <td>1.730424e+12</td>\n      <td>0000006A</td>\n      <td>20</td>\n      <td>3D FB AA 97 0B 4C 97 0B 50 01 00 00 00 E1 02 0...</td>\n      <td>0</td>\n    </tr>\n    <tr>\n      <th>59</th>\n      <td>1.730424e+12</td>\n      <td>0000006A</td>\n      <td>20</td>\n      <td>F6 46 AB 93 0B 4C 93 0B 50 01 00 00 00 E2 02 0...</td>\n      <td>0</td>\n    </tr>\n    <tr>\n      <th>79</th>\n      <td>1.730424e+12</td>\n      <td>0000006A</td>\n      <td>20</td>\n      <td>82 B2 AC 8C 0B 4C 8C 0B 50 01 00 00 00 E2 02 0...</td>\n      <td>0</td>\n    </tr>\n    <tr>\n      <th>94</th>\n      <td>1.730424e+12</td>\n      <td>0000006A</td>\n      <td>20</td>\n      <td>AE 4E AD 95 0B 4C 95 0B 50 01 00 00 00 E2 02 0...</td>\n      <td>0</td>\n    </tr>\n    <tr>\n      <th>...</th>\n      <td>...</td>\n      <td>...</td>\n      <td>...</td>\n      <td>...</td>\n      <td>...</td>\n    </tr>\n    <tr>\n      <th>6648334</th>\n      <td>1.730427e+12</td>\n      <td>0000006A</td>\n      <td>20</td>\n      <td>46 4A CC 87 0B 62 87 0B 50 01 00 00 00 E7 02 0...</td>\n      <td>0</td>\n    </tr>\n    <tr>\n      <th>6648360</th>\n      <td>1.730427e+12</td>\n      <td>0000006A</td>\n      <td>20</td>\n      <td>BD B9 CD 86 0B 62 86 0B 50 01 00 00 00 E7 02 0...</td>\n      <td>0</td>\n    </tr>\n    <tr>\n      <th>6648376</th>\n      <td>1.730427e+12</td>\n      <td>0000006A</td>\n      <td>20</td>\n      <td>9C F4 CE 89 0B 62 89 0B 50 01 00 00 00 E8 02 0...</td>\n      <td>0</td>\n    </tr>\n    <tr>\n      <th>6648397</th>\n      <td>1.730427e+12</td>\n      <td>0000006A</td>\n      <td>20</td>\n      <td>7A 67 CF 87 0B 62 87 0B 50 01 00 00 00 E8 02 0...</td>\n      <td>0</td>\n    </tr>\n    <tr>\n      <th>6648416</th>\n      <td>1.730427e+12</td>\n      <td>0000006A</td>\n      <td>20</td>\n      <td>FE 36 D0 8B 0B 62 8B 0B 50 01 00 00 00 EB 02 0...</td>\n      <td>0</td>\n    </tr>\n  </tbody>\n</table>\n<p>360488 rows × 5 columns</p>\n</div>"
     },
     "execution_count": 9,
     "metadata": {},
     "output_type": "execute_result"
    }
   ],
   "source": [
    "dataset[dataset['ID'] == '0000006A']"
   ],
   "metadata": {
    "collapsed": false,
    "ExecuteTime": {
     "end_time": "2024-11-04T06:33:06.967584400Z",
     "start_time": "2024-11-04T06:33:06.589584400Z"
    }
   }
  }
 ],
 "metadata": {
  "kernelspec": {
   "display_name": "Python 3 (ipykernel)",
   "language": "python",
   "name": "python3"
  },
  "language_info": {
   "codemirror_mode": {
    "name": "ipython",
    "version": 3
   },
   "file_extension": ".py",
   "mimetype": "text/x-python",
   "name": "python",
   "nbconvert_exporter": "python",
   "pygments_lexer": "ipython3",
   "version": "3.9.18"
  }
 },
 "nbformat": 4,
 "nbformat_minor": 4
}
