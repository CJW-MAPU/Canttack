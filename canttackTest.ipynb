{
 "cells": [
  {
   "cell_type": "code",
   "execution_count": 24,
   "outputs": [],
   "source": [
    "from tqdm import tqdm"
   ],
   "metadata": {
    "collapsed": false
   }
  },
  {
   "cell_type": "code",
   "execution_count": 25,
   "metadata": {
    "collapsed": true
   },
   "outputs": [],
   "source": [
    "f = open('can-fd_driving.txt')"
   ]
  },
  {
   "cell_type": "code",
   "execution_count": 26,
   "outputs": [
    {
     "name": "stderr",
     "output_type": "stream",
     "text": [
      "100%|█████████▉| 22806643/22806644 [00:05<00:00, 4449337.12it/s]"
     ]
    },
    {
     "name": "stdout",
     "output_type": "stream",
     "text": [
      "Logging stopped.\n",
      "\n"
     ]
    },
    {
     "name": "stderr",
     "output_type": "stream",
     "text": [
      "\n"
     ]
    }
   ],
   "source": [
    "a = f.readlines()\n",
    "last = len(a)\n",
    "counter = 0\n",
    "for line in tqdm(a, leave = True):\n",
    "    if counter == last - 1:\n",
    "        print(line)\n",
    "        break\n",
    "    counter += 1"
   ],
   "metadata": {
    "collapsed": false
   }
  },
  {
   "cell_type": "code",
   "execution_count": 57,
   "outputs": [
    {
     "data": {
      "text/plain": "[array([1, 2, 3]), array([2, 3, 4])]"
     },
     "execution_count": 57,
     "metadata": {},
     "output_type": "execute_result"
    }
   ],
   "source": [
    "import numpy as np\n",
    "\n",
    "a = list()\n",
    "a.append(np.array([1, 2, 3]))\n",
    "a.append(np.array([2, 3, 4]))\n",
    "a"
   ],
   "metadata": {
    "collapsed": false
   }
  },
  {
   "cell_type": "code",
   "execution_count": null,
   "outputs": [],
   "source": [],
   "metadata": {
    "collapsed": false
   }
  },
  {
   "cell_type": "code",
   "execution_count": 58,
   "outputs": [
    {
     "data": {
      "text/plain": "[array([1, 2, 3]), array([2, 3, 4, 5, 6])]"
     },
     "execution_count": 58,
     "metadata": {},
     "output_type": "execute_result"
    }
   ],
   "source": [
    "a[-1] = np.concatenate([a[-1], np.array([5, 6])])\n",
    "a"
   ],
   "metadata": {
    "collapsed": false
   }
  },
  {
   "cell_type": "code",
   "execution_count": 60,
   "outputs": [],
   "source": [
    "np.put(a[-1], -1, 10)"
   ],
   "metadata": {
    "collapsed": false
   }
  },
  {
   "cell_type": "code",
   "execution_count": 1,
   "outputs": [
    {
     "ename": "NameError",
     "evalue": "name 'a' is not defined",
     "output_type": "error",
     "traceback": [
      "\u001B[0;31m---------------------------------------------------------------------------\u001B[0m",
      "\u001B[0;31mNameError\u001B[0m                                 Traceback (most recent call last)",
      "Input \u001B[0;32mIn [1]\u001B[0m, in \u001B[0;36m<cell line: 1>\u001B[0;34m()\u001B[0m\n\u001B[0;32m----> 1\u001B[0m \u001B[43ma\u001B[49m\n",
      "\u001B[0;31mNameError\u001B[0m: name 'a' is not defined"
     ]
    }
   ],
   "source": [
    "a"
   ],
   "metadata": {
    "collapsed": false
   }
  },
  {
   "cell_type": "code",
   "execution_count": 2,
   "outputs": [],
   "source": [
    "import json"
   ],
   "metadata": {
    "collapsed": false
   }
  },
  {
   "cell_type": "code",
   "execution_count": 4,
   "outputs": [],
   "source": [
    "with open('DefaultPayload.json', 'r') as file:\n",
    "    jsonfile = json.load(file)"
   ],
   "metadata": {
    "collapsed": false
   }
  },
  {
   "cell_type": "code",
   "execution_count": 11,
   "outputs": [],
   "source": [
    "data = jsonfile['can']['dos']"
   ],
   "metadata": {
    "collapsed": false
   }
  },
  {
   "cell_type": "code",
   "execution_count": 1,
   "outputs": [
    {
     "ename": "NameError",
     "evalue": "name 'data' is not defined",
     "output_type": "error",
     "traceback": [
      "\u001B[0;31m---------------------------------------------------------------------------\u001B[0m",
      "\u001B[0;31mNameError\u001B[0m                                 Traceback (most recent call last)",
      "Input \u001B[0;32mIn [1]\u001B[0m, in \u001B[0;36m<cell line: 1>\u001B[0;34m()\u001B[0m\n\u001B[0;32m----> 1\u001B[0m \u001B[43mdata\u001B[49m[\u001B[38;5;124m'\u001B[39m\u001B[38;5;124mpayload\u001B[39m\u001B[38;5;124m'\u001B[39m]\n",
      "\u001B[0;31mNameError\u001B[0m: name 'data' is not defined"
     ]
    }
   ],
   "source": [
    "data['payload']"
   ],
   "metadata": {
    "collapsed": false
   }
  },
  {
   "cell_type": "code",
   "execution_count": 21,
   "outputs": [],
   "source": [
    "import pandas"
   ],
   "metadata": {
    "collapsed": false
   }
  },
  {
   "cell_type": "code",
   "execution_count": 22,
   "outputs": [],
   "source": [
    "data = pandas.read_csv('can-fd_replay_dummy.csv')"
   ],
   "metadata": {
    "collapsed": false
   }
  },
  {
   "cell_type": "code",
   "execution_count": 23,
   "outputs": [
    {
     "data": {
      "text/plain": "     Timestamp        ID  DLC Flg Dir  \\\n0   2179.53603  00000145   20  FB   R   \n1   2179.53622  000000EA   18  FB   R   \n2   2179.53709  00000040   20  FB   R   \n3   2179.53731  0000006A   20  FB   R   \n4   2179.53800  00000060   20  FB   R   \n5   2179.53819  000000B0   18  FB   R   \n6   2179.53841  000000B5   20  FB   R   \n7   2179.53871  00000100   20  FB   R   \n8   2179.53890  0000006F    8  FB   R   \n9   2179.53930  00000125   10  FB   R   \n10  2179.53951  00000140    8  FB   R   \n11  2179.53997  0000012A   10  FB   R   \n12  2179.54012  0000011A   10  FB   R   \n13  2179.54052  00000155   10  FB   R   \n14  2179.54074  0000004A   20  FB   R   \n15  2179.54162  0000007A   18  FB   R   \n16  2179.54181  000000A5   18  FB   R   \n17  2179.54290  00000065   18  FB   R   \n18  2179.54327  000000A0   18  FB   R   \n19  2179.54443  000001AA   10  FB   R   \n\n                                              Payload  label  \n0   14 D7 18 10 01 00 00 00 00 00 00 00 00 00 00 0...      1  \n1   B5 65 DD 10 41 43 00 00 F5 07 E7 0F EB FF 00 0...      1  \n2   82 46 DA 00 10 FF 07 08 00 00 FF 07 00 00 FF 0...      1  \n3   B1 69 DA EC 08 7A F0 08 00 00 00 00 00 3E 02 0...      1  \n4   56 3C 4B 00 00 00 00 00 02 02 00 02 40 FF 00 F...      1  \n5   EC 22 4B 64 64 64 64 00 00 B8 0B 00 00 00 00 0...      1  \n6   94 0B E3 1C 00 7F 1F 00 1C 00 1C 00 00 00 2C 0...      1  \n7   46 99 E3 00 10 CB 80 6C 40 00 25 00 00 00 00 5...      1  \n8                             42 64 4B 00 00 00 00 00      1  \n9     DD 6F 41 EE FF 00 07 00 00 00 00 00 00 00 00 00      1  \n10                            19 4F 27 41 80 00 00 00      1  \n11    24 63 3A 02 40 00 08 00 00 00 01 00 00 64 00 00      1  \n12    27 66 3A 00 80 00 A8 02 00 04 08 00 00 00 00 00      1  \n13    E3 AF D2 13 00 00 00 00 00 00 00 00 00 00 00 00      1  \n14  63 5B D1 00 00 00 02 00 FB 7F 9B 7F 15 7D 68 0...      1  \n15  25 11 4C 8E 8E 8E 8E 00 00 00 00 00 00 00 00 0...      1  \n16  73 C2 4C FE D1 1F F9 01 00 22 20 00 00 00 00 0...      1  \n17  EB BE 4B 00 00 F2 FF 10 00 00 00 00 00 00 00 0...      1  \n18  23 51 4B 3C D9 6D 34 00 00 00 00 00 00 00 00 0...      1  \n19    89 77 34 10 00 A0 00 08 00 00 00 00 00 00 00 00      1  ",
      "text/html": "<div>\n<style scoped>\n    .dataframe tbody tr th:only-of-type {\n        vertical-align: middle;\n    }\n\n    .dataframe tbody tr th {\n        vertical-align: top;\n    }\n\n    .dataframe thead th {\n        text-align: right;\n    }\n</style>\n<table border=\"1\" class=\"dataframe\">\n  <thead>\n    <tr style=\"text-align: right;\">\n      <th></th>\n      <th>Timestamp</th>\n      <th>ID</th>\n      <th>DLC</th>\n      <th>Flg</th>\n      <th>Dir</th>\n      <th>Payload</th>\n      <th>label</th>\n    </tr>\n  </thead>\n  <tbody>\n    <tr>\n      <th>0</th>\n      <td>2179.53603</td>\n      <td>00000145</td>\n      <td>20</td>\n      <td>FB</td>\n      <td>R</td>\n      <td>14 D7 18 10 01 00 00 00 00 00 00 00 00 00 00 0...</td>\n      <td>1</td>\n    </tr>\n    <tr>\n      <th>1</th>\n      <td>2179.53622</td>\n      <td>000000EA</td>\n      <td>18</td>\n      <td>FB</td>\n      <td>R</td>\n      <td>B5 65 DD 10 41 43 00 00 F5 07 E7 0F EB FF 00 0...</td>\n      <td>1</td>\n    </tr>\n    <tr>\n      <th>2</th>\n      <td>2179.53709</td>\n      <td>00000040</td>\n      <td>20</td>\n      <td>FB</td>\n      <td>R</td>\n      <td>82 46 DA 00 10 FF 07 08 00 00 FF 07 00 00 FF 0...</td>\n      <td>1</td>\n    </tr>\n    <tr>\n      <th>3</th>\n      <td>2179.53731</td>\n      <td>0000006A</td>\n      <td>20</td>\n      <td>FB</td>\n      <td>R</td>\n      <td>B1 69 DA EC 08 7A F0 08 00 00 00 00 00 3E 02 0...</td>\n      <td>1</td>\n    </tr>\n    <tr>\n      <th>4</th>\n      <td>2179.53800</td>\n      <td>00000060</td>\n      <td>20</td>\n      <td>FB</td>\n      <td>R</td>\n      <td>56 3C 4B 00 00 00 00 00 02 02 00 02 40 FF 00 F...</td>\n      <td>1</td>\n    </tr>\n    <tr>\n      <th>5</th>\n      <td>2179.53819</td>\n      <td>000000B0</td>\n      <td>18</td>\n      <td>FB</td>\n      <td>R</td>\n      <td>EC 22 4B 64 64 64 64 00 00 B8 0B 00 00 00 00 0...</td>\n      <td>1</td>\n    </tr>\n    <tr>\n      <th>6</th>\n      <td>2179.53841</td>\n      <td>000000B5</td>\n      <td>20</td>\n      <td>FB</td>\n      <td>R</td>\n      <td>94 0B E3 1C 00 7F 1F 00 1C 00 1C 00 00 00 2C 0...</td>\n      <td>1</td>\n    </tr>\n    <tr>\n      <th>7</th>\n      <td>2179.53871</td>\n      <td>00000100</td>\n      <td>20</td>\n      <td>FB</td>\n      <td>R</td>\n      <td>46 99 E3 00 10 CB 80 6C 40 00 25 00 00 00 00 5...</td>\n      <td>1</td>\n    </tr>\n    <tr>\n      <th>8</th>\n      <td>2179.53890</td>\n      <td>0000006F</td>\n      <td>8</td>\n      <td>FB</td>\n      <td>R</td>\n      <td>42 64 4B 00 00 00 00 00</td>\n      <td>1</td>\n    </tr>\n    <tr>\n      <th>9</th>\n      <td>2179.53930</td>\n      <td>00000125</td>\n      <td>10</td>\n      <td>FB</td>\n      <td>R</td>\n      <td>DD 6F 41 EE FF 00 07 00 00 00 00 00 00 00 00 00</td>\n      <td>1</td>\n    </tr>\n    <tr>\n      <th>10</th>\n      <td>2179.53951</td>\n      <td>00000140</td>\n      <td>8</td>\n      <td>FB</td>\n      <td>R</td>\n      <td>19 4F 27 41 80 00 00 00</td>\n      <td>1</td>\n    </tr>\n    <tr>\n      <th>11</th>\n      <td>2179.53997</td>\n      <td>0000012A</td>\n      <td>10</td>\n      <td>FB</td>\n      <td>R</td>\n      <td>24 63 3A 02 40 00 08 00 00 00 01 00 00 64 00 00</td>\n      <td>1</td>\n    </tr>\n    <tr>\n      <th>12</th>\n      <td>2179.54012</td>\n      <td>0000011A</td>\n      <td>10</td>\n      <td>FB</td>\n      <td>R</td>\n      <td>27 66 3A 00 80 00 A8 02 00 04 08 00 00 00 00 00</td>\n      <td>1</td>\n    </tr>\n    <tr>\n      <th>13</th>\n      <td>2179.54052</td>\n      <td>00000155</td>\n      <td>10</td>\n      <td>FB</td>\n      <td>R</td>\n      <td>E3 AF D2 13 00 00 00 00 00 00 00 00 00 00 00 00</td>\n      <td>1</td>\n    </tr>\n    <tr>\n      <th>14</th>\n      <td>2179.54074</td>\n      <td>0000004A</td>\n      <td>20</td>\n      <td>FB</td>\n      <td>R</td>\n      <td>63 5B D1 00 00 00 02 00 FB 7F 9B 7F 15 7D 68 0...</td>\n      <td>1</td>\n    </tr>\n    <tr>\n      <th>15</th>\n      <td>2179.54162</td>\n      <td>0000007A</td>\n      <td>18</td>\n      <td>FB</td>\n      <td>R</td>\n      <td>25 11 4C 8E 8E 8E 8E 00 00 00 00 00 00 00 00 0...</td>\n      <td>1</td>\n    </tr>\n    <tr>\n      <th>16</th>\n      <td>2179.54181</td>\n      <td>000000A5</td>\n      <td>18</td>\n      <td>FB</td>\n      <td>R</td>\n      <td>73 C2 4C FE D1 1F F9 01 00 22 20 00 00 00 00 0...</td>\n      <td>1</td>\n    </tr>\n    <tr>\n      <th>17</th>\n      <td>2179.54290</td>\n      <td>00000065</td>\n      <td>18</td>\n      <td>FB</td>\n      <td>R</td>\n      <td>EB BE 4B 00 00 F2 FF 10 00 00 00 00 00 00 00 0...</td>\n      <td>1</td>\n    </tr>\n    <tr>\n      <th>18</th>\n      <td>2179.54327</td>\n      <td>000000A0</td>\n      <td>18</td>\n      <td>FB</td>\n      <td>R</td>\n      <td>23 51 4B 3C D9 6D 34 00 00 00 00 00 00 00 00 0...</td>\n      <td>1</td>\n    </tr>\n    <tr>\n      <th>19</th>\n      <td>2179.54443</td>\n      <td>000001AA</td>\n      <td>10</td>\n      <td>FB</td>\n      <td>R</td>\n      <td>89 77 34 10 00 A0 00 08 00 00 00 00 00 00 00 00</td>\n      <td>1</td>\n    </tr>\n  </tbody>\n</table>\n</div>"
     },
     "execution_count": 23,
     "metadata": {},
     "output_type": "execute_result"
    }
   ],
   "source": [
    "data"
   ],
   "metadata": {
    "collapsed": false
   }
  },
  {
   "cell_type": "code",
   "execution_count": 15,
   "outputs": [],
   "source": [
    "data['label'] = [1 for _ in range(len(data))]"
   ],
   "metadata": {
    "collapsed": false
   }
  },
  {
   "cell_type": "code",
   "execution_count": 17,
   "outputs": [],
   "source": [
    "data['Timestamp'] = data['Timestamp'] + 0.1"
   ],
   "metadata": {
    "collapsed": false
   }
  },
  {
   "cell_type": "code",
   "execution_count": 19,
   "outputs": [],
   "source": [
    "data.to_csv('can-fd_replay_dummy.csv', sep = ',', index = False)"
   ],
   "metadata": {
    "collapsed": false
   }
  },
  {
   "cell_type": "code",
   "execution_count": null,
   "outputs": [],
   "source": [],
   "metadata": {
    "collapsed": false
   }
  }
 ],
 "metadata": {
  "kernelspec": {
   "display_name": "Python 3",
   "language": "python",
   "name": "python3"
  },
  "language_info": {
   "codemirror_mode": {
    "name": "ipython",
    "version": 2
   },
   "file_extension": ".py",
   "mimetype": "text/x-python",
   "name": "python",
   "nbconvert_exporter": "python",
   "pygments_lexer": "ipython2",
   "version": "2.7.6"
  }
 },
 "nbformat": 4,
 "nbformat_minor": 0
}
